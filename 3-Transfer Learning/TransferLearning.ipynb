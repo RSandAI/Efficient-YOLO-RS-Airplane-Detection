{
  "nbformat": 4,
  "nbformat_minor": 0,
  "metadata": {
    "colab": {
      "provenance": [],
      "gpuType": "A100",
      "collapsed_sections": [
        "o5fqOgKeWKX0",
        "LojCdFYabrWQ",
        "nVty3iE-YHtg",
        "s9XPnuLVgAgx",
        "G1VIG02aO36M",
        "xu0_jiA8PN2x",
        "kf3r-meGg4pj",
        "bIPMTw3c9BV1"
      ],
      "toc_visible": true
    },
    "kernelspec": {
      "name": "python3",
      "display_name": "Python 3"
    },
    "language_info": {
      "name": "python"
    },
    "accelerator": "GPU"
  },
  "cells": [
    {
      "cell_type": "markdown",
      "source": [
        "# **Transfer Learning Experiments: Generalization with CORS-ADD-HBB Data**\n",
        "\n",
        "<p align=\"center\">\n",
        "    <img src=\"https://github.com/RSandAI/Comprehensive-YOLO-Airplane-Detection/blob/main/assets/image.png\" height=450 width=1280 alt=\"\"/>\n",
        "</p>\n",
        "\n",
        "<small>Picture Source: <a href=\"https://github.com/RSandAI/Comprehensive-YOLO-Airplane-Detection/\">RSandAI, Comprehensive YOLO Airplane Detection</a></small>\n",
        "\n",
        "<br>"
      ],
      "metadata": {
        "id": "SlPhpyI6HS7W"
      }
    },
    {
      "cell_type": "markdown",
      "source": [
        "## **Introduction**\n",
        "Transfer learning, a technique widely employed in the domain of computer vision, involves leveraging knowledge from pre-trained models on one task to improve performance on a related task. In this experiment, we explore the efficacy of transfer learning with the CORS-ADD-HBB dataset to enhance the generalization capabilities of YOLOv8 and YOLOv9 architectures originally trained on the HRPlanes dataset.\n"
      ],
      "metadata": {
        "id": "YHTGzzuXc5sC"
      }
    },
    {
      "cell_type": "markdown",
      "source": [
        "## **Dataset Description**\n",
        "The CORS-ADD-HBB dataset serves as a diverse and comprehensive testbed for evaluating model robustness and adaptability across various domains. Its curated collection of data points encompasses a wide range of scenarios, facilitating a rigorous assessment of model generalization.\n",
        "\n"
      ],
      "metadata": {
        "id": "ti18wv38c1NW"
      }
    },
    {
      "cell_type": "markdown",
      "source": [
        "## **Model Initialization**\n",
        "We initialize the YOLOv8 and YOLOv9 models with weights pre-trained on the HRPlanes dataset. These pre-trained models have learned rich representations of objects within Very High Resolution (VHR) Google Earth images, providing a strong starting point for transfer learning."
      ],
      "metadata": {
        "id": "eetVZXndc3US"
      }
    },
    {
      "cell_type": "markdown",
      "source": [
        "## **Transfer Learning Process**\n",
        "\n",
        "Rather than fine-tuning the entire model, we adopt a transfer learning approach where we freeze the weights of the initial layers and only update the weights of the final classification layers. This allows us to transfer knowledge from the HRPlanes dataset to the CORS-ADD-HBB dataset while minimizing the risk of overfitting."
      ],
      "metadata": {
        "id": "1wv2ZyFmdDyk"
      }
    },
    {
      "cell_type": "markdown",
      "source": [
        "## **Experiment Setup**\n",
        "1. **Dataset Preparation**: The CORS-ADD-HBB dataset is utilized as the target domain data for transfer learning.\n",
        "2. **Model Initialization**: We initialize the YOLOv8 and YOLOv9 models with pre-trained weights from the HRPlanes dataset.\n",
        "3. **Transfer Learning**: The weights of the final classification layers are fine-tuned using the CORS-ADD-HBB dataset while keeping the initial layers frozen.\n",
        "4. **Training**: We train the models for 5 epochs to allow them to adapt to the nuances of the new dataset."
      ],
      "metadata": {
        "id": "YUL4bfa7dIm-"
      }
    },
    {
      "cell_type": "markdown",
      "source": [
        "## **Evaluation**\n",
        "Post-transfer learning, we evaluate the performance of the models on the CORS-ADD-HBB test set to assess their generalization capabilities. Performance metrics such as precision, recall, and mean average precision (mAP) are computed for both YOLOv8 and YOLOv9 models."
      ],
      "metadata": {
        "id": "sz-CgCC9dK-J"
      }
    },
    {
      "cell_type": "markdown",
      "source": [
        "**Top 2 YOLOv8 Models:**\n",
        "\n",
        "| Rank | Experiment ID | Model | Network size | Optimizer | Augmentation | F1 Score | Precision | Recall | mAP50 | mAP75 | mAP50-95 |\n",
        "|--|--|--|--|--|--|--|--|--|--|--|--|\n",
        "| 1 | 12 | YOLOv8x | 960x960 | SGD | Hue (0.015) - Saturation (0.7) - Value (0.4) - Mosaic | 0.9932 | 0.9915 | 0.9950 | 0.9939 | 0.9925 | 0.8990 |\n",
        "| 2 | 32 | YOLOv8l | 960x960 | ADAMW | Hue (0.015) - Saturation (0.7) - Value (0.4) - Mosaic | 0.9930 | 0.9927 | 0.9933 | 0.9936 | 0.9887 | 0.9025 |\n",
        "| 3 | 30 | YOLOv8l | 960x960 | SGD | Hue (0.015) - Saturation (0.7) - Value (0.4) - Mosaic | 0.9922 | 0.9903 | 0.9940 | 0.9941 | 0.9917 | 0.9021 |\n",
        "\n",
        "<br>\n",
        "\n",
        "**Top 2 YOLOv9 Models:**\n",
        "\n",
        "| Rank | Experiment ID | Model | Network size | Optimizer | Augmentation | F1 Score | Precision | Recall | mAP50 | mAP50-95 |\n",
        "|--|--|--|--|--|--|--|--|--|--|--|\n",
        "| 1 | 58 | YOLOv9e | 640x640 | SGD | Hue (0.015) - Saturation (0.7) - Value (0.4) - Mosaic | 0.9917 | 0.9918 | 0.9916 | 0.9937 | 0.8989 |\n",
        "| 2 | 57 | YOLOv9e | 640x640 | SGD | None | 0.9899 | 0.9912 | 0.9886 | 0.9935 | 0.8982 |\n",
        "| 3 | 62 | YOLOv9e | 640x640 | ADAMW | Hue (0.015) - Saturation (0.7) - Value (0.4) - Mosaic | 0.9899 | 0.9891 | 0.9907 | 0.9936 | 0.8930 |\n",
        "\n",
        "<br>\n",
        "\n",
        "Make sure your runtime is **GPU** (_not_ CPU or TPU). And if it is an option, make sure you are using _Python 3_. You can select these settings by going to `Runtime -> Change runtime type -> Select the above mentioned settings and then press SAVE`."
      ],
      "metadata": {
        "id": "ugXS8sPHtd7_"
      }
    },
    {
      "cell_type": "markdown",
      "source": [
        "## **0. Initial Steps**"
      ],
      "metadata": {
        "id": "Uu7E5OCcH5SP"
      }
    },
    {
      "cell_type": "markdown",
      "source": [
        "### **0.1 Download Library**"
      ],
      "metadata": {
        "id": "o5fqOgKeWKX0"
      }
    },
    {
      "cell_type": "code",
      "source": [
        "!pip install ultralytics -q"
      ],
      "metadata": {
        "id": "HvzVM57-Czws",
        "colab": {
          "base_uri": "https://localhost:8080/"
        },
        "outputId": "1f87063a-7a8f-4b5d-8c05-9db7f584c010"
      },
      "execution_count": null,
      "outputs": [
        {
          "output_type": "stream",
          "name": "stdout",
          "text": [
            "\u001b[2K     \u001b[90m━━━━━━━━━━━━━━━━━━━━━━━━━━━━━━━━━━━━━━━━\u001b[0m \u001b[32m41.9/41.9 kB\u001b[0m \u001b[31m3.0 MB/s\u001b[0m eta \u001b[36m0:00:00\u001b[0m\n",
            "\u001b[2K   \u001b[90m━━━━━━━━━━━━━━━━━━━━━━━━━━━━━━━━━━━━━━━━\u001b[0m \u001b[32m871.9/871.9 kB\u001b[0m \u001b[31m51.2 MB/s\u001b[0m eta \u001b[36m0:00:00\u001b[0m\n",
            "\u001b[?25h"
          ]
        }
      ]
    },
    {
      "cell_type": "markdown",
      "source": [
        "### **0.2. Import Libraries and Connect Google Drive**"
      ],
      "metadata": {
        "id": "AQTm_EOwWQGB"
      }
    },
    {
      "cell_type": "code",
      "execution_count": null,
      "metadata": {
        "id": "qCgFeqUMAJKz",
        "colab": {
          "base_uri": "https://localhost:8080/"
        },
        "outputId": "60460f3e-d0fb-46eb-ebda-f15c790f2eb3"
      },
      "outputs": [
        {
          "output_type": "stream",
          "name": "stdout",
          "text": [
            "Mounted at /gdrive\n"
          ]
        }
      ],
      "source": [
        "from google.colab import drive\n",
        "drive.mount('/gdrive')"
      ]
    },
    {
      "cell_type": "code",
      "source": [
        "import matplotlib.pyplot as plt\n",
        "import numpy as np\n",
        "import shutil\n",
        "import seaborn as sns\n",
        "import os\n",
        "from ultralytics import YOLO"
      ],
      "metadata": {
        "id": "0DBKCj2i0wT3"
      },
      "execution_count": null,
      "outputs": []
    },
    {
      "cell_type": "markdown",
      "source": [
        "### **0.3. Define Paths of Model Weights**"
      ],
      "metadata": {
        "id": "WCYpMXZATGxj"
      }
    },
    {
      "cell_type": "code",
      "source": [
        "# @markdown ---\n",
        "\n",
        "# @markdown **YOLOv8 Models**\n",
        "\n",
        "MODEL_1_PT = '/gdrive/MyDrive/Datasets/HRPlanes/YOLOV8/YOLOv8x/Experiment_No_12/detect/train/weights/best.pt' # @param {type:\"string\"}\n",
        "MODEL_2_PT = '/gdrive/MyDrive/Datasets/HRPlanes/YOLOV8/YOLOv8l/Experiment_No_32/detect/train/weights/best.pt' # @param {type:\"string\"}\n",
        "MODEL_3_PT = '/gdrive/MyDrive/Datasets/HRPlanes/YOLOV8/YOLOv8l/Experiment_No_30/detect/train/weights/best.pt' # @param {type:\"string\"}\n",
        "\n",
        "# @markdown ---\n",
        "\n",
        "# @markdown **YOLOv9 Models**\n",
        "\n",
        "MODEL_4_PT = '/gdrive/MyDrive/Datasets/HRPlanes/YOLOV8/YOLOv9e/Experiment_No_58/epoch_75_100/runs/train/exp/weights/best.pt' # @param {type:\"string\"}\n",
        "MODEL_5_PT = '/gdrive/MyDrive/Datasets/HRPlanes/YOLOV8/YOLOv9e/Experiment_No_57/runs/train/exp/weights/best.pt' # @param {type:\"string\"}\n",
        "MODEL_6_PT = '/gdrive/MyDrive/Datasets/HRPlanes/YOLOV8/YOLOv9e/Experiment_No_62/epoch_75_100/runs/train/exp/weights/best.pt' # @param {type:\"string\"}\n"
      ],
      "metadata": {
        "cellView": "form",
        "id": "lf0vAyvupf2_"
      },
      "execution_count": null,
      "outputs": []
    },
    {
      "cell_type": "markdown",
      "source": [
        "## **1. Train and Validate Models with CORS-ADD-HBB Data**"
      ],
      "metadata": {
        "id": "8k2tR_67YGhK"
      }
    },
    {
      "cell_type": "markdown",
      "source": [
        "The A100 GPU is a powerful graphics processing unit (GPU) developed by NVIDIA. It is part of the NVIDIA Ampere architecture and is designed for high-performance computing tasks, including deep learning, data analytics, and scientific computing. The A100 GPU offers significant improvements in performance and efficiency compared to previous GPU models, making it ideal for demanding AI and machine learning applications."
      ],
      "metadata": {
        "id": "m40yO1p4WpAf"
      }
    },
    {
      "cell_type": "code",
      "source": [
        "!nvidia-smi"
      ],
      "metadata": {
        "id": "lcPubQct0hiZ",
        "colab": {
          "base_uri": "https://localhost:8080/"
        },
        "outputId": "7ff3e84c-7ff1-49ee-d9dc-c9a095914287"
      },
      "execution_count": null,
      "outputs": [
        {
          "output_type": "stream",
          "name": "stdout",
          "text": [
            "Fri Sep 13 08:38:03 2024       \n",
            "+---------------------------------------------------------------------------------------+\n",
            "| NVIDIA-SMI 535.104.05             Driver Version: 535.104.05   CUDA Version: 12.2     |\n",
            "|-----------------------------------------+----------------------+----------------------+\n",
            "| GPU  Name                 Persistence-M | Bus-Id        Disp.A | Volatile Uncorr. ECC |\n",
            "| Fan  Temp   Perf          Pwr:Usage/Cap |         Memory-Usage | GPU-Util  Compute M. |\n",
            "|                                         |                      |               MIG M. |\n",
            "|=========================================+======================+======================|\n",
            "|   0  NVIDIA A100-SXM4-40GB          Off | 00000000:00:04.0 Off |                    0 |\n",
            "| N/A   30C    P0              45W / 400W |      2MiB / 40960MiB |      0%      Default |\n",
            "|                                         |                      |             Disabled |\n",
            "+-----------------------------------------+----------------------+----------------------+\n",
            "                                                                                         \n",
            "+---------------------------------------------------------------------------------------+\n",
            "| Processes:                                                                            |\n",
            "|  GPU   GI   CI        PID   Type   Process name                            GPU Memory |\n",
            "|        ID   ID                                                             Usage      |\n",
            "|=======================================================================================|\n",
            "|  No running processes found                                                           |\n",
            "+---------------------------------------------------------------------------------------+\n"
          ]
        }
      ]
    },
    {
      "cell_type": "code",
      "source": [
        "def calculate_accuracy(TP, FN, FP):\n",
        "\n",
        "    accuracy = (TP) / (TP + FN + FP)\n",
        "\n",
        "    return accuracy"
      ],
      "metadata": {
        "id": "-aSI8NjBncd-"
      },
      "execution_count": null,
      "outputs": []
    },
    {
      "cell_type": "code",
      "source": [
        "HOME = os.getcwd()\n",
        "print(HOME)"
      ],
      "metadata": {
        "colab": {
          "base_uri": "https://localhost:8080/"
        },
        "id": "hJmOGEdVQeKF",
        "outputId": "937e4935-41a0-4ba7-962c-57f5bd857a91"
      },
      "execution_count": null,
      "outputs": [
        {
          "output_type": "stream",
          "name": "stdout",
          "text": [
            "/content\n"
          ]
        }
      ]
    },
    {
      "cell_type": "markdown",
      "source": [
        "### **1.1. Train and Validate Top YOLOv8 Models**"
      ],
      "metadata": {
        "id": "p1zSgcydOcKQ"
      }
    },
    {
      "cell_type": "markdown",
      "source": [
        "This section provides insights into the training and validation procedures applied to the top-performing YOLOv8 models utilizing the HRPlanes dataset. The models undergo training on a designated subset of the dataset, followed by validation on a distinct subset, ensuring their efficacy and reliability before further assessment."
      ],
      "metadata": {
        "id": "ThVmr-CwhOIw"
      }
    },
    {
      "cell_type": "markdown",
      "source": [
        "#### **1.1.1. Train and Validate Model 1**"
      ],
      "metadata": {
        "id": "LojCdFYabrWQ"
      }
    },
    {
      "cell_type": "code",
      "source": [
        "# @markdown ---\n",
        "\n",
        "IMAGE_SIZE = 640 # @param {type:\"integer\"}\n",
        "BATCH = 16 # @param {type:\"integer\"}\n",
        "LR = 0.001 # @param {type:\"number\"}\n",
        "OPTIMIZER = 'SGD' # @param {type:\"string\"}\n",
        "\n",
        "# @markdown ---\n",
        "\n",
        "HUE = 0.015 # @param {type:\"number\"}\n",
        "SATURATION = 0.7 # @param {type:\"number\"}\n",
        "VALUE = 0.4 # @param {type:\"number\"}\n",
        "MOSIAC = 1.0 # @param {type:\"number\"}\n",
        "\n",
        "# @markdown ---"
      ],
      "metadata": {
        "cellView": "form",
        "id": "HfWLBEjXXDys"
      },
      "execution_count": null,
      "outputs": []
    },
    {
      "cell_type": "code",
      "source": [
        "model = YOLO(MODEL_1_PT)"
      ],
      "metadata": {
        "id": "Gape4XP0Yrhh"
      },
      "execution_count": null,
      "outputs": []
    },
    {
      "cell_type": "code",
      "source": [
        "results = model.train(data='/gdrive/MyDrive/Datasets/HRPlanes/YOLOV8/5-Transfer Learning/coco_transfer_learning.yaml', epochs=20, imgsz=IMAGE_SIZE, batch=BATCH, lr0=LR, optimizer=OPTIMIZER, hsv_h=HUE, hsv_s=SATURATION, hsv_v=VALUE, mosaic=MOSIAC)"
      ],
      "metadata": {
        "colab": {
          "base_uri": "https://localhost:8080/"
        },
        "id": "kBoHhTFIYzuH",
        "outputId": "69e92cec-e64f-473c-9fdb-c151985efaa3"
      },
      "execution_count": null,
      "outputs": [
        {
          "output_type": "stream",
          "name": "stdout",
          "text": [
            "Ultralytics YOLOv8.2.32 🚀 Python-3.10.12 torch-2.3.0+cu121 CUDA:0 (NVIDIA A100-SXM4-40GB, 40514MiB)\n",
            "\u001b[34m\u001b[1mengine/trainer: \u001b[0mtask=detect, mode=train, model=/gdrive/MyDrive/Datasets/HRPlanes/YOLOV8/YOLOv8x/Experiment_No_12/detect/train/weights/best.pt, data=/gdrive/MyDrive/Datasets/HRPlanes/YOLOV8/5-Transfer Learning/coco_transfer_learning.yaml, epochs=20, time=None, patience=100, batch=16, imgsz=640, save=True, save_period=-1, cache=False, device=None, workers=8, project=None, name=train, exist_ok=False, pretrained=True, optimizer=SGD, verbose=True, seed=0, deterministic=True, single_cls=False, rect=False, cos_lr=False, close_mosaic=10, resume=False, amp=True, fraction=1.0, profile=False, freeze=None, multi_scale=False, overlap_mask=True, mask_ratio=4, dropout=0.0, val=True, split=val, save_json=False, save_hybrid=False, conf=None, iou=0.7, max_det=300, half=False, dnn=False, plots=True, source=None, vid_stride=1, stream_buffer=False, visualize=False, augment=False, agnostic_nms=False, classes=None, retina_masks=False, embed=None, show=False, save_frames=False, save_txt=False, save_conf=False, save_crop=False, show_labels=True, show_conf=True, show_boxes=True, line_width=None, format=torchscript, keras=False, optimize=False, int8=False, dynamic=False, simplify=False, opset=None, workspace=4, nms=False, lr0=0.001, lrf=0.01, momentum=0.937, weight_decay=0.0005, warmup_epochs=3.0, warmup_momentum=0.8, warmup_bias_lr=0.1, box=7.5, cls=0.5, dfl=1.5, pose=12.0, kobj=1.0, label_smoothing=0.0, nbs=64, hsv_h=0.015, hsv_s=0.7, hsv_v=0.4, degrees=0.0, translate=0.1, scale=0.5, shear=0.0, perspective=0.0, flipud=0.0, fliplr=0.5, bgr=0.0, mosaic=1.0, mixup=0.0, copy_paste=0.0, auto_augment=randaugment, erasing=0.4, crop_fraction=1.0, cfg=None, tracker=botsort.yaml, save_dir=runs/detect/train\n",
            "Downloading https://ultralytics.com/assets/Arial.ttf to '/root/.config/Ultralytics/Arial.ttf'...\n"
          ]
        },
        {
          "output_type": "stream",
          "name": "stderr",
          "text": [
            "100%|██████████| 755k/755k [00:00<00:00, 119MB/s]\n"
          ]
        },
        {
          "output_type": "stream",
          "name": "stdout",
          "text": [
            "\n",
            "                   from  n    params  module                                       arguments                     \n",
            "  0                  -1  1      2320  ultralytics.nn.modules.conv.Conv             [3, 80, 3, 2]                 \n",
            "  1                  -1  1    115520  ultralytics.nn.modules.conv.Conv             [80, 160, 3, 2]               \n",
            "  2                  -1  3    436800  ultralytics.nn.modules.block.C2f             [160, 160, 3, True]           \n",
            "  3                  -1  1    461440  ultralytics.nn.modules.conv.Conv             [160, 320, 3, 2]              \n",
            "  4                  -1  6   3281920  ultralytics.nn.modules.block.C2f             [320, 320, 6, True]           \n",
            "  5                  -1  1   1844480  ultralytics.nn.modules.conv.Conv             [320, 640, 3, 2]              \n",
            "  6                  -1  6  13117440  ultralytics.nn.modules.block.C2f             [640, 640, 6, True]           \n",
            "  7                  -1  1   3687680  ultralytics.nn.modules.conv.Conv             [640, 640, 3, 2]              \n",
            "  8                  -1  3   6969600  ultralytics.nn.modules.block.C2f             [640, 640, 3, True]           \n",
            "  9                  -1  1   1025920  ultralytics.nn.modules.block.SPPF            [640, 640, 5]                 \n",
            " 10                  -1  1         0  torch.nn.modules.upsampling.Upsample         [None, 2, 'nearest']          \n",
            " 11             [-1, 6]  1         0  ultralytics.nn.modules.conv.Concat           [1]                           \n",
            " 12                  -1  3   7379200  ultralytics.nn.modules.block.C2f             [1280, 640, 3]                \n",
            " 13                  -1  1         0  torch.nn.modules.upsampling.Upsample         [None, 2, 'nearest']          \n",
            " 14             [-1, 4]  1         0  ultralytics.nn.modules.conv.Concat           [1]                           \n",
            " 15                  -1  3   1948800  ultralytics.nn.modules.block.C2f             [960, 320, 3]                 \n",
            " 16                  -1  1    922240  ultralytics.nn.modules.conv.Conv             [320, 320, 3, 2]              \n",
            " 17            [-1, 12]  1         0  ultralytics.nn.modules.conv.Concat           [1]                           \n",
            " 18                  -1  3   7174400  ultralytics.nn.modules.block.C2f             [960, 640, 3]                 \n",
            " 19                  -1  1   3687680  ultralytics.nn.modules.conv.Conv             [640, 640, 3, 2]              \n",
            " 20             [-1, 9]  1         0  ultralytics.nn.modules.conv.Concat           [1]                           \n",
            " 21                  -1  3   7379200  ultralytics.nn.modules.block.C2f             [1280, 640, 3]                \n",
            " 22        [15, 18, 21]  1   8718931  ultralytics.nn.modules.head.Detect           [1, [320, 640, 640]]          \n",
            "Model summary: 365 layers, 68153571 parameters, 68153555 gradients, 258.1 GFLOPs\n",
            "\n",
            "Transferred 595/595 items from pretrained weights\n",
            "\u001b[34m\u001b[1mTensorBoard: \u001b[0mStart with 'tensorboard --logdir runs/detect/train', view at http://localhost:6006/\n",
            "Freezing layer 'model.22.dfl.conv.weight'\n",
            "\u001b[34m\u001b[1mAMP: \u001b[0mrunning Automatic Mixed Precision (AMP) checks with YOLOv8n...\n",
            "Downloading https://github.com/ultralytics/assets/releases/download/v8.2.0/yolov8n.pt to 'yolov8n.pt'...\n"
          ]
        },
        {
          "output_type": "stream",
          "name": "stderr",
          "text": [
            "100%|██████████| 6.23M/6.23M [00:00<00:00, 366MB/s]\n"
          ]
        },
        {
          "output_type": "stream",
          "name": "stdout",
          "text": [
            "\u001b[34m\u001b[1mAMP: \u001b[0mchecks passed ✅\n"
          ]
        },
        {
          "output_type": "stream",
          "name": "stderr",
          "text": [
            "\u001b[34m\u001b[1mtrain: \u001b[0mScanning /gdrive/.shortcut-targets-by-id/1vm60fy0ismvMuhLfvW5phF0J1b9OKLLf/HRPlanes/YOLOV8/CORS_AD_HBB/train/labels... 3764 images, 0 backgrounds, 0 corrupt: 100%|██████████| 3764/3764 [09:48<00:00,  6.40it/s]\n"
          ]
        },
        {
          "output_type": "stream",
          "name": "stdout",
          "text": [
            "\u001b[34m\u001b[1mtrain: \u001b[0mNew cache created: /gdrive/.shortcut-targets-by-id/1vm60fy0ismvMuhLfvW5phF0J1b9OKLLf/HRPlanes/YOLOV8/CORS_AD_HBB/train/labels.cache\n",
            "\u001b[34m\u001b[1malbumentations: \u001b[0mBlur(p=0.01, blur_limit=(3, 7)), MedianBlur(p=0.01, blur_limit=(3, 7)), ToGray(p=0.01), CLAHE(p=0.01, clip_limit=(1, 4.0), tile_grid_size=(8, 8))\n"
          ]
        },
        {
          "output_type": "stream",
          "name": "stderr",
          "text": [
            "/usr/lib/python3.10/multiprocessing/popen_fork.py:66: RuntimeWarning: os.fork() was called. os.fork() is incompatible with multithreaded code, and JAX is multithreaded, so this will likely lead to a deadlock.\n",
            "  self.pid = os.fork()\n",
            "\u001b[34m\u001b[1mval: \u001b[0mScanning /gdrive/.shortcut-targets-by-id/1vm60fy0ismvMuhLfvW5phF0J1b9OKLLf/HRPlanes/YOLOV8/CORS_AD_HBB/val/labels... 1722 images, 0 backgrounds, 0 corrupt: 100%|██████████| 1722/1722 [04:46<00:00,  6.01it/s]\n"
          ]
        },
        {
          "output_type": "stream",
          "name": "stdout",
          "text": [
            "\u001b[34m\u001b[1mval: \u001b[0mNew cache created: /gdrive/.shortcut-targets-by-id/1vm60fy0ismvMuhLfvW5phF0J1b9OKLLf/HRPlanes/YOLOV8/CORS_AD_HBB/val/labels.cache\n",
            "Plotting labels to runs/detect/train/labels.jpg... \n",
            "\u001b[34m\u001b[1moptimizer:\u001b[0m SGD(lr=0.001, momentum=0.937) with parameter groups 97 weight(decay=0.0), 104 weight(decay=0.0005), 103 bias(decay=0.0)\n",
            "\u001b[34m\u001b[1mTensorBoard: \u001b[0mmodel graph visualization added ✅\n",
            "Image sizes 640 train, 640 val\n",
            "Using 8 dataloader workers\n",
            "Logging results to \u001b[1mruns/detect/train\u001b[0m\n",
            "Starting training for 20 epochs...\n",
            "\n",
            "      Epoch    GPU_mem   box_loss   cls_loss   dfl_loss  Instances       Size\n"
          ]
        },
        {
          "output_type": "stream",
          "name": "stderr",
          "text": [
            "       1/20      13.2G      1.669      0.722      1.567         22        640: 100%|██████████| 236/236 [01:12<00:00,  3.25it/s]\n",
            "                 Class     Images  Instances      Box(P          R      mAP50  mAP50-95): 100%|██████████| 54/54 [00:14<00:00,  3.86it/s]"
          ]
        },
        {
          "output_type": "stream",
          "name": "stdout",
          "text": [
            "                   all       1722       7769      0.921      0.852      0.899      0.468\n"
          ]
        },
        {
          "output_type": "stream",
          "name": "stderr",
          "text": [
            "\n"
          ]
        },
        {
          "output_type": "stream",
          "name": "stdout",
          "text": [
            "\n",
            "      Epoch    GPU_mem   box_loss   cls_loss   dfl_loss  Instances       Size\n"
          ]
        },
        {
          "output_type": "stream",
          "name": "stderr",
          "text": [
            "       2/20      12.8G      1.574       0.63      1.366         14        640: 100%|██████████| 236/236 [00:53<00:00,  4.41it/s]\n",
            "                 Class     Images  Instances      Box(P          R      mAP50  mAP50-95): 100%|██████████| 54/54 [00:12<00:00,  4.18it/s]\n"
          ]
        },
        {
          "output_type": "stream",
          "name": "stdout",
          "text": [
            "                   all       1722       7769      0.939      0.869      0.916      0.508\n",
            "\n",
            "      Epoch    GPU_mem   box_loss   cls_loss   dfl_loss  Instances       Size\n"
          ]
        },
        {
          "output_type": "stream",
          "name": "stderr",
          "text": [
            "       3/20      13.1G      1.516     0.6111      1.337         15        640: 100%|██████████| 236/236 [00:52<00:00,  4.48it/s]\n",
            "                 Class     Images  Instances      Box(P          R      mAP50  mAP50-95): 100%|██████████| 54/54 [00:12<00:00,  4.16it/s]"
          ]
        },
        {
          "output_type": "stream",
          "name": "stdout",
          "text": [
            "                   all       1722       7769       0.93      0.879      0.926      0.523\n"
          ]
        },
        {
          "output_type": "stream",
          "name": "stderr",
          "text": [
            "\n"
          ]
        },
        {
          "output_type": "stream",
          "name": "stdout",
          "text": [
            "\n",
            "      Epoch    GPU_mem   box_loss   cls_loss   dfl_loss  Instances       Size\n"
          ]
        },
        {
          "output_type": "stream",
          "name": "stderr",
          "text": [
            "       4/20      12.7G      1.469     0.5961      1.307         30        640: 100%|██████████| 236/236 [00:52<00:00,  4.52it/s]\n",
            "                 Class     Images  Instances      Box(P          R      mAP50  mAP50-95): 100%|██████████| 54/54 [00:12<00:00,  4.21it/s]\n"
          ]
        },
        {
          "output_type": "stream",
          "name": "stdout",
          "text": [
            "                   all       1722       7769      0.939      0.887       0.93      0.526\n",
            "\n",
            "      Epoch    GPU_mem   box_loss   cls_loss   dfl_loss  Instances       Size\n"
          ]
        },
        {
          "output_type": "stream",
          "name": "stderr",
          "text": [
            "       5/20      12.8G       1.44     0.5823      1.303         15        640: 100%|██████████| 236/236 [00:52<00:00,  4.51it/s]\n",
            "                 Class     Images  Instances      Box(P          R      mAP50  mAP50-95): 100%|██████████| 54/54 [00:12<00:00,  4.17it/s]"
          ]
        },
        {
          "output_type": "stream",
          "name": "stdout",
          "text": [
            "                   all       1722       7769      0.948       0.89      0.936      0.542\n"
          ]
        },
        {
          "output_type": "stream",
          "name": "stderr",
          "text": [
            "\n"
          ]
        },
        {
          "output_type": "stream",
          "name": "stdout",
          "text": [
            "\n",
            "      Epoch    GPU_mem   box_loss   cls_loss   dfl_loss  Instances       Size\n"
          ]
        },
        {
          "output_type": "stream",
          "name": "stderr",
          "text": [
            "       6/20      12.7G       1.39     0.5676      1.267          5        640: 100%|██████████| 236/236 [00:52<00:00,  4.51it/s]\n",
            "                 Class     Images  Instances      Box(P          R      mAP50  mAP50-95): 100%|██████████| 54/54 [00:12<00:00,  4.22it/s]"
          ]
        },
        {
          "output_type": "stream",
          "name": "stdout",
          "text": [
            "                   all       1722       7769      0.937        0.9      0.935       0.55\n"
          ]
        },
        {
          "output_type": "stream",
          "name": "stderr",
          "text": [
            "\n"
          ]
        },
        {
          "output_type": "stream",
          "name": "stdout",
          "text": [
            "\n",
            "      Epoch    GPU_mem   box_loss   cls_loss   dfl_loss  Instances       Size\n"
          ]
        },
        {
          "output_type": "stream",
          "name": "stderr",
          "text": [
            "       7/20      12.7G      1.366     0.5598      1.257         36        640: 100%|██████████| 236/236 [00:52<00:00,  4.49it/s]\n",
            "                 Class     Images  Instances      Box(P          R      mAP50  mAP50-95): 100%|██████████| 54/54 [00:13<00:00,  4.12it/s]\n"
          ]
        },
        {
          "output_type": "stream",
          "name": "stdout",
          "text": [
            "                   all       1722       7769      0.952      0.893       0.94      0.556\n",
            "\n",
            "      Epoch    GPU_mem   box_loss   cls_loss   dfl_loss  Instances       Size\n"
          ]
        },
        {
          "output_type": "stream",
          "name": "stderr",
          "text": [
            "       8/20      12.8G      1.361     0.5597      1.256         17        640: 100%|██████████| 236/236 [00:52<00:00,  4.51it/s]\n",
            "                 Class     Images  Instances      Box(P          R      mAP50  mAP50-95): 100%|██████████| 54/54 [00:12<00:00,  4.22it/s]"
          ]
        },
        {
          "output_type": "stream",
          "name": "stdout",
          "text": [
            "                   all       1722       7769      0.952        0.9      0.944      0.561\n"
          ]
        },
        {
          "output_type": "stream",
          "name": "stderr",
          "text": [
            "\n"
          ]
        },
        {
          "output_type": "stream",
          "name": "stdout",
          "text": [
            "\n",
            "      Epoch    GPU_mem   box_loss   cls_loss   dfl_loss  Instances       Size\n"
          ]
        },
        {
          "output_type": "stream",
          "name": "stderr",
          "text": [
            "       9/20      13.1G      1.319     0.5417      1.225         24        640: 100%|██████████| 236/236 [00:52<00:00,  4.51it/s]\n",
            "                 Class     Images  Instances      Box(P          R      mAP50  mAP50-95): 100%|██████████| 54/54 [00:12<00:00,  4.17it/s]\n"
          ]
        },
        {
          "output_type": "stream",
          "name": "stdout",
          "text": [
            "                   all       1722       7769       0.95      0.903      0.943      0.569\n",
            "\n",
            "      Epoch    GPU_mem   box_loss   cls_loss   dfl_loss  Instances       Size\n"
          ]
        },
        {
          "output_type": "stream",
          "name": "stderr",
          "text": [
            "      10/20      12.7G      1.306     0.5343      1.205         23        640: 100%|██████████| 236/236 [00:52<00:00,  4.51it/s]\n",
            "                 Class     Images  Instances      Box(P          R      mAP50  mAP50-95): 100%|██████████| 54/54 [00:13<00:00,  4.15it/s]"
          ]
        },
        {
          "output_type": "stream",
          "name": "stdout",
          "text": [
            "                   all       1722       7769       0.95       0.91      0.946      0.574\n"
          ]
        },
        {
          "output_type": "stream",
          "name": "stderr",
          "text": [
            "\n"
          ]
        },
        {
          "output_type": "stream",
          "name": "stdout",
          "text": [
            "Closing dataloader mosaic\n",
            "\u001b[34m\u001b[1malbumentations: \u001b[0mBlur(p=0.01, blur_limit=(3, 7)), MedianBlur(p=0.01, blur_limit=(3, 7)), ToGray(p=0.01), CLAHE(p=0.01, clip_limit=(1, 4.0), tile_grid_size=(8, 8))\n"
          ]
        },
        {
          "output_type": "stream",
          "name": "stderr",
          "text": [
            "/usr/lib/python3.10/multiprocessing/popen_fork.py:66: RuntimeWarning: os.fork() was called. os.fork() is incompatible with multithreaded code, and JAX is multithreaded, so this will likely lead to a deadlock.\n",
            "  self.pid = os.fork()\n"
          ]
        },
        {
          "output_type": "stream",
          "name": "stdout",
          "text": [
            "\n",
            "      Epoch    GPU_mem   box_loss   cls_loss   dfl_loss  Instances       Size\n"
          ]
        },
        {
          "output_type": "stream",
          "name": "stderr",
          "text": [
            "      11/20      12.8G      1.285     0.4854       1.22         15        640: 100%|██████████| 236/236 [00:56<00:00,  4.15it/s]\n",
            "                 Class     Images  Instances      Box(P          R      mAP50  mAP50-95): 100%|██████████| 54/54 [00:12<00:00,  4.18it/s]"
          ]
        },
        {
          "output_type": "stream",
          "name": "stdout",
          "text": [
            "                   all       1722       7769      0.946      0.905      0.943       0.57\n"
          ]
        },
        {
          "output_type": "stream",
          "name": "stderr",
          "text": [
            "\n"
          ]
        },
        {
          "output_type": "stream",
          "name": "stdout",
          "text": [
            "\n",
            "      Epoch    GPU_mem   box_loss   cls_loss   dfl_loss  Instances       Size\n"
          ]
        },
        {
          "output_type": "stream",
          "name": "stderr",
          "text": [
            "      12/20      13.1G      1.267     0.4746      1.214          7        640: 100%|██████████| 236/236 [00:52<00:00,  4.54it/s]\n",
            "                 Class     Images  Instances      Box(P          R      mAP50  mAP50-95): 100%|██████████| 54/54 [00:12<00:00,  4.19it/s]\n"
          ]
        },
        {
          "output_type": "stream",
          "name": "stdout",
          "text": [
            "                   all       1722       7769      0.955      0.904      0.946      0.575\n",
            "\n",
            "      Epoch    GPU_mem   box_loss   cls_loss   dfl_loss  Instances       Size\n"
          ]
        },
        {
          "output_type": "stream",
          "name": "stderr",
          "text": [
            "      13/20      12.8G      1.244     0.4726      1.197         41        640: 100%|██████████| 236/236 [00:52<00:00,  4.53it/s]\n",
            "                 Class     Images  Instances      Box(P          R      mAP50  mAP50-95): 100%|██████████| 54/54 [00:12<00:00,  4.19it/s]"
          ]
        },
        {
          "output_type": "stream",
          "name": "stdout",
          "text": [
            "                   all       1722       7769      0.953      0.913       0.95      0.578\n"
          ]
        },
        {
          "output_type": "stream",
          "name": "stderr",
          "text": [
            "\n"
          ]
        },
        {
          "output_type": "stream",
          "name": "stdout",
          "text": [
            "\n",
            "      Epoch    GPU_mem   box_loss   cls_loss   dfl_loss  Instances       Size\n"
          ]
        },
        {
          "output_type": "stream",
          "name": "stderr",
          "text": [
            "      14/20      12.7G      1.215     0.4592      1.173         20        640: 100%|██████████| 236/236 [00:52<00:00,  4.51it/s]\n",
            "                 Class     Images  Instances      Box(P          R      mAP50  mAP50-95): 100%|██████████| 54/54 [00:13<00:00,  4.15it/s]"
          ]
        },
        {
          "output_type": "stream",
          "name": "stdout",
          "text": [
            "                   all       1722       7769      0.957       0.91      0.949      0.582\n"
          ]
        },
        {
          "output_type": "stream",
          "name": "stderr",
          "text": [
            "\n"
          ]
        },
        {
          "output_type": "stream",
          "name": "stdout",
          "text": [
            "\n",
            "      Epoch    GPU_mem   box_loss   cls_loss   dfl_loss  Instances       Size\n"
          ]
        },
        {
          "output_type": "stream",
          "name": "stderr",
          "text": [
            "      15/20      12.8G      1.202     0.4523      1.172         12        640: 100%|██████████| 236/236 [00:52<00:00,  4.53it/s]\n",
            "                 Class     Images  Instances      Box(P          R      mAP50  mAP50-95): 100%|██████████| 54/54 [00:13<00:00,  4.15it/s]\n"
          ]
        },
        {
          "output_type": "stream",
          "name": "stdout",
          "text": [
            "                   all       1722       7769      0.954      0.913      0.949      0.585\n",
            "\n",
            "      Epoch    GPU_mem   box_loss   cls_loss   dfl_loss  Instances       Size\n"
          ]
        },
        {
          "output_type": "stream",
          "name": "stderr",
          "text": [
            "      16/20      12.8G      1.183     0.4463      1.163          6        640: 100%|██████████| 236/236 [00:52<00:00,  4.53it/s]\n",
            "                 Class     Images  Instances      Box(P          R      mAP50  mAP50-95): 100%|██████████| 54/54 [00:12<00:00,  4.23it/s]"
          ]
        },
        {
          "output_type": "stream",
          "name": "stdout",
          "text": [
            "                   all       1722       7769      0.955      0.912       0.95      0.589\n"
          ]
        },
        {
          "output_type": "stream",
          "name": "stderr",
          "text": [
            "\n"
          ]
        },
        {
          "output_type": "stream",
          "name": "stdout",
          "text": [
            "\n",
            "      Epoch    GPU_mem   box_loss   cls_loss   dfl_loss  Instances       Size\n"
          ]
        },
        {
          "output_type": "stream",
          "name": "stderr",
          "text": [
            "      17/20      12.8G      1.169     0.4393       1.15         10        640: 100%|██████████| 236/236 [00:52<00:00,  4.52it/s]\n",
            "                 Class     Images  Instances      Box(P          R      mAP50  mAP50-95): 100%|██████████| 54/54 [00:12<00:00,  4.17it/s]\n"
          ]
        },
        {
          "output_type": "stream",
          "name": "stdout",
          "text": [
            "                   all       1722       7769      0.954      0.914       0.95      0.588\n",
            "\n",
            "      Epoch    GPU_mem   box_loss   cls_loss   dfl_loss  Instances       Size\n"
          ]
        },
        {
          "output_type": "stream",
          "name": "stderr",
          "text": [
            "      18/20      12.8G      1.153     0.4274      1.151         14        640: 100%|██████████| 236/236 [00:52<00:00,  4.50it/s]\n",
            "                 Class     Images  Instances      Box(P          R      mAP50  mAP50-95): 100%|██████████| 54/54 [00:12<00:00,  4.20it/s]\n"
          ]
        },
        {
          "output_type": "stream",
          "name": "stdout",
          "text": [
            "                   all       1722       7769      0.956      0.912      0.951       0.59\n",
            "\n",
            "      Epoch    GPU_mem   box_loss   cls_loss   dfl_loss  Instances       Size\n"
          ]
        },
        {
          "output_type": "stream",
          "name": "stderr",
          "text": [
            "      19/20      12.8G      1.137     0.4261       1.14          8        640: 100%|██████████| 236/236 [00:52<00:00,  4.52it/s]\n",
            "                 Class     Images  Instances      Box(P          R      mAP50  mAP50-95): 100%|██████████| 54/54 [00:12<00:00,  4.21it/s]\n"
          ]
        },
        {
          "output_type": "stream",
          "name": "stdout",
          "text": [
            "                   all       1722       7769      0.958      0.911      0.951      0.593\n",
            "\n",
            "      Epoch    GPU_mem   box_loss   cls_loss   dfl_loss  Instances       Size\n"
          ]
        },
        {
          "output_type": "stream",
          "name": "stderr",
          "text": [
            "      20/20      12.8G       1.13     0.4262      1.148          7        640: 100%|██████████| 236/236 [00:52<00:00,  4.53it/s]\n",
            "                 Class     Images  Instances      Box(P          R      mAP50  mAP50-95): 100%|██████████| 54/54 [00:12<00:00,  4.20it/s]"
          ]
        },
        {
          "output_type": "stream",
          "name": "stdout",
          "text": [
            "                   all       1722       7769      0.958       0.91       0.95      0.594\n"
          ]
        },
        {
          "output_type": "stream",
          "name": "stderr",
          "text": [
            "\n"
          ]
        },
        {
          "output_type": "stream",
          "name": "stdout",
          "text": [
            "\n",
            "20 epochs completed in 0.382 hours.\n",
            "Optimizer stripped from runs/detect/train/weights/last.pt, 136.7MB\n",
            "Optimizer stripped from runs/detect/train/weights/best.pt, 136.7MB\n",
            "\n",
            "Validating runs/detect/train/weights/best.pt...\n",
            "Ultralytics YOLOv8.2.32 🚀 Python-3.10.12 torch-2.3.0+cu121 CUDA:0 (NVIDIA A100-SXM4-40GB, 40514MiB)\n",
            "Model summary (fused): 268 layers, 68124531 parameters, 0 gradients, 257.4 GFLOPs\n"
          ]
        },
        {
          "output_type": "stream",
          "name": "stderr",
          "text": [
            "/usr/local/lib/python3.10/dist-packages/torch/nn/modules/conv.py:456: UserWarning: Plan failed with a cudnnException: CUDNN_BACKEND_EXECUTION_PLAN_DESCRIPTOR: cudnnFinalize Descriptor Failed cudnn_status: CUDNN_STATUS_NOT_SUPPORTED (Triggered internally at ../aten/src/ATen/native/cudnn/Conv_v8.cpp:919.)\n",
            "  return F.conv2d(input, weight, bias, self.stride,\n",
            "                 Class     Images  Instances      Box(P          R      mAP50  mAP50-95): 100%|██████████| 54/54 [00:16<00:00,  3.28it/s]\n"
          ]
        },
        {
          "output_type": "stream",
          "name": "stdout",
          "text": [
            "                   all       1722       7769      0.958       0.91       0.95      0.593\n",
            "Speed: 0.1ms preprocess, 3.7ms inference, 0.0ms loss, 2.1ms postprocess per image\n",
            "Results saved to \u001b[1mruns/detect/train\u001b[0m\n"
          ]
        }
      ]
    },
    {
      "cell_type": "code",
      "source": [
        "model = YOLO(\"runs/detect/train/weights/best.pt\")\n",
        "metrics = model.val(data='/gdrive/MyDrive/Datasets/HRPlanes/YOLOV8/5-Transfer Learning/coco_transfer_learning.yaml')"
      ],
      "metadata": {
        "id": "IEP1I_muYIHs",
        "colab": {
          "base_uri": "https://localhost:8080/"
        },
        "outputId": "9ec5e8c9-7809-4b4c-bdc6-a3f0a94cdc31"
      },
      "execution_count": null,
      "outputs": [
        {
          "output_type": "stream",
          "name": "stdout",
          "text": [
            "Ultralytics YOLOv8.2.32 🚀 Python-3.10.12 torch-2.3.0+cu121 CUDA:0 (NVIDIA A100-SXM4-40GB, 40514MiB)\n",
            "Model summary (fused): 268 layers, 68124531 parameters, 0 gradients, 257.4 GFLOPs\n"
          ]
        },
        {
          "output_type": "stream",
          "name": "stderr",
          "text": [
            "\u001b[34m\u001b[1mval: \u001b[0mScanning /gdrive/.shortcut-targets-by-id/1vm60fy0ismvMuhLfvW5phF0J1b9OKLLf/HRPlanes/YOLOV8/CORS_AD_HBB/val/labels.cache... 1722 images, 0 backgrounds, 0 corrupt: 100%|██████████| 1722/1722 [00:00<?, ?it/s]\n",
            "/usr/lib/python3.10/multiprocessing/popen_fork.py:66: RuntimeWarning: os.fork() was called. os.fork() is incompatible with multithreaded code, and JAX is multithreaded, so this will likely lead to a deadlock.\n",
            "  self.pid = os.fork()\n",
            "                 Class     Images  Instances      Box(P          R      mAP50  mAP50-95):   0%|          | 0/108 [00:00<?, ?it/s]/usr/local/lib/python3.10/dist-packages/torch/nn/modules/conv.py:456: UserWarning: Plan failed with a cudnnException: CUDNN_BACKEND_EXECUTION_PLAN_DESCRIPTOR: cudnnFinalize Descriptor Failed cudnn_status: CUDNN_STATUS_NOT_SUPPORTED (Triggered internally at ../aten/src/ATen/native/cudnn/Conv_v8.cpp:919.)\n",
            "  return F.conv2d(input, weight, bias, self.stride,\n",
            "                 Class     Images  Instances      Box(P          R      mAP50  mAP50-95): 100%|██████████| 108/108 [00:32<00:00,  3.30it/s]\n"
          ]
        },
        {
          "output_type": "stream",
          "name": "stdout",
          "text": [
            "                   all       1722       7769      0.958       0.91       0.95      0.593\n",
            "Speed: 0.1ms preprocess, 6.1ms inference, 0.0ms loss, 1.7ms postprocess per image\n",
            "Results saved to \u001b[1mruns/detect/val\u001b[0m\n"
          ]
        }
      ]
    },
    {
      "cell_type": "code",
      "source": [
        "# @markdown Run this code block to monitor **box** metrics.\n",
        "\n",
        "attributes = [\n",
        "    ('metrics.box.map50', 'Mean Average Precision at IoU threshold of 0.5 for all classes.'),\n",
        "    ('metrics.box.map75', 'Mean Average Precision at IoU threshold of 0.75 for all classes.'),\n",
        "    ('metrics.box.ap', 'Average Precision at IoU thresholds from 0.5 to 0.95 for all classes.'),\n",
        "    ('metrics.box.mp', 'Mean Precision of all classes.'),\n",
        "    ('metrics.box.mr', 'Mean Recall of all classes.'),\n",
        "    # ('metrics.box.mean_results', 'Mean of results, returns Mean Precision, Mean Recall, Mean Average Precision at IoU threshold of 0.5, Mean Average Precision at IoU threshold of 0.5 to 0.95.'),\n",
        "    ('metrics.box.p', 'Precision for each class.'),\n",
        "    ('metrics.box.r', 'Recall for each class.'),\n",
        "    ('metrics.box.f1', 'F1 score for each class.'),\n",
        "    ('metrics.box.nc', 'Number of classes.')\n",
        "]\n",
        "\n",
        "for attr, explanation in attributes:\n",
        "    value = getattr(metrics.box, attr.split('.')[-1])\n",
        "    if isinstance(value, np.ndarray):\n",
        "        value = np.float64(value[0])\n",
        "    print(f'{attr}: {value:.4f} - {explanation}')\n",
        "\n",
        "box_metrics_dict = {}\n",
        "for attr, explanation in attributes:\n",
        "    value = getattr(metrics.box, attr.split('.')[-1])\n",
        "    if isinstance(value, np.ndarray):\n",
        "        value = np.float64(value[0])\n",
        "    box_metrics_dict[attr] = {\n",
        "        \"value\": value,\n",
        "        \"description\": explanation\n",
        "    }"
      ],
      "metadata": {
        "cellView": "form",
        "colab": {
          "base_uri": "https://localhost:8080/"
        },
        "id": "f3_Jj0PUUAA5",
        "outputId": "5a4f2873-ab88-453c-a7b6-d9d064e82bc4"
      },
      "execution_count": null,
      "outputs": [
        {
          "output_type": "stream",
          "name": "stdout",
          "text": [
            "metrics.box.map50: 0.9503 - Mean Average Precision at IoU threshold of 0.5 for all classes.\n",
            "metrics.box.map75: 0.6284 - Mean Average Precision at IoU threshold of 0.75 for all classes.\n",
            "metrics.box.ap: 0.5931 - Average Precision at IoU thresholds from 0.5 to 0.95 for all classes.\n",
            "metrics.box.mp: 0.9579 - Mean Precision of all classes.\n",
            "metrics.box.mr: 0.9100 - Mean Recall of all classes.\n",
            "metrics.box.p: 0.9579 - Precision for each class.\n",
            "metrics.box.r: 0.9100 - Recall for each class.\n",
            "metrics.box.f1: 0.9333 - F1 score for each class.\n",
            "metrics.box.nc: 1.0000 - Number of classes.\n"
          ]
        }
      ]
    },
    {
      "cell_type": "code",
      "source": [
        "# @markdown Run this block to monitor **best** metrics.\n",
        "\n",
        "for key, value in metrics.results_dict.items():\n",
        "    if key == 'metrics/precision(B)':\n",
        "        print(f'Precision: {value:.4f} - Percentage of correct positive predictions.')\n",
        "    elif key == 'metrics/recall(B)':\n",
        "        print(f'Recall: {value:.4f} - Percentage of actual positives that were correctly predicted.')\n",
        "    elif key == 'metrics/mAP50(B)':\n",
        "        print(f'mAP50: {value:.4f} - Mean Average Precision at 50% IOU.')\n",
        "    elif key == 'metrics/mAP50-95(B)':\n",
        "        print(f'mAP50-95: {value:.4f} - Mean Average Precision between 50% and 95% IOU.')\n",
        "    # else:\n",
        "    #     print(f'{key}: {value:.4f}')\n",
        "\n",
        "precision = metrics.results_dict['metrics/precision(B)']\n",
        "recall = metrics.results_dict['metrics/recall(B)']\n",
        "f1_score = 2 * (precision * recall) / (precision + recall)\n",
        "\n",
        "print(f'F1 Score: {f1_score:.4f} - Harmonic mean of precision and recall.')"
      ],
      "metadata": {
        "cellView": "form",
        "colab": {
          "base_uri": "https://localhost:8080/"
        },
        "id": "m-Xf_wNUUDKU",
        "outputId": "ddd6be2a-ffec-4232-da1e-186fd5debb26"
      },
      "execution_count": null,
      "outputs": [
        {
          "output_type": "stream",
          "name": "stdout",
          "text": [
            "Precision: 0.9579 - Percentage of correct positive predictions.\n",
            "Recall: 0.9100 - Percentage of actual positives that were correctly predicted.\n",
            "mAP50: 0.9503 - Mean Average Precision at 50% IOU.\n",
            "mAP50-95: 0.5931 - Mean Average Precision between 50% and 95% IOU.\n",
            "F1 Score: 0.9333 - Harmonic mean of precision and recall.\n"
          ]
        }
      ]
    },
    {
      "cell_type": "markdown",
      "source": [
        "Plot confusion matrix for the predictions."
      ],
      "metadata": {
        "id": "Mz-HPHePUVXe"
      }
    },
    {
      "cell_type": "code",
      "source": [
        "cm = metrics.confusion_matrix.matrix"
      ],
      "metadata": {
        "id": "CfM1HSweUUGS"
      },
      "execution_count": null,
      "outputs": []
    },
    {
      "cell_type": "code",
      "source": [
        "plt.figure(figsize=(8, 6), dpi=300)\n",
        "sns.heatmap(cm.astype(int), annot=True, fmt='d', cmap='Greys', cbar=False)\n",
        "plt.xlabel('Predicted')\n",
        "plt.ylabel('Actual')\n",
        "plt.title('Confusion Matrix')\n",
        "plt.xticks(ticks=[0.5, 1.5], labels=['Plane', 'Background'])\n",
        "plt.yticks(ticks=[0.5, 1.5], labels=['Plane', 'Background'])\n",
        "plt.show()"
      ],
      "metadata": {
        "colab": {
          "base_uri": "https://localhost:8080/",
          "height": 684
        },
        "id": "pTjkiOd8UUGT",
        "outputId": "f22db655-f90c-420b-d250-55aa3c36a87e"
      },
      "execution_count": null,
      "outputs": [
        {
          "output_type": "display_data",
          "data": {
            "text/plain": [
              "<Figure size 2400x1800 with 1 Axes>"
            ],
            "image/png": "[encoded data removed]"
          },
          "metadata": {}
        }
      ]
    },
    {
      "cell_type": "code",
      "source": [
        "TP = int(cm[0][0])\n",
        "FN = int(cm[1][0])\n",
        "FP = int(cm[0][1])\n",
        "\n",
        "accuracy = calculate_accuracy(TP, FN, FP)\n",
        "\n",
        "print(\"Accuracy:\", round(accuracy, 4))"
      ],
      "metadata": {
        "colab": {
          "base_uri": "https://localhost:8080/"
        },
        "id": "W8ARi6SyUUGU",
        "outputId": "13c38158-3670-44e7-c642-c454c446651a"
      },
      "execution_count": null,
      "outputs": [
        {
          "output_type": "stream",
          "name": "stdout",
          "text": [
            "Accuracy: 0.8929\n"
          ]
        }
      ]
    },
    {
      "cell_type": "markdown",
      "source": [
        "#### **1.1.2. Train and Validate Model 2**"
      ],
      "metadata": {
        "id": "nVty3iE-YHtg"
      }
    },
    {
      "cell_type": "code",
      "source": [
        "# @markdown ---\n",
        "\n",
        "IMAGE_SIZE = 640 # @param {type:\"integer\"}\n",
        "BATCH = 16 # @param {type:\"integer\"}\n",
        "LR = 0.001 # @param {type:\"number\"}\n",
        "OPTIMIZER = 'AdamW' # @param {type:\"string\"}\n",
        "\n",
        "# @markdown ---\n",
        "\n",
        "HUE = 0.015 # @param {type:\"number\"}\n",
        "SATURATION = 0.7 # @param {type:\"number\"}\n",
        "VALUE = 0.4 # @param {type:\"number\"}\n",
        "MOSIAC = 1.0 # @param {type:\"number\"}\n",
        "\n",
        "# @markdown ---"
      ],
      "metadata": {
        "cellView": "form",
        "id": "7LWTxZEKZ8mD"
      },
      "execution_count": null,
      "outputs": []
    },
    {
      "cell_type": "code",
      "source": [
        "model = YOLO(MODEL_2_PT)"
      ],
      "metadata": {
        "id": "7Ah6ZIX6aOZe"
      },
      "execution_count": null,
      "outputs": []
    },
    {
      "cell_type": "code",
      "source": [
        "results = model.train(data='/gdrive/MyDrive/Datasets/HRPlanes/YOLOV8/5-Transfer Learning/coco_transfer_learning.yaml', epochs=20, imgsz=IMAGE_SIZE, batch=BATCH, lr0=LR, optimizer=OPTIMIZER, hsv_h=HUE, hsv_s=SATURATION, hsv_v=VALUE, mosaic=MOSIAC)"
      ],
      "metadata": {
        "colab": {
          "base_uri": "https://localhost:8080/"
        },
        "id": "jkfKtOwBaTS3",
        "outputId": "4726652c-2ad7-4c42-c158-2b321dc4cd71"
      },
      "execution_count": null,
      "outputs": [
        {
          "output_type": "stream",
          "name": "stdout",
          "text": [
            "Ultralytics YOLOv8.2.32 🚀 Python-3.10.12 torch-2.3.0+cu121 CUDA:0 (NVIDIA A100-SXM4-40GB, 40514MiB)\n",
            "\u001b[34m\u001b[1mengine/trainer: \u001b[0mtask=detect, mode=train, model=/gdrive/MyDrive/Datasets/HRPlanes/YOLOV8/YOLOv8l/Experiment_No_32/detect/train/weights/best.pt, data=/gdrive/MyDrive/Datasets/HRPlanes/YOLOV8/5-Transfer Learning/coco_transfer_learning.yaml, epochs=20, time=None, patience=100, batch=16, imgsz=640, save=True, save_period=-1, cache=False, device=None, workers=8, project=None, name=train2, exist_ok=False, pretrained=True, optimizer=AdamW, verbose=True, seed=0, deterministic=True, single_cls=False, rect=False, cos_lr=False, close_mosaic=10, resume=False, amp=True, fraction=1.0, profile=False, freeze=None, multi_scale=False, overlap_mask=True, mask_ratio=4, dropout=0.0, val=True, split=val, save_json=False, save_hybrid=False, conf=None, iou=0.7, max_det=300, half=False, dnn=False, plots=True, source=None, vid_stride=1, stream_buffer=False, visualize=False, augment=False, agnostic_nms=False, classes=None, retina_masks=False, embed=None, show=False, save_frames=False, save_txt=False, save_conf=False, save_crop=False, show_labels=True, show_conf=True, show_boxes=True, line_width=None, format=torchscript, keras=False, optimize=False, int8=False, dynamic=False, simplify=False, opset=None, workspace=4, nms=False, lr0=0.001, lrf=0.01, momentum=0.937, weight_decay=0.0005, warmup_epochs=3.0, warmup_momentum=0.8, warmup_bias_lr=0.1, box=7.5, cls=0.5, dfl=1.5, pose=12.0, kobj=1.0, label_smoothing=0.0, nbs=64, hsv_h=0.015, hsv_s=0.7, hsv_v=0.4, degrees=0.0, translate=0.1, scale=0.5, shear=0.0, perspective=0.0, flipud=0.0, fliplr=0.5, bgr=0.0, mosaic=1.0, mixup=0.0, copy_paste=0.0, auto_augment=randaugment, erasing=0.4, crop_fraction=1.0, cfg=None, tracker=botsort.yaml, save_dir=runs/detect/train2\n",
            "\n",
            "                   from  n    params  module                                       arguments                     \n",
            "  0                  -1  1      1856  ultralytics.nn.modules.conv.Conv             [3, 64, 3, 2]                 \n",
            "  1                  -1  1     73984  ultralytics.nn.modules.conv.Conv             [64, 128, 3, 2]               \n",
            "  2                  -1  3    279808  ultralytics.nn.modules.block.C2f             [128, 128, 3, True]           \n",
            "  3                  -1  1    295424  ultralytics.nn.modules.conv.Conv             [128, 256, 3, 2]              \n",
            "  4                  -1  6   2101248  ultralytics.nn.modules.block.C2f             [256, 256, 6, True]           \n",
            "  5                  -1  1   1180672  ultralytics.nn.modules.conv.Conv             [256, 512, 3, 2]              \n",
            "  6                  -1  6   8396800  ultralytics.nn.modules.block.C2f             [512, 512, 6, True]           \n",
            "  7                  -1  1   2360320  ultralytics.nn.modules.conv.Conv             [512, 512, 3, 2]              \n",
            "  8                  -1  3   4461568  ultralytics.nn.modules.block.C2f             [512, 512, 3, True]           \n",
            "  9                  -1  1    656896  ultralytics.nn.modules.block.SPPF            [512, 512, 5]                 \n",
            " 10                  -1  1         0  torch.nn.modules.upsampling.Upsample         [None, 2, 'nearest']          \n",
            " 11             [-1, 6]  1         0  ultralytics.nn.modules.conv.Concat           [1]                           \n",
            " 12                  -1  3   4723712  ultralytics.nn.modules.block.C2f             [1024, 512, 3]                \n",
            " 13                  -1  1         0  torch.nn.modules.upsampling.Upsample         [None, 2, 'nearest']          \n",
            " 14             [-1, 4]  1         0  ultralytics.nn.modules.conv.Concat           [1]                           \n",
            " 15                  -1  3   1247744  ultralytics.nn.modules.block.C2f             [768, 256, 3]                 \n",
            " 16                  -1  1    590336  ultralytics.nn.modules.conv.Conv             [256, 256, 3, 2]              \n",
            " 17            [-1, 12]  1         0  ultralytics.nn.modules.conv.Concat           [1]                           \n",
            " 18                  -1  3   4592640  ultralytics.nn.modules.block.C2f             [768, 512, 3]                 \n",
            " 19                  -1  1   2360320  ultralytics.nn.modules.conv.Conv             [512, 512, 3, 2]              \n",
            " 20             [-1, 9]  1         0  ultralytics.nn.modules.conv.Concat           [1]                           \n",
            " 21                  -1  3   4723712  ultralytics.nn.modules.block.C2f             [1024, 512, 3]                \n",
            " 22        [15, 18, 21]  1   5583571  ultralytics.nn.modules.head.Detect           [1, [256, 512, 512]]          \n",
            "Model summary: 365 layers, 43630611 parameters, 43630595 gradients, 165.4 GFLOPs\n",
            "\n",
            "Transferred 595/595 items from pretrained weights\n",
            "\u001b[34m\u001b[1mTensorBoard: \u001b[0mStart with 'tensorboard --logdir runs/detect/train2', view at http://localhost:6006/\n",
            "Freezing layer 'model.22.dfl.conv.weight'\n",
            "\u001b[34m\u001b[1mAMP: \u001b[0mrunning Automatic Mixed Precision (AMP) checks with YOLOv8n...\n",
            "\u001b[34m\u001b[1mAMP: \u001b[0mchecks passed ✅\n"
          ]
        },
        {
          "output_type": "stream",
          "name": "stderr",
          "text": [
            "\u001b[34m\u001b[1mtrain: \u001b[0mScanning /gdrive/.shortcut-targets-by-id/1vm60fy0ismvMuhLfvW5phF0J1b9OKLLf/HRPlanes/YOLOV8/CORS_AD_HBB/train/labels.cache... 3764 images, 0 backgrounds, 0 corrupt: 100%|██████████| 3764/3764 [00:00<?, ?it/s]"
          ]
        },
        {
          "output_type": "stream",
          "name": "stdout",
          "text": [
            "\u001b[34m\u001b[1malbumentations: \u001b[0mBlur(p=0.01, blur_limit=(3, 7)), MedianBlur(p=0.01, blur_limit=(3, 7)), ToGray(p=0.01), CLAHE(p=0.01, clip_limit=(1, 4.0), tile_grid_size=(8, 8))\n"
          ]
        },
        {
          "output_type": "stream",
          "name": "stderr",
          "text": [
            "\n",
            "/usr/lib/python3.10/multiprocessing/popen_fork.py:66: RuntimeWarning: os.fork() was called. os.fork() is incompatible with multithreaded code, and JAX is multithreaded, so this will likely lead to a deadlock.\n",
            "  self.pid = os.fork()\n",
            "\u001b[34m\u001b[1mval: \u001b[0mScanning /gdrive/.shortcut-targets-by-id/1vm60fy0ismvMuhLfvW5phF0J1b9OKLLf/HRPlanes/YOLOV8/CORS_AD_HBB/val/labels.cache... 1722 images, 0 backgrounds, 0 corrupt: 100%|██████████| 1722/1722 [00:00<?, ?it/s]\n"
          ]
        },
        {
          "output_type": "stream",
          "name": "stdout",
          "text": [
            "Plotting labels to runs/detect/train2/labels.jpg... \n",
            "\u001b[34m\u001b[1moptimizer:\u001b[0m AdamW(lr=0.001, momentum=0.937) with parameter groups 97 weight(decay=0.0), 104 weight(decay=0.0005), 103 bias(decay=0.0)\n",
            "\u001b[34m\u001b[1mTensorBoard: \u001b[0mmodel graph visualization added ✅\n",
            "Image sizes 640 train, 640 val\n",
            "Using 8 dataloader workers\n",
            "Logging results to \u001b[1mruns/detect/train2\u001b[0m\n",
            "Starting training for 20 epochs...\n",
            "\n",
            "      Epoch    GPU_mem   box_loss   cls_loss   dfl_loss  Instances       Size\n"
          ]
        },
        {
          "output_type": "stream",
          "name": "stderr",
          "text": [
            "       1/20      10.8G       1.68     0.7953      1.523         22        640: 100%|██████████| 236/236 [00:49<00:00,  4.78it/s]\n",
            "                 Class     Images  Instances      Box(P          R      mAP50  mAP50-95): 100%|██████████| 54/54 [00:11<00:00,  4.64it/s]\n"
          ]
        },
        {
          "output_type": "stream",
          "name": "stdout",
          "text": [
            "                   all       1722       7769      0.926      0.808      0.872      0.455\n",
            "\n",
            "      Epoch    GPU_mem   box_loss   cls_loss   dfl_loss  Instances       Size\n"
          ]
        },
        {
          "output_type": "stream",
          "name": "stderr",
          "text": [
            "       2/20        11G      1.622     0.7377      1.461         14        640: 100%|██████████| 236/236 [00:42<00:00,  5.53it/s]\n",
            "                 Class     Images  Instances      Box(P          R      mAP50  mAP50-95): 100%|██████████| 54/54 [00:11<00:00,  4.78it/s]\n"
          ]
        },
        {
          "output_type": "stream",
          "name": "stdout",
          "text": [
            "                   all       1722       7769      0.928      0.829       0.89      0.471\n",
            "\n",
            "      Epoch    GPU_mem   box_loss   cls_loss   dfl_loss  Instances       Size\n"
          ]
        },
        {
          "output_type": "stream",
          "name": "stderr",
          "text": [
            "       3/20      11.2G      1.597     0.7321       1.44         15        640: 100%|██████████| 236/236 [00:41<00:00,  5.67it/s]\n",
            "                 Class     Images  Instances      Box(P          R      mAP50  mAP50-95): 100%|██████████| 54/54 [00:11<00:00,  4.55it/s]\n"
          ]
        },
        {
          "output_type": "stream",
          "name": "stdout",
          "text": [
            "                   all       1722       7769       0.92      0.847      0.902      0.482\n",
            "\n",
            "      Epoch    GPU_mem   box_loss   cls_loss   dfl_loss  Instances       Size\n"
          ]
        },
        {
          "output_type": "stream",
          "name": "stderr",
          "text": [
            "       4/20      10.9G      1.573     0.7112      1.429         30        640: 100%|██████████| 236/236 [00:41<00:00,  5.68it/s]\n",
            "                 Class     Images  Instances      Box(P          R      mAP50  mAP50-95): 100%|██████████| 54/54 [00:11<00:00,  4.72it/s]\n"
          ]
        },
        {
          "output_type": "stream",
          "name": "stdout",
          "text": [
            "                   all       1722       7769       0.93      0.849      0.905      0.489\n",
            "\n",
            "      Epoch    GPU_mem   box_loss   cls_loss   dfl_loss  Instances       Size\n"
          ]
        },
        {
          "output_type": "stream",
          "name": "stderr",
          "text": [
            "       5/20        11G      1.558     0.6895      1.437         15        640: 100%|██████████| 236/236 [00:41<00:00,  5.74it/s]\n",
            "                 Class     Images  Instances      Box(P          R      mAP50  mAP50-95): 100%|██████████| 54/54 [00:11<00:00,  4.79it/s]\n"
          ]
        },
        {
          "output_type": "stream",
          "name": "stdout",
          "text": [
            "                   all       1722       7769      0.941      0.855      0.912        0.5\n",
            "\n",
            "      Epoch    GPU_mem   box_loss   cls_loss   dfl_loss  Instances       Size\n"
          ]
        },
        {
          "output_type": "stream",
          "name": "stderr",
          "text": [
            "       6/20      11.3G      1.519     0.6778      1.414          5        640: 100%|██████████| 236/236 [00:41<00:00,  5.74it/s]\n",
            "                 Class     Images  Instances      Box(P          R      mAP50  mAP50-95): 100%|██████████| 54/54 [00:11<00:00,  4.83it/s]\n"
          ]
        },
        {
          "output_type": "stream",
          "name": "stdout",
          "text": [
            "                   all       1722       7769      0.932      0.863      0.913      0.499\n",
            "\n",
            "      Epoch    GPU_mem   box_loss   cls_loss   dfl_loss  Instances       Size\n"
          ]
        },
        {
          "output_type": "stream",
          "name": "stderr",
          "text": [
            "       7/20      10.9G      1.509     0.6747      1.427         36        640: 100%|██████████| 236/236 [00:41<00:00,  5.74it/s]\n",
            "                 Class     Images  Instances      Box(P          R      mAP50  mAP50-95): 100%|██████████| 54/54 [00:11<00:00,  4.88it/s]\n"
          ]
        },
        {
          "output_type": "stream",
          "name": "stdout",
          "text": [
            "                   all       1722       7769      0.934      0.873      0.921      0.508\n",
            "\n",
            "      Epoch    GPU_mem   box_loss   cls_loss   dfl_loss  Instances       Size\n"
          ]
        },
        {
          "output_type": "stream",
          "name": "stderr",
          "text": [
            "       8/20      11.3G      1.508     0.6677      1.417         17        640: 100%|██████████| 236/236 [00:41<00:00,  5.67it/s]\n",
            "                 Class     Images  Instances      Box(P          R      mAP50  mAP50-95): 100%|██████████| 54/54 [00:11<00:00,  4.68it/s]\n"
          ]
        },
        {
          "output_type": "stream",
          "name": "stdout",
          "text": [
            "                   all       1722       7769      0.941      0.866      0.922      0.522\n",
            "\n",
            "      Epoch    GPU_mem   box_loss   cls_loss   dfl_loss  Instances       Size\n"
          ]
        },
        {
          "output_type": "stream",
          "name": "stderr",
          "text": [
            "       9/20      10.9G      1.471     0.6531      1.405         24        640: 100%|██████████| 236/236 [00:41<00:00,  5.69it/s]\n",
            "                 Class     Images  Instances      Box(P          R      mAP50  mAP50-95): 100%|██████████| 54/54 [00:10<00:00,  5.00it/s]\n"
          ]
        },
        {
          "output_type": "stream",
          "name": "stdout",
          "text": [
            "                   all       1722       7769      0.943      0.873      0.924       0.52\n",
            "\n",
            "      Epoch    GPU_mem   box_loss   cls_loss   dfl_loss  Instances       Size\n"
          ]
        },
        {
          "output_type": "stream",
          "name": "stderr",
          "text": [
            "      10/20      11.2G      1.452     0.6405      1.378         23        640: 100%|██████████| 236/236 [00:41<00:00,  5.72it/s]\n",
            "                 Class     Images  Instances      Box(P          R      mAP50  mAP50-95): 100%|██████████| 54/54 [00:10<00:00,  5.01it/s]"
          ]
        },
        {
          "output_type": "stream",
          "name": "stdout",
          "text": [
            "                   all       1722       7769      0.939      0.878      0.925      0.531\n"
          ]
        },
        {
          "output_type": "stream",
          "name": "stderr",
          "text": [
            "\n"
          ]
        },
        {
          "output_type": "stream",
          "name": "stdout",
          "text": [
            "Closing dataloader mosaic\n",
            "\u001b[34m\u001b[1malbumentations: \u001b[0mBlur(p=0.01, blur_limit=(3, 7)), MedianBlur(p=0.01, blur_limit=(3, 7)), ToGray(p=0.01), CLAHE(p=0.01, clip_limit=(1, 4.0), tile_grid_size=(8, 8))\n"
          ]
        },
        {
          "output_type": "stream",
          "name": "stderr",
          "text": [
            "/usr/lib/python3.10/multiprocessing/popen_fork.py:66: RuntimeWarning: os.fork() was called. os.fork() is incompatible with multithreaded code, and JAX is multithreaded, so this will likely lead to a deadlock.\n",
            "  self.pid = os.fork()\n"
          ]
        },
        {
          "output_type": "stream",
          "name": "stdout",
          "text": [
            "\n",
            "      Epoch    GPU_mem   box_loss   cls_loss   dfl_loss  Instances       Size\n"
          ]
        },
        {
          "output_type": "stream",
          "name": "stderr",
          "text": [
            "      11/20      11.3G      1.459     0.5932      1.439         15        640: 100%|██████████| 236/236 [00:44<00:00,  5.28it/s]\n",
            "                 Class     Images  Instances      Box(P          R      mAP50  mAP50-95): 100%|██████████| 54/54 [00:11<00:00,  4.79it/s]\n"
          ]
        },
        {
          "output_type": "stream",
          "name": "stdout",
          "text": [
            "                   all       1722       7769      0.933      0.879      0.925       0.53\n",
            "\n",
            "      Epoch    GPU_mem   box_loss   cls_loss   dfl_loss  Instances       Size\n"
          ]
        },
        {
          "output_type": "stream",
          "name": "stderr",
          "text": [
            "      12/20      11.3G      1.443      0.577      1.426          7        640: 100%|██████████| 236/236 [00:40<00:00,  5.81it/s]\n",
            "                 Class     Images  Instances      Box(P          R      mAP50  mAP50-95): 100%|██████████| 54/54 [00:11<00:00,  4.70it/s]\n"
          ]
        },
        {
          "output_type": "stream",
          "name": "stdout",
          "text": [
            "                   all       1722       7769      0.945      0.871      0.925      0.528\n",
            "\n",
            "      Epoch    GPU_mem   box_loss   cls_loss   dfl_loss  Instances       Size\n"
          ]
        },
        {
          "output_type": "stream",
          "name": "stderr",
          "text": [
            "      13/20      11.3G      1.439     0.5805      1.422         41        640: 100%|██████████| 236/236 [00:41<00:00,  5.69it/s]\n",
            "                 Class     Images  Instances      Box(P          R      mAP50  mAP50-95): 100%|██████████| 54/54 [00:11<00:00,  4.73it/s]\n"
          ]
        },
        {
          "output_type": "stream",
          "name": "stdout",
          "text": [
            "                   all       1722       7769      0.944      0.889      0.932      0.539\n",
            "\n",
            "      Epoch    GPU_mem   box_loss   cls_loss   dfl_loss  Instances       Size\n"
          ]
        },
        {
          "output_type": "stream",
          "name": "stderr",
          "text": [
            "      14/20      11.4G      1.392     0.5523      1.374         20        640: 100%|██████████| 236/236 [00:40<00:00,  5.78it/s]\n",
            "                 Class     Images  Instances      Box(P          R      mAP50  mAP50-95): 100%|██████████| 54/54 [00:11<00:00,  4.72it/s]\n"
          ]
        },
        {
          "output_type": "stream",
          "name": "stdout",
          "text": [
            "                   all       1722       7769      0.946       0.89      0.933       0.54\n",
            "\n",
            "      Epoch    GPU_mem   box_loss   cls_loss   dfl_loss  Instances       Size\n"
          ]
        },
        {
          "output_type": "stream",
          "name": "stderr",
          "text": [
            "      15/20      10.9G      1.391     0.5499      1.379         12        640: 100%|██████████| 236/236 [00:40<00:00,  5.77it/s]\n",
            "                 Class     Images  Instances      Box(P          R      mAP50  mAP50-95): 100%|██████████| 54/54 [00:11<00:00,  4.79it/s]\n"
          ]
        },
        {
          "output_type": "stream",
          "name": "stdout",
          "text": [
            "                   all       1722       7769      0.946      0.885      0.933      0.542\n",
            "\n",
            "      Epoch    GPU_mem   box_loss   cls_loss   dfl_loss  Instances       Size\n"
          ]
        },
        {
          "output_type": "stream",
          "name": "stderr",
          "text": [
            "      16/20      11.3G      1.376     0.5368      1.369          6        640: 100%|██████████| 236/236 [00:40<00:00,  5.78it/s]\n",
            "                 Class     Images  Instances      Box(P          R      mAP50  mAP50-95): 100%|██████████| 54/54 [00:11<00:00,  4.85it/s]\n"
          ]
        },
        {
          "output_type": "stream",
          "name": "stdout",
          "text": [
            "                   all       1722       7769      0.944      0.888      0.934      0.547\n",
            "\n",
            "      Epoch    GPU_mem   box_loss   cls_loss   dfl_loss  Instances       Size\n"
          ]
        },
        {
          "output_type": "stream",
          "name": "stderr",
          "text": [
            "      17/20      11.3G      1.362     0.5318      1.356         10        640: 100%|██████████| 236/236 [00:41<00:00,  5.75it/s]\n",
            "                 Class     Images  Instances      Box(P          R      mAP50  mAP50-95): 100%|██████████| 54/54 [00:11<00:00,  4.66it/s]"
          ]
        },
        {
          "output_type": "stream",
          "name": "stdout",
          "text": [
            "                   all       1722       7769      0.955      0.896      0.939       0.56\n"
          ]
        },
        {
          "output_type": "stream",
          "name": "stderr",
          "text": [
            "\n"
          ]
        },
        {
          "output_type": "stream",
          "name": "stdout",
          "text": [
            "\n",
            "      Epoch    GPU_mem   box_loss   cls_loss   dfl_loss  Instances       Size\n"
          ]
        },
        {
          "output_type": "stream",
          "name": "stderr",
          "text": [
            "      18/20      10.9G      1.342     0.5146      1.348         14        640: 100%|██████████| 236/236 [00:41<00:00,  5.69it/s]\n",
            "                 Class     Images  Instances      Box(P          R      mAP50  mAP50-95): 100%|██████████| 54/54 [00:11<00:00,  4.87it/s]\n"
          ]
        },
        {
          "output_type": "stream",
          "name": "stdout",
          "text": [
            "                   all       1722       7769      0.952      0.892      0.939      0.562\n",
            "\n",
            "      Epoch    GPU_mem   box_loss   cls_loss   dfl_loss  Instances       Size\n"
          ]
        },
        {
          "output_type": "stream",
          "name": "stderr",
          "text": [
            "      19/20      10.9G      1.319     0.5114      1.341          8        640: 100%|██████████| 236/236 [00:41<00:00,  5.75it/s]\n",
            "                 Class     Images  Instances      Box(P          R      mAP50  mAP50-95): 100%|██████████| 54/54 [00:10<00:00,  4.96it/s]\n"
          ]
        },
        {
          "output_type": "stream",
          "name": "stdout",
          "text": [
            "                   all       1722       7769       0.95      0.899      0.941      0.564\n",
            "\n",
            "      Epoch    GPU_mem   box_loss   cls_loss   dfl_loss  Instances       Size\n"
          ]
        },
        {
          "output_type": "stream",
          "name": "stderr",
          "text": [
            "      20/20      10.9G      1.315     0.5096      1.339          7        640: 100%|██████████| 236/236 [00:40<00:00,  5.76it/s]\n",
            "                 Class     Images  Instances      Box(P          R      mAP50  mAP50-95): 100%|██████████| 54/54 [00:11<00:00,  4.87it/s]\n"
          ]
        },
        {
          "output_type": "stream",
          "name": "stdout",
          "text": [
            "                   all       1722       7769      0.951      0.901      0.943      0.568\n",
            "\n",
            "20 epochs completed in 0.307 hours.\n",
            "Optimizer stripped from runs/detect/train2/weights/last.pt, 87.6MB\n",
            "Optimizer stripped from runs/detect/train2/weights/best.pt, 87.6MB\n",
            "\n",
            "Validating runs/detect/train2/weights/best.pt...\n",
            "Ultralytics YOLOv8.2.32 🚀 Python-3.10.12 torch-2.3.0+cu121 CUDA:0 (NVIDIA A100-SXM4-40GB, 40514MiB)\n",
            "Model summary (fused): 268 layers, 43607379 parameters, 0 gradients, 164.8 GFLOPs\n"
          ]
        },
        {
          "output_type": "stream",
          "name": "stderr",
          "text": [
            "                 Class     Images  Instances      Box(P          R      mAP50  mAP50-95): 100%|██████████| 54/54 [00:14<00:00,  3.65it/s]\n"
          ]
        },
        {
          "output_type": "stream",
          "name": "stdout",
          "text": [
            "                   all       1722       7769       0.95      0.902      0.943      0.568\n",
            "Speed: 0.1ms preprocess, 2.4ms inference, 0.0ms loss, 1.1ms postprocess per image\n",
            "Results saved to \u001b[1mruns/detect/train2\u001b[0m\n"
          ]
        }
      ]
    },
    {
      "cell_type": "code",
      "source": [
        "model = YOLO(\"runs/detect/train2/weights/best.pt\")\n",
        "metrics = model.val(data='/gdrive/MyDrive/Datasets/HRPlanes/YOLOV8/5-Transfer Learning/coco_transfer_learning.yaml')"
      ],
      "metadata": {
        "colab": {
          "base_uri": "https://localhost:8080/"
        },
        "id": "B-YMllY5YHtg",
        "outputId": "67c4ff03-a5b8-4bb7-c6ae-5b6359d66877"
      },
      "execution_count": null,
      "outputs": [
        {
          "output_type": "stream",
          "name": "stdout",
          "text": [
            "Ultralytics YOLOv8.2.32 🚀 Python-3.10.12 torch-2.3.0+cu121 CUDA:0 (NVIDIA A100-SXM4-40GB, 40514MiB)\n",
            "Model summary (fused): 268 layers, 43607379 parameters, 0 gradients, 164.8 GFLOPs\n"
          ]
        },
        {
          "output_type": "stream",
          "name": "stderr",
          "text": [
            "\u001b[34m\u001b[1mval: \u001b[0mScanning /gdrive/.shortcut-targets-by-id/1vm60fy0ismvMuhLfvW5phF0J1b9OKLLf/HRPlanes/YOLOV8/CORS_AD_HBB/val/labels.cache... 1722 images, 0 backgrounds, 0 corrupt: 100%|██████████| 1722/1722 [00:00<?, ?it/s]\n",
            "/usr/lib/python3.10/multiprocessing/popen_fork.py:66: RuntimeWarning: os.fork() was called. os.fork() is incompatible with multithreaded code, and JAX is multithreaded, so this will likely lead to a deadlock.\n",
            "  self.pid = os.fork()\n",
            "                 Class     Images  Instances      Box(P          R      mAP50  mAP50-95):   0%|          | 0/108 [00:00<?, ?it/s]/usr/local/lib/python3.10/dist-packages/torch/nn/modules/conv.py:456: UserWarning: Plan failed with a cudnnException: CUDNN_BACKEND_EXECUTION_PLAN_DESCRIPTOR: cudnnFinalize Descriptor Failed cudnn_status: CUDNN_STATUS_NOT_SUPPORTED (Triggered internally at ../aten/src/ATen/native/cudnn/Conv_v8.cpp:919.)\n",
            "  return F.conv2d(input, weight, bias, self.stride,\n",
            "                 Class     Images  Instances      Box(P          R      mAP50  mAP50-95): 100%|██████████| 108/108 [00:29<00:00,  3.68it/s]\n"
          ]
        },
        {
          "output_type": "stream",
          "name": "stdout",
          "text": [
            "                   all       1722       7769       0.95      0.901      0.943      0.568\n",
            "Speed: 0.1ms preprocess, 4.1ms inference, 0.0ms loss, 2.2ms postprocess per image\n",
            "Results saved to \u001b[1mruns/detect/val2\u001b[0m\n"
          ]
        }
      ]
    },
    {
      "cell_type": "code",
      "source": [
        "# @markdown Run this code block to monitor **box** metrics.\n",
        "\n",
        "attributes = [\n",
        "    ('metrics.box.map50', 'Mean Average Precision at IoU threshold of 0.5 for all classes.'),\n",
        "    ('metrics.box.map75', 'Mean Average Precision at IoU threshold of 0.75 for all classes.'),\n",
        "    ('metrics.box.ap', 'Average Precision at IoU thresholds from 0.5 to 0.95 for all classes.'),\n",
        "    ('metrics.box.mp', 'Mean Precision of all classes.'),\n",
        "    ('metrics.box.mr', 'Mean Recall of all classes.'),\n",
        "    # ('metrics.box.mean_results', 'Mean of results, returns Mean Precision, Mean Recall, Mean Average Precision at IoU threshold of 0.5, Mean Average Precision at IoU threshold of 0.5 to 0.95.'),\n",
        "    ('metrics.box.p', 'Precision for each class.'),\n",
        "    ('metrics.box.r', 'Recall for each class.'),\n",
        "    ('metrics.box.f1', 'F1 score for each class.'),\n",
        "    ('metrics.box.nc', 'Number of classes.')\n",
        "]\n",
        "\n",
        "for attr, explanation in attributes:\n",
        "    value = getattr(metrics.box, attr.split('.')[-1])\n",
        "    if isinstance(value, np.ndarray):\n",
        "        value = np.float64(value[0])\n",
        "    print(f'{attr}: {value:.4f} - {explanation}')\n",
        "\n",
        "box_metrics_dict = {}\n",
        "for attr, explanation in attributes:\n",
        "    value = getattr(metrics.box, attr.split('.')[-1])\n",
        "    if isinstance(value, np.ndarray):\n",
        "        value = np.float64(value[0])\n",
        "    box_metrics_dict[attr] = {\n",
        "        \"value\": value,\n",
        "        \"description\": explanation\n",
        "    }"
      ],
      "metadata": {
        "cellView": "form",
        "colab": {
          "base_uri": "https://localhost:8080/"
        },
        "id": "8dZeHAovYHtg",
        "outputId": "52352012-7650-49af-cfab-3170777db429"
      },
      "execution_count": null,
      "outputs": [
        {
          "output_type": "stream",
          "name": "stdout",
          "text": [
            "metrics.box.map50: 0.9425 - Mean Average Precision at IoU threshold of 0.5 for all classes.\n",
            "metrics.box.map75: 0.5959 - Mean Average Precision at IoU threshold of 0.75 for all classes.\n",
            "metrics.box.ap: 0.5678 - Average Precision at IoU thresholds from 0.5 to 0.95 for all classes.\n",
            "metrics.box.mp: 0.9499 - Mean Precision of all classes.\n",
            "metrics.box.mr: 0.9013 - Mean Recall of all classes.\n",
            "metrics.box.p: 0.9499 - Precision for each class.\n",
            "metrics.box.r: 0.9013 - Recall for each class.\n",
            "metrics.box.f1: 0.9250 - F1 score for each class.\n",
            "metrics.box.nc: 1.0000 - Number of classes.\n"
          ]
        }
      ]
    },
    {
      "cell_type": "code",
      "source": [
        "# @markdown Run this block to monitor **best** metrics.\n",
        "\n",
        "for key, value in metrics.results_dict.items():\n",
        "    if key == 'metrics/precision(B)':\n",
        "        print(f'Precision: {value:.4f} - Percentage of correct positive predictions.')\n",
        "    elif key == 'metrics/recall(B)':\n",
        "        print(f'Recall: {value:.4f} - Percentage of actual positives that were correctly predicted.')\n",
        "    elif key == 'metrics/mAP50(B)':\n",
        "        print(f'mAP50: {value:.4f} - Mean Average Precision at 50% IOU.')\n",
        "    elif key == 'metrics/mAP50-95(B)':\n",
        "        print(f'mAP50-95: {value:.4f} - Mean Average Precision between 50% and 95% IOU.')\n",
        "    # else:\n",
        "    #     print(f'{key}: {value:.4f}')\n",
        "\n",
        "precision = metrics.results_dict['metrics/precision(B)']\n",
        "recall = metrics.results_dict['metrics/recall(B)']\n",
        "f1_score = 2 * (precision * recall) / (precision + recall)\n",
        "\n",
        "print(f'F1 Score: {f1_score:.4f} - Harmonic mean of precision and recall.')"
      ],
      "metadata": {
        "cellView": "form",
        "colab": {
          "base_uri": "https://localhost:8080/"
        },
        "id": "D79J_Sr_YHth",
        "outputId": "8242e432-afba-4fb6-853e-faa4ba14770f"
      },
      "execution_count": null,
      "outputs": [
        {
          "output_type": "stream",
          "name": "stdout",
          "text": [
            "Precision: 0.9499 - Percentage of correct positive predictions.\n",
            "Recall: 0.9013 - Percentage of actual positives that were correctly predicted.\n",
            "mAP50: 0.9425 - Mean Average Precision at 50% IOU.\n",
            "mAP50-95: 0.5678 - Mean Average Precision between 50% and 95% IOU.\n",
            "F1 Score: 0.9250 - Harmonic mean of precision and recall.\n"
          ]
        }
      ]
    },
    {
      "cell_type": "markdown",
      "source": [
        "Plot confusion matrix for the predictions."
      ],
      "metadata": {
        "id": "H6xSBEF-YHth"
      }
    },
    {
      "cell_type": "code",
      "source": [
        "cm = metrics.confusion_matrix.matrix"
      ],
      "metadata": {
        "id": "Aeai3R8FYHth"
      },
      "execution_count": null,
      "outputs": []
    },
    {
      "cell_type": "code",
      "source": [
        "plt.figure(figsize=(8, 6), dpi=300)\n",
        "sns.heatmap(cm.astype(int), annot=True, fmt='d', cmap='Greys', cbar=False)\n",
        "plt.xlabel('Predicted')\n",
        "plt.ylabel('Actual')\n",
        "plt.title('Confusion Matrix')\n",
        "plt.xticks(ticks=[0.5, 1.5], labels=['Plane', 'Background'])\n",
        "plt.yticks(ticks=[0.5, 1.5], labels=['Plane', 'Background'])\n",
        "plt.show()"
      ],
      "metadata": {
        "colab": {
          "base_uri": "https://localhost:8080/",
          "height": 1000
        },
        "id": "3bts8YcQYHth",
        "outputId": "c86592f3-3895-4bed-9342-0a77d0c7712a"
      },
      "execution_count": null,
      "outputs": [
        {
          "output_type": "display_data",
          "data": {
            "text/plain": [
              "<Figure size 2400x1800 with 1 Axes>"
            ],
            "image/png": "[encoded data removed]"
          },
          "metadata": {}
        }
      ]
    },
    {
      "cell_type": "code",
      "source": [
        "TP = int(cm[0][0])\n",
        "FN = int(cm[1][0])\n",
        "FP = int(cm[0][1])\n",
        "\n",
        "accuracy = calculate_accuracy(TP, FN, FP)\n",
        "\n",
        "print(\"Accuracy:\", round(accuracy, 4))"
      ],
      "metadata": {
        "colab": {
          "base_uri": "https://localhost:8080/"
        },
        "id": "Rsb_ZlR9YHth",
        "outputId": "5db69f5e-b697-4ca3-ca2d-2cbc3115feb6"
      },
      "execution_count": null,
      "outputs": [
        {
          "output_type": "stream",
          "name": "stdout",
          "text": [
            "Accuracy: 0.8817\n"
          ]
        }
      ]
    },
    {
      "cell_type": "code",
      "source": [],
      "metadata": {
        "id": "HIhVt5Pqf_s1"
      },
      "execution_count": null,
      "outputs": []
    },
    {
      "cell_type": "markdown",
      "source": [
        "#### **1.1.3. Train and Validate Model 3**"
      ],
      "metadata": {
        "id": "s9XPnuLVgAgx"
      }
    },
    {
      "cell_type": "code",
      "source": [
        "# @markdown ---\n",
        "\n",
        "IMAGE_SIZE = 640 # @param {type:\"integer\"}\n",
        "BATCH = 16 # @param {type:\"integer\"}\n",
        "LR = 0.001 # @param {type:\"number\"}\n",
        "OPTIMIZER = 'SGD' # @param {type:\"string\"}\n",
        "\n",
        "# @markdown ---\n",
        "\n",
        "HUE = 0.015 # @param {type:\"number\"}\n",
        "SATURATION = 0.7 # @param {type:\"number\"}\n",
        "VALUE = 0.4 # @param {type:\"number\"}\n",
        "MOSIAC = 1.0 # @param {type:\"number\"}\n",
        "\n",
        "# @markdown ---"
      ],
      "metadata": {
        "cellView": "form",
        "id": "FL066upVgAgz"
      },
      "execution_count": null,
      "outputs": []
    },
    {
      "cell_type": "code",
      "source": [
        "model = YOLO(MODEL_3_PT)"
      ],
      "metadata": {
        "id": "m4cUcTICgAg0"
      },
      "execution_count": null,
      "outputs": []
    },
    {
      "cell_type": "code",
      "source": [
        "results = model.train(data='/gdrive/MyDrive/Datasets/HRPlanes/YOLOV8/5-Transfer Learning/coco_transfer_learning.yaml', epochs=20, imgsz=IMAGE_SIZE, batch=BATCH, lr0=LR, optimizer=OPTIMIZER, hsv_h=HUE, hsv_s=SATURATION, hsv_v=VALUE, mosaic=MOSIAC)"
      ],
      "metadata": {
        "colab": {
          "base_uri": "https://localhost:8080/"
        },
        "outputId": "0d6d4757-3b04-443b-985f-1dd686785d59",
        "id": "O582nTQwgAg0"
      },
      "execution_count": null,
      "outputs": [
        {
          "output_type": "stream",
          "name": "stdout",
          "text": [
            "Ultralytics YOLOv8.2.92 🚀 Python-3.10.12 torch-2.4.0+cu121 CUDA:0 (NVIDIA A100-SXM4-40GB, 40514MiB)\n",
            "\u001b[34m\u001b[1mengine/trainer: \u001b[0mtask=detect, mode=train, model=/gdrive/MyDrive/Datasets/HRPlanes/YOLOV8/YOLOv8l/Experiment_No_30/detect/train/weights/best.pt, data=/gdrive/MyDrive/Datasets/HRPlanes/YOLOV8/5-Transfer Learning/coco_transfer_learning.yaml, epochs=20, time=None, patience=100, batch=16, imgsz=640, save=True, save_period=-1, cache=False, device=None, workers=8, project=None, name=train, exist_ok=False, pretrained=True, optimizer=SGD, verbose=True, seed=0, deterministic=True, single_cls=False, rect=False, cos_lr=False, close_mosaic=10, resume=False, amp=True, fraction=1.0, profile=False, freeze=None, multi_scale=False, overlap_mask=True, mask_ratio=4, dropout=0.0, val=True, split=val, save_json=False, save_hybrid=False, conf=None, iou=0.7, max_det=300, half=False, dnn=False, plots=True, source=None, vid_stride=1, stream_buffer=False, visualize=False, augment=False, agnostic_nms=False, classes=None, retina_masks=False, embed=None, show=False, save_frames=False, save_txt=False, save_conf=False, save_crop=False, show_labels=True, show_conf=True, show_boxes=True, line_width=None, format=torchscript, keras=False, optimize=False, int8=False, dynamic=False, simplify=False, opset=None, workspace=4, nms=False, lr0=0.001, lrf=0.01, momentum=0.937, weight_decay=0.0005, warmup_epochs=3.0, warmup_momentum=0.8, warmup_bias_lr=0.1, box=7.5, cls=0.5, dfl=1.5, pose=12.0, kobj=1.0, label_smoothing=0.0, nbs=64, hsv_h=0.015, hsv_s=0.7, hsv_v=0.4, degrees=0.0, translate=0.1, scale=0.5, shear=0.0, perspective=0.0, flipud=0.0, fliplr=0.5, bgr=0.0, mosaic=1.0, mixup=0.0, copy_paste=0.0, auto_augment=randaugment, erasing=0.4, crop_fraction=1.0, cfg=None, tracker=botsort.yaml, save_dir=runs/detect/train\n",
            "Downloading https://ultralytics.com/assets/Arial.ttf to '/root/.config/Ultralytics/Arial.ttf'...\n"
          ]
        },
        {
          "output_type": "stream",
          "name": "stderr",
          "text": [
            "100%|██████████| 755k/755k [00:00<00:00, 111MB/s]\n"
          ]
        },
        {
          "output_type": "stream",
          "name": "stdout",
          "text": [
            "\n",
            "                   from  n    params  module                                       arguments                     \n",
            "  0                  -1  1      1856  ultralytics.nn.modules.conv.Conv             [3, 64, 3, 2]                 \n",
            "  1                  -1  1     73984  ultralytics.nn.modules.conv.Conv             [64, 128, 3, 2]               \n",
            "  2                  -1  3    279808  ultralytics.nn.modules.block.C2f             [128, 128, 3, True]           \n",
            "  3                  -1  1    295424  ultralytics.nn.modules.conv.Conv             [128, 256, 3, 2]              \n",
            "  4                  -1  6   2101248  ultralytics.nn.modules.block.C2f             [256, 256, 6, True]           \n",
            "  5                  -1  1   1180672  ultralytics.nn.modules.conv.Conv             [256, 512, 3, 2]              \n",
            "  6                  -1  6   8396800  ultralytics.nn.modules.block.C2f             [512, 512, 6, True]           \n",
            "  7                  -1  1   2360320  ultralytics.nn.modules.conv.Conv             [512, 512, 3, 2]              \n",
            "  8                  -1  3   4461568  ultralytics.nn.modules.block.C2f             [512, 512, 3, True]           \n",
            "  9                  -1  1    656896  ultralytics.nn.modules.block.SPPF            [512, 512, 5]                 \n",
            " 10                  -1  1         0  torch.nn.modules.upsampling.Upsample         [None, 2, 'nearest']          \n",
            " 11             [-1, 6]  1         0  ultralytics.nn.modules.conv.Concat           [1]                           \n",
            " 12                  -1  3   4723712  ultralytics.nn.modules.block.C2f             [1024, 512, 3]                \n",
            " 13                  -1  1         0  torch.nn.modules.upsampling.Upsample         [None, 2, 'nearest']          \n",
            " 14             [-1, 4]  1         0  ultralytics.nn.modules.conv.Concat           [1]                           \n",
            " 15                  -1  3   1247744  ultralytics.nn.modules.block.C2f             [768, 256, 3]                 \n",
            " 16                  -1  1    590336  ultralytics.nn.modules.conv.Conv             [256, 256, 3, 2]              \n",
            " 17            [-1, 12]  1         0  ultralytics.nn.modules.conv.Concat           [1]                           \n",
            " 18                  -1  3   4592640  ultralytics.nn.modules.block.C2f             [768, 512, 3]                 \n",
            " 19                  -1  1   2360320  ultralytics.nn.modules.conv.Conv             [512, 512, 3, 2]              \n",
            " 20             [-1, 9]  1         0  ultralytics.nn.modules.conv.Concat           [1]                           \n",
            " 21                  -1  3   4723712  ultralytics.nn.modules.block.C2f             [1024, 512, 3]                \n",
            " 22        [15, 18, 21]  1   5583571  ultralytics.nn.modules.head.Detect           [1, [256, 512, 512]]          \n",
            "Model summary: 365 layers, 43,630,611 parameters, 43,630,595 gradients, 165.4 GFLOPs\n",
            "\n",
            "Transferred 595/595 items from pretrained weights\n",
            "\u001b[34m\u001b[1mTensorBoard: \u001b[0mStart with 'tensorboard --logdir runs/detect/train', view at http://localhost:6006/\n",
            "Freezing layer 'model.22.dfl.conv.weight'\n",
            "\u001b[34m\u001b[1mAMP: \u001b[0mrunning Automatic Mixed Precision (AMP) checks with YOLOv8n...\n",
            "Downloading https://github.com/ultralytics/assets/releases/download/v8.2.0/yolov8n.pt to 'yolov8n.pt'...\n"
          ]
        },
        {
          "output_type": "stream",
          "name": "stderr",
          "text": [
            "100%|██████████| 6.25M/6.25M [00:00<00:00, 353MB/s]\n"
          ]
        },
        {
          "output_type": "stream",
          "name": "stdout",
          "text": [
            "\u001b[34m\u001b[1mAMP: \u001b[0mchecks passed ✅\n"
          ]
        },
        {
          "output_type": "stream",
          "name": "stderr",
          "text": [
            "\u001b[34m\u001b[1mtrain: \u001b[0mScanning /gdrive/.shortcut-targets-by-id/1vm60fy0ismvMuhLfvW5phF0J1b9OKLLf/HRPlanes/YOLOV8/CORS_AD_HBB/train/labels... 3764 images, 0 backgrounds, 0 corrupt: 100%|██████████| 3764/3764 [09:05<00:00,  6.90it/s]\n"
          ]
        },
        {
          "output_type": "stream",
          "name": "stdout",
          "text": [
            "\u001b[34m\u001b[1mtrain: \u001b[0mNew cache created: /gdrive/.shortcut-targets-by-id/1vm60fy0ismvMuhLfvW5phF0J1b9OKLLf/HRPlanes/YOLOV8/CORS_AD_HBB/train/labels.cache\n",
            "\u001b[34m\u001b[1malbumentations: \u001b[0mBlur(p=0.01, blur_limit=(3, 7)), MedianBlur(p=0.01, blur_limit=(3, 7)), ToGray(p=0.01), CLAHE(p=0.01, clip_limit=(1, 4.0), tile_grid_size=(8, 8))\n"
          ]
        },
        {
          "output_type": "stream",
          "name": "stderr",
          "text": [
            "/usr/local/lib/python3.10/dist-packages/albumentations/__init__.py:13: UserWarning: A new version of Albumentations is available: 1.4.15 (you have 1.4.14). Upgrade using: pip install -U albumentations. To disable automatic update checks, set the environment variable NO_ALBUMENTATIONS_UPDATE to 1.\n",
            "  check_for_updates()\n",
            "/usr/lib/python3.10/multiprocessing/popen_fork.py:66: RuntimeWarning: os.fork() was called. os.fork() is incompatible with multithreaded code, and JAX is multithreaded, so this will likely lead to a deadlock.\n",
            "  self.pid = os.fork()\n",
            "\u001b[34m\u001b[1mval: \u001b[0mScanning /gdrive/.shortcut-targets-by-id/1vm60fy0ismvMuhLfvW5phF0J1b9OKLLf/HRPlanes/YOLOV8/CORS_AD_HBB/val/labels... 1722 images, 0 backgrounds, 0 corrupt: 100%|██████████| 1722/1722 [04:24<00:00,  6.50it/s]\n"
          ]
        },
        {
          "output_type": "stream",
          "name": "stdout",
          "text": [
            "\u001b[34m\u001b[1mval: \u001b[0mNew cache created: /gdrive/.shortcut-targets-by-id/1vm60fy0ismvMuhLfvW5phF0J1b9OKLLf/HRPlanes/YOLOV8/CORS_AD_HBB/val/labels.cache\n",
            "Plotting labels to runs/detect/train/labels.jpg... \n",
            "\u001b[34m\u001b[1moptimizer:\u001b[0m SGD(lr=0.001, momentum=0.937) with parameter groups 97 weight(decay=0.0), 104 weight(decay=0.0005), 103 bias(decay=0.0)\n",
            "\u001b[34m\u001b[1mTensorBoard: \u001b[0mmodel graph visualization added ✅\n",
            "Image sizes 640 train, 640 val\n",
            "Using 8 dataloader workers\n",
            "Logging results to \u001b[1mruns/detect/train\u001b[0m\n",
            "Starting training for 20 epochs...\n",
            "\n",
            "      Epoch    GPU_mem   box_loss   cls_loss   dfl_loss  Instances       Size\n"
          ]
        },
        {
          "output_type": "stream",
          "name": "stderr",
          "text": [
            "       1/20      10.6G      1.689      0.722      1.537         21        640: 100%|██████████| 236/236 [01:07<00:00,  3.50it/s]\n",
            "                 Class     Images  Instances      Box(P          R      mAP50  mAP50-95): 100%|██████████| 54/54 [00:13<00:00,  3.90it/s]\n"
          ]
        },
        {
          "output_type": "stream",
          "name": "stdout",
          "text": [
            "                   all       1722       7769      0.918      0.852      0.901      0.466\n",
            "\n",
            "      Epoch    GPU_mem   box_loss   cls_loss   dfl_loss  Instances       Size\n"
          ]
        },
        {
          "output_type": "stream",
          "name": "stderr",
          "text": [
            "       2/20      10.2G      1.592     0.6357      1.364          8        640: 100%|██████████| 236/236 [00:41<00:00,  5.64it/s]\n",
            "                 Class     Images  Instances      Box(P          R      mAP50  mAP50-95): 100%|██████████| 54/54 [00:10<00:00,  4.92it/s]\n"
          ]
        },
        {
          "output_type": "stream",
          "name": "stdout",
          "text": [
            "                   all       1722       7769      0.921      0.871      0.916      0.503\n",
            "\n",
            "      Epoch    GPU_mem   box_loss   cls_loss   dfl_loss  Instances       Size\n"
          ]
        },
        {
          "output_type": "stream",
          "name": "stderr",
          "text": [
            "       3/20      10.4G      1.535     0.6193      1.334         11        640: 100%|██████████| 236/236 [00:40<00:00,  5.76it/s]\n",
            "                 Class     Images  Instances      Box(P          R      mAP50  mAP50-95): 100%|██████████| 54/54 [00:11<00:00,  4.86it/s]\n"
          ]
        },
        {
          "output_type": "stream",
          "name": "stdout",
          "text": [
            "                   all       1722       7769      0.934      0.887      0.925      0.512\n",
            "\n",
            "      Epoch    GPU_mem   box_loss   cls_loss   dfl_loss  Instances       Size\n"
          ]
        },
        {
          "output_type": "stream",
          "name": "stderr",
          "text": [
            "       4/20      10.2G      1.487     0.6163      1.317         23        640: 100%|██████████| 236/236 [00:40<00:00,  5.81it/s]\n",
            "                 Class     Images  Instances      Box(P          R      mAP50  mAP50-95): 100%|██████████| 54/54 [00:10<00:00,  4.95it/s]\n"
          ]
        },
        {
          "output_type": "stream",
          "name": "stdout",
          "text": [
            "                   all       1722       7769      0.938      0.891       0.93      0.526\n",
            "\n",
            "      Epoch    GPU_mem   box_loss   cls_loss   dfl_loss  Instances       Size\n"
          ]
        },
        {
          "output_type": "stream",
          "name": "stderr",
          "text": [
            "       5/20      10.3G       1.47     0.6025      1.299         19        640: 100%|██████████| 236/236 [00:40<00:00,  5.81it/s]\n",
            "                 Class     Images  Instances      Box(P          R      mAP50  mAP50-95): 100%|██████████| 54/54 [00:10<00:00,  4.95it/s]"
          ]
        },
        {
          "output_type": "stream",
          "name": "stdout",
          "text": [
            "                   all       1722       7769      0.943       0.89      0.933      0.538\n"
          ]
        },
        {
          "output_type": "stream",
          "name": "stderr",
          "text": [
            "\n"
          ]
        },
        {
          "output_type": "stream",
          "name": "stdout",
          "text": [
            "\n",
            "      Epoch    GPU_mem   box_loss   cls_loss   dfl_loss  Instances       Size\n"
          ]
        },
        {
          "output_type": "stream",
          "name": "stderr",
          "text": [
            "       6/20      10.7G      1.427     0.5905      1.282         14        640: 100%|██████████| 236/236 [00:40<00:00,  5.80it/s]\n",
            "                 Class     Images  Instances      Box(P          R      mAP50  mAP50-95): 100%|██████████| 54/54 [00:11<00:00,  4.90it/s]"
          ]
        },
        {
          "output_type": "stream",
          "name": "stdout",
          "text": [
            "                   all       1722       7769      0.935      0.895      0.932       0.54\n"
          ]
        },
        {
          "output_type": "stream",
          "name": "stderr",
          "text": [
            "\n"
          ]
        },
        {
          "output_type": "stream",
          "name": "stdout",
          "text": [
            "\n",
            "      Epoch    GPU_mem   box_loss   cls_loss   dfl_loss  Instances       Size\n"
          ]
        },
        {
          "output_type": "stream",
          "name": "stderr",
          "text": [
            "       7/20      10.1G       1.41     0.5836      1.275         19        640: 100%|██████████| 236/236 [00:40<00:00,  5.82it/s]\n",
            "                 Class     Images  Instances      Box(P          R      mAP50  mAP50-95): 100%|██████████| 54/54 [00:10<00:00,  4.95it/s]"
          ]
        },
        {
          "output_type": "stream",
          "name": "stdout",
          "text": [
            "                   all       1722       7769      0.948        0.9       0.94      0.548\n"
          ]
        },
        {
          "output_type": "stream",
          "name": "stderr",
          "text": [
            "\n"
          ]
        },
        {
          "output_type": "stream",
          "name": "stdout",
          "text": [
            "\n",
            "      Epoch    GPU_mem   box_loss   cls_loss   dfl_loss  Instances       Size\n"
          ]
        },
        {
          "output_type": "stream",
          "name": "stderr",
          "text": [
            "       8/20      10.3G      1.385     0.5635      1.265         23        640: 100%|██████████| 236/236 [00:40<00:00,  5.79it/s]\n",
            "                 Class     Images  Instances      Box(P          R      mAP50  mAP50-95): 100%|██████████| 54/54 [00:10<00:00,  4.99it/s]\n"
          ]
        },
        {
          "output_type": "stream",
          "name": "stdout",
          "text": [
            "                   all       1722       7769      0.944      0.901       0.94      0.556\n",
            "\n",
            "      Epoch    GPU_mem   box_loss   cls_loss   dfl_loss  Instances       Size\n"
          ]
        },
        {
          "output_type": "stream",
          "name": "stderr",
          "text": [
            "       9/20      10.2G      1.351     0.5536      1.232         15        640: 100%|██████████| 236/236 [00:40<00:00,  5.81it/s]\n",
            "                 Class     Images  Instances      Box(P          R      mAP50  mAP50-95): 100%|██████████| 54/54 [00:10<00:00,  5.00it/s]"
          ]
        },
        {
          "output_type": "stream",
          "name": "stdout",
          "text": [
            "                   all       1722       7769      0.949      0.905      0.943       0.56\n"
          ]
        },
        {
          "output_type": "stream",
          "name": "stderr",
          "text": [
            "\n"
          ]
        },
        {
          "output_type": "stream",
          "name": "stdout",
          "text": [
            "\n",
            "      Epoch    GPU_mem   box_loss   cls_loss   dfl_loss  Instances       Size\n"
          ]
        },
        {
          "output_type": "stream",
          "name": "stderr",
          "text": [
            "      10/20      10.2G      1.341     0.5502      1.233         33        640: 100%|██████████| 236/236 [00:40<00:00,  5.81it/s]\n",
            "                 Class     Images  Instances      Box(P          R      mAP50  mAP50-95): 100%|██████████| 54/54 [00:10<00:00,  4.95it/s]"
          ]
        },
        {
          "output_type": "stream",
          "name": "stdout",
          "text": [
            "                   all       1722       7769      0.951      0.907      0.945      0.563\n"
          ]
        },
        {
          "output_type": "stream",
          "name": "stderr",
          "text": [
            "\n"
          ]
        },
        {
          "output_type": "stream",
          "name": "stdout",
          "text": [
            "Closing dataloader mosaic\n",
            "\u001b[34m\u001b[1malbumentations: \u001b[0mBlur(p=0.01, blur_limit=(3, 7)), MedianBlur(p=0.01, blur_limit=(3, 7)), ToGray(p=0.01), CLAHE(p=0.01, clip_limit=(1, 4.0), tile_grid_size=(8, 8))\n"
          ]
        },
        {
          "output_type": "stream",
          "name": "stderr",
          "text": [
            "/usr/lib/python3.10/multiprocessing/popen_fork.py:66: RuntimeWarning: os.fork() was called. os.fork() is incompatible with multithreaded code, and JAX is multithreaded, so this will likely lead to a deadlock.\n",
            "  self.pid = os.fork()\n"
          ]
        },
        {
          "output_type": "stream",
          "name": "stdout",
          "text": [
            "\n",
            "      Epoch    GPU_mem   box_loss   cls_loss   dfl_loss  Instances       Size\n"
          ]
        },
        {
          "output_type": "stream",
          "name": "stderr",
          "text": [
            "      11/20      10.6G      1.317     0.4944      1.237         14        640: 100%|██████████| 236/236 [00:44<00:00,  5.34it/s]\n",
            "                 Class     Images  Instances      Box(P          R      mAP50  mAP50-95): 100%|██████████| 54/54 [00:10<00:00,  5.13it/s]"
          ]
        },
        {
          "output_type": "stream",
          "name": "stdout",
          "text": [
            "                   all       1722       7769      0.944      0.904      0.942       0.56\n"
          ]
        },
        {
          "output_type": "stream",
          "name": "stderr",
          "text": [
            "\n"
          ]
        },
        {
          "output_type": "stream",
          "name": "stdout",
          "text": [
            "\n",
            "      Epoch    GPU_mem   box_loss   cls_loss   dfl_loss  Instances       Size\n"
          ]
        },
        {
          "output_type": "stream",
          "name": "stderr",
          "text": [
            "      12/20      10.3G      1.304     0.4876      1.243          9        640: 100%|██████████| 236/236 [00:40<00:00,  5.85it/s]\n",
            "                 Class     Images  Instances      Box(P          R      mAP50  mAP50-95): 100%|██████████| 54/54 [00:10<00:00,  5.08it/s]"
          ]
        },
        {
          "output_type": "stream",
          "name": "stdout",
          "text": [
            "                   all       1722       7769      0.944      0.903      0.942      0.559\n"
          ]
        },
        {
          "output_type": "stream",
          "name": "stderr",
          "text": [
            "\n"
          ]
        },
        {
          "output_type": "stream",
          "name": "stdout",
          "text": [
            "\n",
            "      Epoch    GPU_mem   box_loss   cls_loss   dfl_loss  Instances       Size\n"
          ]
        },
        {
          "output_type": "stream",
          "name": "stderr",
          "text": [
            "      13/20      10.6G      1.289     0.4823      1.229         19        640: 100%|██████████| 236/236 [00:40<00:00,  5.82it/s]\n",
            "                 Class     Images  Instances      Box(P          R      mAP50  mAP50-95): 100%|██████████| 54/54 [00:10<00:00,  5.04it/s]"
          ]
        },
        {
          "output_type": "stream",
          "name": "stdout",
          "text": [
            "                   all       1722       7769      0.953      0.911      0.946      0.565\n"
          ]
        },
        {
          "output_type": "stream",
          "name": "stderr",
          "text": [
            "\n"
          ]
        },
        {
          "output_type": "stream",
          "name": "stdout",
          "text": [
            "\n",
            "      Epoch    GPU_mem   box_loss   cls_loss   dfl_loss  Instances       Size\n"
          ]
        },
        {
          "output_type": "stream",
          "name": "stderr",
          "text": [
            "      14/20      10.6G      1.264      0.482      1.223         21        640: 100%|██████████| 236/236 [00:40<00:00,  5.83it/s]\n",
            "                 Class     Images  Instances      Box(P          R      mAP50  mAP50-95): 100%|██████████| 54/54 [00:10<00:00,  4.96it/s]"
          ]
        },
        {
          "output_type": "stream",
          "name": "stdout",
          "text": [
            "                   all       1722       7769      0.948       0.91      0.946       0.57\n"
          ]
        },
        {
          "output_type": "stream",
          "name": "stderr",
          "text": [
            "\n"
          ]
        },
        {
          "output_type": "stream",
          "name": "stdout",
          "text": [
            "\n",
            "      Epoch    GPU_mem   box_loss   cls_loss   dfl_loss  Instances       Size\n"
          ]
        },
        {
          "output_type": "stream",
          "name": "stderr",
          "text": [
            "      15/20      10.2G      1.248     0.4659      1.216         10        640: 100%|██████████| 236/236 [00:40<00:00,  5.83it/s]\n",
            "                 Class     Images  Instances      Box(P          R      mAP50  mAP50-95): 100%|██████████| 54/54 [00:10<00:00,  5.04it/s]\n"
          ]
        },
        {
          "output_type": "stream",
          "name": "stdout",
          "text": [
            "                   all       1722       7769      0.956      0.908      0.948      0.577\n",
            "\n",
            "      Epoch    GPU_mem   box_loss   cls_loss   dfl_loss  Instances       Size\n"
          ]
        },
        {
          "output_type": "stream",
          "name": "stderr",
          "text": [
            "      16/20      10.6G      1.235     0.4646      1.197          7        640: 100%|██████████| 236/236 [00:40<00:00,  5.85it/s]\n",
            "                 Class     Images  Instances      Box(P          R      mAP50  mAP50-95): 100%|██████████| 54/54 [00:10<00:00,  5.07it/s]\n"
          ]
        },
        {
          "output_type": "stream",
          "name": "stdout",
          "text": [
            "                   all       1722       7769      0.951       0.91      0.948      0.581\n",
            "\n",
            "      Epoch    GPU_mem   box_loss   cls_loss   dfl_loss  Instances       Size\n"
          ]
        },
        {
          "output_type": "stream",
          "name": "stderr",
          "text": [
            "      17/20      10.6G      1.229     0.4583      1.188          4        640: 100%|██████████| 236/236 [00:40<00:00,  5.83it/s]\n",
            "                 Class     Images  Instances      Box(P          R      mAP50  mAP50-95): 100%|██████████| 54/54 [00:11<00:00,  4.90it/s]\n"
          ]
        },
        {
          "output_type": "stream",
          "name": "stdout",
          "text": [
            "                   all       1722       7769      0.956      0.911      0.949      0.576\n",
            "\n",
            "      Epoch    GPU_mem   box_loss   cls_loss   dfl_loss  Instances       Size\n"
          ]
        },
        {
          "output_type": "stream",
          "name": "stderr",
          "text": [
            "      18/20      10.2G      1.208      0.451      1.189         12        640: 100%|██████████| 236/236 [00:40<00:00,  5.85it/s]\n",
            "                 Class     Images  Instances      Box(P          R      mAP50  mAP50-95): 100%|██████████| 54/54 [00:10<00:00,  4.95it/s]\n"
          ]
        },
        {
          "output_type": "stream",
          "name": "stdout",
          "text": [
            "                   all       1722       7769      0.959      0.914      0.951      0.582\n",
            "\n",
            "      Epoch    GPU_mem   box_loss   cls_loss   dfl_loss  Instances       Size\n"
          ]
        },
        {
          "output_type": "stream",
          "name": "stderr",
          "text": [
            "      19/20      10.2G      1.199     0.4517      1.177          8        640: 100%|██████████| 236/236 [00:40<00:00,  5.83it/s]\n",
            "                 Class     Images  Instances      Box(P          R      mAP50  mAP50-95): 100%|██████████| 54/54 [00:11<00:00,  4.83it/s]\n"
          ]
        },
        {
          "output_type": "stream",
          "name": "stdout",
          "text": [
            "                   all       1722       7769      0.957      0.915      0.951      0.581\n",
            "\n",
            "      Epoch    GPU_mem   box_loss   cls_loss   dfl_loss  Instances       Size\n"
          ]
        },
        {
          "output_type": "stream",
          "name": "stderr",
          "text": [
            "      20/20      10.6G      1.188     0.4433      1.168          7        640: 100%|██████████| 236/236 [00:40<00:00,  5.86it/s]\n",
            "                 Class     Images  Instances      Box(P          R      mAP50  mAP50-95): 100%|██████████| 54/54 [00:10<00:00,  5.04it/s]\n"
          ]
        },
        {
          "output_type": "stream",
          "name": "stdout",
          "text": [
            "                   all       1722       7769      0.953      0.915      0.949      0.581\n",
            "\n",
            "20 epochs completed in 0.305 hours.\n",
            "Optimizer stripped from runs/detect/train/weights/last.pt, 87.6MB\n",
            "Optimizer stripped from runs/detect/train/weights/best.pt, 87.6MB\n",
            "\n",
            "Validating runs/detect/train/weights/best.pt...\n",
            "Ultralytics YOLOv8.2.92 🚀 Python-3.10.12 torch-2.4.0+cu121 CUDA:0 (NVIDIA A100-SXM4-40GB, 40514MiB)\n",
            "Model summary (fused): 268 layers, 43,607,379 parameters, 0 gradients, 164.8 GFLOPs\n"
          ]
        },
        {
          "output_type": "stream",
          "name": "stderr",
          "text": [
            "                 Class     Images  Instances      Box(P          R      mAP50  mAP50-95): 100%|██████████| 54/54 [00:14<00:00,  3.70it/s]\n"
          ]
        },
        {
          "output_type": "stream",
          "name": "stdout",
          "text": [
            "                   all       1722       7769      0.959      0.913      0.951      0.582\n",
            "Speed: 0.1ms preprocess, 2.4ms inference, 0.0ms loss, 2.2ms postprocess per image\n",
            "Results saved to \u001b[1mruns/detect/train\u001b[0m\n"
          ]
        }
      ]
    },
    {
      "cell_type": "code",
      "source": [
        "# model = YOLO(\"runs/detect/train3/weights/best.pt\")\n",
        "model = YOLO(\"runs/detect/train/weights/best.pt\")\n",
        "metrics = model.val(data='/gdrive/MyDrive/Datasets/HRPlanes/YOLOV8/5-Transfer Learning/coco_transfer_learning.yaml')"
      ],
      "metadata": {
        "colab": {
          "base_uri": "https://localhost:8080/"
        },
        "outputId": "9d24c560-cdbb-43c9-ce58-08bdeb3f0d4b",
        "id": "mf6JBBZ8gAg1"
      },
      "execution_count": null,
      "outputs": [
        {
          "output_type": "stream",
          "name": "stdout",
          "text": [
            "Ultralytics YOLOv8.2.92 🚀 Python-3.10.12 torch-2.4.0+cu121 CUDA:0 (NVIDIA A100-SXM4-40GB, 40514MiB)\n",
            "Model summary (fused): 268 layers, 43,607,379 parameters, 0 gradients, 164.8 GFLOPs\n"
          ]
        },
        {
          "output_type": "stream",
          "name": "stderr",
          "text": [
            "\u001b[34m\u001b[1mval: \u001b[0mScanning /gdrive/.shortcut-targets-by-id/1vm60fy0ismvMuhLfvW5phF0J1b9OKLLf/HRPlanes/YOLOV8/CORS_AD_HBB/val/labels.cache... 1722 images, 0 backgrounds, 0 corrupt: 100%|██████████| 1722/1722 [00:00<?, ?it/s]\n",
            "/usr/lib/python3.10/multiprocessing/popen_fork.py:66: RuntimeWarning: os.fork() was called. os.fork() is incompatible with multithreaded code, and JAX is multithreaded, so this will likely lead to a deadlock.\n",
            "  self.pid = os.fork()\n",
            "                 Class     Images  Instances      Box(P          R      mAP50  mAP50-95): 100%|██████████| 108/108 [00:28<00:00,  3.74it/s]\n"
          ]
        },
        {
          "output_type": "stream",
          "name": "stdout",
          "text": [
            "                   all       1722       7769      0.959      0.913      0.951      0.582\n",
            "Speed: 0.1ms preprocess, 3.9ms inference, 0.0ms loss, 2.3ms postprocess per image\n",
            "Results saved to \u001b[1mruns/detect/val\u001b[0m\n"
          ]
        }
      ]
    },
    {
      "cell_type": "code",
      "source": [
        "# @markdown Run this code block to monitor **box** metrics.\n",
        "\n",
        "attributes = [\n",
        "    ('metrics.box.map50', 'Mean Average Precision at IoU threshold of 0.5 for all classes.'),\n",
        "    ('metrics.box.map75', 'Mean Average Precision at IoU threshold of 0.75 for all classes.'),\n",
        "    ('metrics.box.ap', 'Average Precision at IoU thresholds from 0.5 to 0.95 for all classes.'),\n",
        "    ('metrics.box.mp', 'Mean Precision of all classes.'),\n",
        "    ('metrics.box.mr', 'Mean Recall of all classes.'),\n",
        "    # ('metrics.box.mean_results', 'Mean of results, returns Mean Precision, Mean Recall, Mean Average Precision at IoU threshold of 0.5, Mean Average Precision at IoU threshold of 0.5 to 0.95.'),\n",
        "    ('metrics.box.p', 'Precision for each class.'),\n",
        "    ('metrics.box.r', 'Recall for each class.'),\n",
        "    ('metrics.box.f1', 'F1 score for each class.'),\n",
        "    ('metrics.box.nc', 'Number of classes.')\n",
        "]\n",
        "\n",
        "for attr, explanation in attributes:\n",
        "    value = getattr(metrics.box, attr.split('.')[-1])\n",
        "    if isinstance(value, np.ndarray):\n",
        "        value = np.float64(value[0])\n",
        "    print(f'{attr}: {value:.4f} - {explanation}')\n",
        "\n",
        "box_metrics_dict = {}\n",
        "for attr, explanation in attributes:\n",
        "    value = getattr(metrics.box, attr.split('.')[-1])\n",
        "    if isinstance(value, np.ndarray):\n",
        "        value = np.float64(value[0])\n",
        "    box_metrics_dict[attr] = {\n",
        "        \"value\": value,\n",
        "        \"description\": explanation\n",
        "    }"
      ],
      "metadata": {
        "cellView": "form",
        "colab": {
          "base_uri": "https://localhost:8080/"
        },
        "outputId": "74e3736c-bbfe-42dc-dbaf-c6287a6fb93d",
        "id": "FfNkr-NGgAg2"
      },
      "execution_count": null,
      "outputs": [
        {
          "output_type": "stream",
          "name": "stdout",
          "text": [
            "metrics.box.map50: 0.9505 - Mean Average Precision at IoU threshold of 0.5 for all classes.\n",
            "metrics.box.map75: 0.6154 - Mean Average Precision at IoU threshold of 0.75 for all classes.\n",
            "metrics.box.ap: 0.5824 - Average Precision at IoU thresholds from 0.5 to 0.95 for all classes.\n",
            "metrics.box.mp: 0.9586 - Mean Precision of all classes.\n",
            "metrics.box.mr: 0.9130 - Mean Recall of all classes.\n",
            "metrics.box.p: 0.9586 - Precision for each class.\n",
            "metrics.box.r: 0.9130 - Recall for each class.\n",
            "metrics.box.f1: 0.9352 - F1 score for each class.\n",
            "metrics.box.nc: 1.0000 - Number of classes.\n"
          ]
        }
      ]
    },
    {
      "cell_type": "code",
      "source": [
        "# @markdown Run this block to monitor **best** metrics.\n",
        "\n",
        "for key, value in metrics.results_dict.items():\n",
        "    if key == 'metrics/precision(B)':\n",
        "        print(f'Precision: {value:.4f} - Percentage of correct positive predictions.')\n",
        "    elif key == 'metrics/recall(B)':\n",
        "        print(f'Recall: {value:.4f} - Percentage of actual positives that were correctly predicted.')\n",
        "    elif key == 'metrics/mAP50(B)':\n",
        "        print(f'mAP50: {value:.4f} - Mean Average Precision at 50% IOU.')\n",
        "    elif key == 'metrics/mAP50-95(B)':\n",
        "        print(f'mAP50-95: {value:.4f} - Mean Average Precision between 50% and 95% IOU.')\n",
        "    # else:\n",
        "    #     print(f'{key}: {value:.4f}')\n",
        "\n",
        "precision = metrics.results_dict['metrics/precision(B)']\n",
        "recall = metrics.results_dict['metrics/recall(B)']\n",
        "f1_score = 2 * (precision * recall) / (precision + recall)\n",
        "\n",
        "print(f'F1 Score: {f1_score:.4f} - Harmonic mean of precision and recall.')"
      ],
      "metadata": {
        "cellView": "form",
        "colab": {
          "base_uri": "https://localhost:8080/"
        },
        "outputId": "a4dd1df3-f13c-4254-fde7-2165498053da",
        "id": "QIL1MFXrgAg3"
      },
      "execution_count": null,
      "outputs": [
        {
          "output_type": "stream",
          "name": "stdout",
          "text": [
            "Precision: 0.9586 - Percentage of correct positive predictions.\n",
            "Recall: 0.9130 - Percentage of actual positives that were correctly predicted.\n",
            "mAP50: 0.9505 - Mean Average Precision at 50% IOU.\n",
            "mAP50-95: 0.5824 - Mean Average Precision between 50% and 95% IOU.\n",
            "F1 Score: 0.9352 - Harmonic mean of precision and recall.\n"
          ]
        }
      ]
    },
    {
      "cell_type": "markdown",
      "source": [
        "Plot confusion matrix for the predictions."
      ],
      "metadata": {
        "id": "EeUZfmxigAg4"
      }
    },
    {
      "cell_type": "code",
      "source": [
        "cm = metrics.confusion_matrix.matrix"
      ],
      "metadata": {
        "id": "S1QyZC-pgAg5"
      },
      "execution_count": null,
      "outputs": []
    },
    {
      "cell_type": "code",
      "source": [
        "plt.figure(figsize=(8, 6), dpi=300)\n",
        "sns.heatmap(cm.astype(int), annot=True, fmt='d', cmap='Greys', cbar=False)\n",
        "plt.xlabel('Predicted')\n",
        "plt.ylabel('Actual')\n",
        "plt.title('Confusion Matrix')\n",
        "plt.xticks(ticks=[0.5, 1.5], labels=['Plane', 'Background'])\n",
        "plt.yticks(ticks=[0.5, 1.5], labels=['Plane', 'Background'])\n",
        "plt.show()"
      ],
      "metadata": {
        "colab": {
          "base_uri": "https://localhost:8080/",
          "height": 906
        },
        "outputId": "7de4ea42-f1a0-4269-8095-50471e6b3967",
        "id": "gT_QLgVOgAg5"
      },
      "execution_count": null,
      "outputs": [
        {
          "output_type": "display_data",
          "data": {
            "text/plain": [
              "<Figure size 2400x1800 with 1 Axes>"
            ],
            "image/png": "[encoded data removed]"
          },
          "metadata": {}
        }
      ]
    },
    {
      "cell_type": "code",
      "source": [
        "TP = int(cm[0][0])\n",
        "FN = int(cm[1][0])\n",
        "FP = int(cm[0][1])\n",
        "\n",
        "accuracy = calculate_accuracy(TP, FN, FP)\n",
        "\n",
        "print(\"Accuracy:\", round(accuracy, 4))"
      ],
      "metadata": {
        "colab": {
          "base_uri": "https://localhost:8080/"
        },
        "outputId": "6f818d87-7ef8-4c44-b969-a845f1aaf0ff",
        "id": "Cnzqi73OgAg6"
      },
      "execution_count": null,
      "outputs": [
        {
          "output_type": "stream",
          "name": "stdout",
          "text": [
            "Accuracy: 0.8909\n"
          ]
        }
      ]
    },
    {
      "cell_type": "markdown",
      "source": [
        "### **1.2. Train and Validate Top YOLOv9 Models**"
      ],
      "metadata": {
        "id": "-KjR6siWOz_Q"
      }
    },
    {
      "cell_type": "markdown",
      "source": [
        "In this section, we detail the training and validation process of the top-performing YOLOv9 models using the HRPlanes dataset. The models are trained on a subset of the dataset and validated on a separate subset to ensure robust performance before further evaluation."
      ],
      "metadata": {
        "id": "V9UlYn4nhGla"
      }
    },
    {
      "cell_type": "code",
      "source": [
        "!git clone https://github.com/WongKinYiu/yolov9.git\n",
        "%cd yolov9\n",
        "!pip install -r requirements.txt -q"
      ],
      "metadata": {
        "colab": {
          "base_uri": "https://localhost:8080/"
        },
        "id": "hFyRBDJIRE9F",
        "outputId": "99e58474-24ed-4832-da5f-50e784a6c694"
      },
      "execution_count": null,
      "outputs": [
        {
          "output_type": "stream",
          "name": "stdout",
          "text": [
            "Cloning into 'yolov9'...\n",
            "remote: Enumerating objects: 781, done.\u001b[K\n",
            "remote: Total 781 (delta 0), reused 0 (delta 0), pack-reused 781 (from 1)\u001b[K\n",
            "Receiving objects: 100% (781/781), 3.27 MiB | 2.03 MiB/s, done.\n",
            "Resolving deltas: 100% (330/330), done.\n",
            "/content/yolov9\n",
            "\u001b[2K   \u001b[90m━━━━━━━━━━━━━━━━━━━━━━━━━━━━━━━━━━━━━━━━\u001b[0m \u001b[32m207.3/207.3 kB\u001b[0m \u001b[31m14.9 MB/s\u001b[0m eta \u001b[36m0:00:00\u001b[0m\n",
            "\u001b[2K   \u001b[90m━━━━━━━━━━━━━━━━━━━━━━━━━━━━━━━━━━━━━━━━\u001b[0m \u001b[32m62.7/62.7 kB\u001b[0m \u001b[31m5.2 MB/s\u001b[0m eta \u001b[36m0:00:00\u001b[0m\n",
            "\u001b[?25h"
          ]
        }
      ]
    },
    {
      "cell_type": "markdown",
      "source": [
        "#### **1.2.1. Train and Validate Model 4**"
      ],
      "metadata": {
        "id": "G1VIG02aO36M"
      }
    },
    {
      "cell_type": "code",
      "source": [
        "# @markdown ---\n",
        "\n",
        "IMAGE_SIZE = 640 # @param {type:\"integer\"}\n",
        "BATCH = 16 # @param {type:\"integer\"}\n",
        "# SGD, Adam, AdamW\n",
        "OPTIMIZER = 'SGD' # @param {type:\"string\"}\n",
        "\n",
        "# @markdown ---"
      ],
      "metadata": {
        "cellView": "form",
        "id": "Dmli8CDsQIaT"
      },
      "execution_count": null,
      "outputs": []
    },
    {
      "cell_type": "markdown",
      "source": [
        "**IMPORTANT:** Before training, check hyperparameters in `/content/yolov9/data/hyps/hyp.scratch-high.yaml`."
      ],
      "metadata": {
        "id": "y4JXmsODRAeC"
      }
    },
    {
      "cell_type": "code",
      "source": [
        "!python train_dual.py \\\n",
        "--batch-size {BATCH} --epochs 20 --imgsz {IMAGE_SIZE} --device 0 \\\n",
        "--data /content/coco_transfer_learning.yaml \\\n",
        "--weights {MODEL_4_PT} \\\n",
        "--cfg models/detect/yolov9-e.yaml \\\n",
        "--hyp hyp.scratch-high.yaml \\\n",
        "--optimizer {OPTIMIZER}"
      ],
      "metadata": {
        "colab": {
          "base_uri": "https://localhost:8080/"
        },
        "id": "ojWUMoSEQtpd",
        "outputId": "6da8c8aa-b17e-4d8b-da32-cdb660b35249"
      },
      "execution_count": null,
      "outputs": [
        {
          "output_type": "stream",
          "name": "stdout",
          "text": [
            "\u001b[34m\u001b[1mtrain_dual: \u001b[0mweights=/gdrive/MyDrive/Datasets/HRPlanes/YOLOV8/YOLOv9e/Experiment_No_58/epoch_75_100/runs/train/exp/weights/best.pt, cfg=models/detect/yolov9-e.yaml, data=/content/coco_transfer_learning.yaml, hyp=hyp.scratch-high.yaml, epochs=20, batch_size=16, imgsz=640, rect=False, resume=False, nosave=False, noval=False, noautoanchor=False, noplots=False, evolve=None, bucket=, cache=None, image_weights=False, device=0, multi_scale=False, single_cls=False, optimizer=SGD, sync_bn=False, workers=8, project=runs/train, name=exp, exist_ok=False, quad=False, cos_lr=False, flat_cos_lr=False, fixed_lr=False, label_smoothing=0.0, patience=100, freeze=[0], save_period=-1, seed=0, local_rank=-1, min_items=0, close_mosaic=0, entity=None, upload_dataset=False, bbox_interval=-1, artifact_alias=latest\n",
            "YOLO 🚀 v0.1-104-g5b1ea9a Python-3.10.12 torch-2.3.0+cu121 CUDA:0 (NVIDIA A100-SXM4-40GB, 40514MiB)\n",
            "\n",
            "\u001b[34m\u001b[1mhyperparameters: \u001b[0mlr0=0.001, lrf=0.01, momentum=0.937, weight_decay=0.0005, warmup_epochs=3.0, warmup_momentum=0.8, warmup_bias_lr=0.1, box=7.5, cls=0.5, cls_pw=1.0, obj=0.7, obj_pw=1.0, dfl=1.5, iou_t=0.2, anchor_t=5.0, fl_gamma=0.0, hsv_h=0.015, hsv_s=0.7, hsv_v=0.4, degrees=0.0, translate=0.1, scale=0.9, shear=0.0, perspective=0.0, flipud=0.0, fliplr=0.5, mosaic=1.0, mixup=0.15, copy_paste=0.3\n",
            "\u001b[34m\u001b[1mClearML: \u001b[0mrun 'pip install clearml' to automatically track, visualize and remotely train YOLO 🚀 in ClearML\n",
            "\u001b[34m\u001b[1mComet: \u001b[0mrun 'pip install comet_ml' to automatically track and visualize YOLO 🚀 runs in Comet\n",
            "\u001b[34m\u001b[1mTensorBoard: \u001b[0mStart with 'tensorboard --logdir runs/train', view at http://localhost:6006/\n",
            "Overriding model.yaml nc=80 with nc=1\n",
            "\n",
            "                 from  n    params  module                                  arguments                     \n",
            "  0                -1  1         0  models.common.Silence                   []                            \n",
            "  1                -1  1      1856  models.common.Conv                      [3, 64, 3, 2]                 \n",
            "  2                -1  1     73984  models.common.Conv                      [64, 128, 3, 2]               \n",
            "  3                -1  1    252160  models.common.RepNCSPELAN4              [128, 256, 128, 64, 2]        \n",
            "  4                -1  1    164352  models.common.ADown                     [256, 256]                    \n",
            "  5                -1  1   1004032  models.common.RepNCSPELAN4              [256, 512, 256, 128, 2]       \n",
            "  6                -1  1    656384  models.common.ADown                     [512, 512]                    \n",
            "  7                -1  1   4006912  models.common.RepNCSPELAN4              [512, 1024, 512, 256, 2]      \n",
            "  8                -1  1   2623488  models.common.ADown                     [1024, 1024]                  \n",
            "  9                -1  1   4269056  models.common.RepNCSPELAN4              [1024, 1024, 512, 256, 2]     \n",
            " 10                 1  1      4160  models.common.CBLinear                  [64, [64]]                    \n",
            " 11                 3  1     49344  models.common.CBLinear                  [256, [64, 128]]              \n",
            " 12                 5  1    229824  models.common.CBLinear                  [512, [64, 128, 256]]         \n",
            " 13                 7  1    984000  models.common.CBLinear                  [1024, [64, 128, 256, 512]]   \n",
            " 14                 9  1   2033600  models.common.CBLinear                  [1024, [64, 128, 256, 512, 1024]]\n",
            " 15                 0  1      1856  models.common.Conv                      [3, 64, 3, 2]                 \n",
            " 16[10, 11, 12, 13, 14, -1]  1         0  models.common.CBFuse                    [[0, 0, 0, 0, 0]]             \n",
            " 17                -1  1     73984  models.common.Conv                      [64, 128, 3, 2]               \n",
            " 18[11, 12, 13, 14, -1]  1         0  models.common.CBFuse                    [[1, 1, 1, 1]]                \n",
            " 19                -1  1    252160  models.common.RepNCSPELAN4              [128, 256, 128, 64, 2]        \n",
            " 20                -1  1    164352  models.common.ADown                     [256, 256]                    \n",
            " 21  [12, 13, 14, -1]  1         0  models.common.CBFuse                    [[2, 2, 2]]                   \n",
            " 22                -1  1   1004032  models.common.RepNCSPELAN4              [256, 512, 256, 128, 2]       \n",
            " 23                -1  1    656384  models.common.ADown                     [512, 512]                    \n",
            " 24      [13, 14, -1]  1         0  models.common.CBFuse                    [[3, 3]]                      \n",
            " 25                -1  1   4006912  models.common.RepNCSPELAN4              [512, 1024, 512, 256, 2]      \n",
            " 26                -1  1   2623488  models.common.ADown                     [1024, 1024]                  \n",
            " 27          [14, -1]  1         0  models.common.CBFuse                    [[4]]                         \n",
            " 28                -1  1   4269056  models.common.RepNCSPELAN4              [1024, 1024, 512, 256, 2]     \n",
            " 29                 9  1    787968  models.common.SPPELAN                   [1024, 512, 256]              \n",
            " 30                -1  1         0  torch.nn.modules.upsampling.Upsample    [None, 2, 'nearest']          \n",
            " 31           [-1, 7]  1         0  models.common.Concat                    [1]                           \n",
            " 32                -1  1   4005888  models.common.RepNCSPELAN4              [1536, 512, 512, 256, 2]      \n",
            " 33                -1  1         0  torch.nn.modules.upsampling.Upsample    [None, 2, 'nearest']          \n",
            " 34           [-1, 5]  1         0  models.common.Concat                    [1]                           \n",
            " 35                -1  1   1069056  models.common.RepNCSPELAN4              [1024, 256, 256, 128, 2]      \n",
            " 36                28  1    787968  models.common.SPPELAN                   [1024, 512, 256]              \n",
            " 37                -1  1         0  torch.nn.modules.upsampling.Upsample    [None, 2, 'nearest']          \n",
            " 38          [-1, 25]  1         0  models.common.Concat                    [1]                           \n",
            " 39                -1  1   4005888  models.common.RepNCSPELAN4              [1536, 512, 512, 256, 2]      \n",
            " 40                -1  1         0  torch.nn.modules.upsampling.Upsample    [None, 2, 'nearest']          \n",
            " 41          [-1, 22]  1         0  models.common.Concat                    [1]                           \n",
            " 42                -1  1   1069056  models.common.RepNCSPELAN4              [1024, 256, 256, 128, 2]      \n",
            " 43                -1  1    164352  models.common.ADown                     [256, 256]                    \n",
            " 44          [-1, 39]  1         0  models.common.Concat                    [1]                           \n",
            " 45                -1  1   3612672  models.common.RepNCSPELAN4              [768, 512, 512, 256, 2]       \n",
            " 46                -1  1    656384  models.common.ADown                     [512, 512]                    \n",
            " 47          [-1, 36]  1         0  models.common.Concat                    [1]                           \n",
            " 48                -1  1  12860416  models.common.RepNCSPELAN4              [1024, 512, 1024, 512, 2]     \n",
            " 49[35, 32, 29, 42, 45, 48]  1  10982822  models.yolo.DualDDetect                 [1, [256, 512, 512, 256, 512, 512]]\n",
            "yolov9-e summary: 1475 layers, 69407846 parameters, 69407814 gradients, 244.8 GFLOPs\n",
            "\n",
            "Transferred 2172/2172 items from /gdrive/MyDrive/Datasets/HRPlanes/YOLOV8/YOLOv9e/Experiment_No_58/epoch_75_100/runs/train/exp/weights/best.pt\n",
            "\u001b[34m\u001b[1mAMP: \u001b[0mchecks passed ✅\n",
            "\u001b[34m\u001b[1moptimizer:\u001b[0m SGD(lr=0.001) with parameter groups 356 weight(decay=0.0), 375 weight(decay=0.0005), 373 bias\n",
            "\u001b[34m\u001b[1malbumentations: \u001b[0mBlur(p=0.01, blur_limit=(3, 7)), MedianBlur(p=0.01, blur_limit=(3, 7)), ToGray(p=0.01), CLAHE(p=0.01, clip_limit=(1, 4.0), tile_grid_size=(8, 8))\n",
            "/usr/lib/python3.10/multiprocessing/popen_fork.py:66: RuntimeWarning: os.fork() was called. os.fork() is incompatible with multithreaded code, and JAX is multithreaded, so this will likely lead to a deadlock.\n",
            "  self.pid = os.fork()\n",
            "\u001b[34m\u001b[1mtrain: \u001b[0mScanning /gdrive/.shortcut-targets-by-id/1vm60fy0ismvMuhLfvW5phF0J1b9OKLLf/HRPlanes/YOLOV8/CORS_AD_HBB/train/labels... 3764 images, 0 backgrounds, 0 corrupt: 100% 3764/3764 [00:47<00:00, 79.10it/s] \n",
            "\u001b[34m\u001b[1mtrain: \u001b[0mNew cache created: /gdrive/.shortcut-targets-by-id/1vm60fy0ismvMuhLfvW5phF0J1b9OKLLf/HRPlanes/YOLOV8/CORS_AD_HBB/train/labels.cache\n",
            "\u001b[34m\u001b[1mval: \u001b[0mScanning /gdrive/.shortcut-targets-by-id/1vm60fy0ismvMuhLfvW5phF0J1b9OKLLf/HRPlanes/YOLOV8/CORS_AD_HBB/val/labels... 1722 images, 0 backgrounds, 0 corrupt: 100% 1722/1722 [00:20<00:00, 83.44it/s] \n",
            "\u001b[34m\u001b[1mval: \u001b[0mNew cache created: /gdrive/.shortcut-targets-by-id/1vm60fy0ismvMuhLfvW5phF0J1b9OKLLf/HRPlanes/YOLOV8/CORS_AD_HBB/val/labels.cache\n",
            "Plotting labels to runs/train/exp/labels.jpg... \n",
            "Image sizes 640 train, 640 val\n",
            "Using 8 dataloader workers\n",
            "Logging results to \u001b[1mruns/train/exp\u001b[0m\n",
            "Starting training for 20 epochs...\n",
            "\n",
            "      Epoch    GPU_mem   box_loss   cls_loss   dfl_loss  Instances       Size\n",
            "       0/19      22.6G      2.197        1.1      1.946        180        640:   0% 0/236 [00:02<?, ?it/s]WARNING ⚠️ TensorBoard graph visualization failure Only tensors, lists, tuples of tensors, or dictionary of tensors can be output from traced functions\n",
            "       0/19      26.5G      2.115      0.919      1.919         26        640: 100% 236/236 [02:16<00:00,  1.73it/s]\n",
            "                 Class     Images  Instances          P          R      mAP50   mAP50-95: 100% 54/54 [00:23<00:00,  2.26it/s]\n",
            "                   all       1722       7769      0.925      0.866      0.907       0.47\n",
            "\n",
            "      Epoch    GPU_mem   box_loss   cls_loss   dfl_loss  Instances       Size\n",
            "       1/19      32.1G      1.987     0.8106      1.691         22        640: 100% 236/236 [01:56<00:00,  2.03it/s]\n",
            "                 Class     Images  Instances          P          R      mAP50   mAP50-95: 100% 54/54 [00:23<00:00,  2.30it/s]\n",
            "                   all       1722       7769      0.928      0.885      0.923      0.509\n",
            "\n",
            "      Epoch    GPU_mem   box_loss   cls_loss   dfl_loss  Instances       Size\n",
            "       2/19      32.1G      1.928     0.8026      1.635         34        640: 100% 236/236 [01:53<00:00,  2.08it/s]\n",
            "                 Class     Images  Instances          P          R      mAP50   mAP50-95: 100% 54/54 [00:23<00:00,  2.32it/s]\n",
            "                   all       1722       7769      0.936      0.885      0.928      0.513\n",
            "\n",
            "      Epoch    GPU_mem   box_loss   cls_loss   dfl_loss  Instances       Size\n",
            "       3/19      32.1G      1.923     0.7968       1.64         35        640: 100% 236/236 [01:52<00:00,  2.10it/s]\n",
            "                 Class     Images  Instances          P          R      mAP50   mAP50-95: 100% 54/54 [00:23<00:00,  2.32it/s]\n",
            "                   all       1722       7769      0.936      0.897      0.931      0.532\n",
            "\n",
            "      Epoch    GPU_mem   box_loss   cls_loss   dfl_loss  Instances       Size\n",
            "       4/19      32.1G      1.885     0.7914      1.614         21        640: 100% 236/236 [01:51<00:00,  2.11it/s]\n",
            "                 Class     Images  Instances          P          R      mAP50   mAP50-95: 100% 54/54 [00:23<00:00,  2.31it/s]\n",
            "                   all       1722       7769      0.943      0.898      0.938      0.539\n",
            "\n",
            "      Epoch    GPU_mem   box_loss   cls_loss   dfl_loss  Instances       Size\n",
            "       5/19      32.1G      1.865     0.7745      1.608         23        640: 100% 236/236 [01:52<00:00,  2.10it/s]\n",
            "                 Class     Images  Instances          P          R      mAP50   mAP50-95: 100% 54/54 [00:23<00:00,  2.31it/s]\n",
            "                   all       1722       7769      0.947      0.901      0.939      0.545\n",
            "\n",
            "      Epoch    GPU_mem   box_loss   cls_loss   dfl_loss  Instances       Size\n",
            "       6/19      32.1G      1.845     0.7788      1.586         21        640: 100% 236/236 [01:51<00:00,  2.11it/s]\n",
            "                 Class     Images  Instances          P          R      mAP50   mAP50-95: 100% 54/54 [00:23<00:00,  2.33it/s]\n",
            "                   all       1722       7769      0.952      0.904      0.943      0.551\n",
            "\n",
            "      Epoch    GPU_mem   box_loss   cls_loss   dfl_loss  Instances       Size\n",
            "       7/19      32.1G      1.808     0.7562      1.569          9        640: 100% 236/236 [01:52<00:00,  2.10it/s]\n",
            "                 Class     Images  Instances          P          R      mAP50   mAP50-95: 100% 54/54 [00:23<00:00,  2.30it/s]\n",
            "                   all       1722       7769      0.948      0.904      0.944      0.557\n",
            "\n",
            "      Epoch    GPU_mem   box_loss   cls_loss   dfl_loss  Instances       Size\n",
            "       8/19      32.1G      1.803     0.7486       1.57         37        640: 100% 236/236 [01:52<00:00,  2.10it/s]\n",
            "                 Class     Images  Instances          P          R      mAP50   mAP50-95: 100% 54/54 [00:23<00:00,  2.30it/s]\n",
            "                   all       1722       7769      0.949      0.913      0.945       0.56\n",
            "\n",
            "      Epoch    GPU_mem   box_loss   cls_loss   dfl_loss  Instances       Size\n",
            "       9/19      32.1G      1.764     0.7349      1.567         26        640: 100% 236/236 [01:51<00:00,  2.11it/s]\n",
            "                 Class     Images  Instances          P          R      mAP50   mAP50-95: 100% 54/54 [00:23<00:00,  2.29it/s]\n",
            "                   all       1722       7769      0.944      0.902      0.938       0.55\n",
            "\n",
            "      Epoch    GPU_mem   box_loss   cls_loss   dfl_loss  Instances       Size\n",
            "      10/19      32.1G      1.766     0.7228      1.566         11        640: 100% 236/236 [01:52<00:00,  2.10it/s]\n",
            "                 Class     Images  Instances          P          R      mAP50   mAP50-95: 100% 54/54 [00:23<00:00,  2.29it/s]\n",
            "                   all       1722       7769      0.948      0.913      0.946      0.565\n",
            "\n",
            "      Epoch    GPU_mem   box_loss   cls_loss   dfl_loss  Instances       Size\n",
            "      11/19      32.1G      1.738     0.7064      1.554         67        640: 100% 236/236 [01:52<00:00,  2.11it/s]\n",
            "                 Class     Images  Instances          P          R      mAP50   mAP50-95: 100% 54/54 [00:23<00:00,  2.30it/s]\n",
            "                   all       1722       7769      0.956      0.911      0.948      0.574\n",
            "\n",
            "      Epoch    GPU_mem   box_loss   cls_loss   dfl_loss  Instances       Size\n",
            "      12/19      32.1G      1.707     0.7017      1.551         40        640: 100% 236/236 [01:52<00:00,  2.09it/s]\n",
            "                 Class     Images  Instances          P          R      mAP50   mAP50-95: 100% 54/54 [00:23<00:00,  2.30it/s]\n",
            "                   all       1722       7769      0.952      0.919      0.949      0.575\n",
            "\n",
            "      Epoch    GPU_mem   box_loss   cls_loss   dfl_loss  Instances       Size\n",
            "      13/19      32.1G      1.699     0.6965      1.517          8        640: 100% 236/236 [01:52<00:00,  2.09it/s]\n",
            "                 Class     Images  Instances          P          R      mAP50   mAP50-95: 100% 54/54 [00:23<00:00,  2.29it/s]\n",
            "                   all       1722       7769      0.956      0.914       0.95      0.578\n",
            "\n",
            "      Epoch    GPU_mem   box_loss   cls_loss   dfl_loss  Instances       Size\n",
            "      14/19      32.1G      1.719     0.6986      1.522         17        640: 100% 236/236 [01:52<00:00,  2.09it/s]\n",
            "                 Class     Images  Instances          P          R      mAP50   mAP50-95: 100% 54/54 [00:23<00:00,  2.30it/s]\n",
            "                   all       1722       7769      0.955      0.912      0.949      0.579\n",
            "\n",
            "      Epoch    GPU_mem   box_loss   cls_loss   dfl_loss  Instances       Size\n",
            "      15/19      32.1G      1.675      0.696      1.513         46        640: 100% 236/236 [01:51<00:00,  2.11it/s]\n",
            "                 Class     Images  Instances          P          R      mAP50   mAP50-95: 100% 54/54 [00:23<00:00,  2.29it/s]\n",
            "                   all       1722       7769      0.954      0.913      0.951      0.583\n",
            "\n",
            "      Epoch    GPU_mem   box_loss   cls_loss   dfl_loss  Instances       Size\n",
            "      16/19      32.1G      1.663     0.6816      1.514         68        640: 100% 236/236 [01:52<00:00,  2.09it/s]\n",
            "                 Class     Images  Instances          P          R      mAP50   mAP50-95: 100% 54/54 [00:23<00:00,  2.29it/s]\n",
            "                   all       1722       7769      0.954      0.917      0.951      0.584\n",
            "\n",
            "      Epoch    GPU_mem   box_loss   cls_loss   dfl_loss  Instances       Size\n",
            "      17/19      32.1G       1.65     0.6702      1.499         38        640: 100% 236/236 [01:52<00:00,  2.10it/s]\n",
            "                 Class     Images  Instances          P          R      mAP50   mAP50-95: 100% 54/54 [00:23<00:00,  2.26it/s]\n",
            "                   all       1722       7769      0.953      0.917      0.951      0.588\n",
            "\n",
            "      Epoch    GPU_mem   box_loss   cls_loss   dfl_loss  Instances       Size\n",
            "      18/19      32.1G      1.655     0.6681      1.494         73        640: 100% 236/236 [01:52<00:00,  2.10it/s]\n",
            "                 Class     Images  Instances          P          R      mAP50   mAP50-95: 100% 54/54 [00:23<00:00,  2.30it/s]\n",
            "                   all       1722       7769      0.955       0.92      0.952      0.593\n",
            "\n",
            "      Epoch    GPU_mem   box_loss   cls_loss   dfl_loss  Instances       Size\n",
            "      19/19      32.1G       1.66     0.6676       1.49         21        640: 100% 236/236 [01:52<00:00,  2.10it/s]\n",
            "                 Class     Images  Instances          P          R      mAP50   mAP50-95: 100% 54/54 [00:23<00:00,  2.29it/s]\n",
            "                   all       1722       7769      0.956      0.924      0.953      0.594\n",
            "\n",
            "20 epochs completed in 0.787 hours.\n",
            "Optimizer stripped from runs/train/exp/weights/last.pt, 140.0MB\n",
            "Optimizer stripped from runs/train/exp/weights/best.pt, 140.0MB\n",
            "\n",
            "Validating runs/train/exp/weights/best.pt...\n",
            "Fusing layers... \n",
            "yolov9-e summary: 839 layers, 68547814 parameters, 0 gradients, 240.7 GFLOPs\n",
            "                 Class     Images  Instances          P          R      mAP50   mAP50-95: 100% 54/54 [00:27<00:00,  1.99it/s]\n",
            "                   all       1722       7769      0.956      0.924      0.953      0.594\n",
            "Results saved to \u001b[1mruns/train/exp\u001b[0m\n"
          ]
        }
      ]
    },
    {
      "cell_type": "code",
      "source": [
        "!python val_dual.py \\\n",
        "--img 640 --batch 16 \\\n",
        "--data /content/coco_transfer_learning.yaml \\\n",
        "--weights /content/yolov9/runs/train/exp/weights/best.pt"
      ],
      "metadata": {
        "colab": {
          "base_uri": "https://localhost:8080/"
        },
        "id": "Xp7I32rnqyOE",
        "outputId": "5214cf0d-9d58-4115-b7d7-6d365c8efa74"
      },
      "execution_count": null,
      "outputs": [
        {
          "output_type": "stream",
          "name": "stdout",
          "text": [
            "\u001b[34m\u001b[1mval_dual: \u001b[0mdata=/content/coco_transfer_learning.yaml, weights=['/gdrive/MyDrive/4.pt'], batch_size=16, imgsz=640, conf_thres=0.001, iou_thres=0.7, max_det=300, task=val, device=, workers=8, single_cls=False, augment=False, verbose=False, save_txt=False, save_hybrid=False, save_conf=False, save_json=False, project=runs/val, name=exp, exist_ok=False, half=False, dnn=False, min_items=0\n",
            "YOLO 🚀 v0.1-104-g5b1ea9a Python-3.10.12 torch-2.4.0+cu121 CUDA:0 (NVIDIA A100-SXM4-40GB, 40514MiB)\n",
            "\n",
            "/content/yolov9/models/experimental.py:243: FutureWarning: You are using `torch.load` with `weights_only=False` (the current default value), which uses the default pickle module implicitly. It is possible to construct malicious pickle data which will execute arbitrary code during unpickling (See https://github.com/pytorch/pytorch/blob/main/SECURITY.md#untrusted-models for more details). In a future release, the default value for `weights_only` will be flipped to `True`. This limits the functions that could be executed during unpickling. Arbitrary objects will no longer be allowed to be loaded via this mode unless they are explicitly allowlisted by the user via `torch.serialization.add_safe_globals`. We recommend you start setting `weights_only=True` for any use case where you don't have full control of the loaded file. Please open an issue on GitHub for any issues related to this experimental feature.\n",
            "  ckpt = torch.load(attempt_download(w), map_location='cpu')  # load\n",
            "Fusing layers... \n",
            "yolov9-e summary: 839 layers, 68547814 parameters, 0 gradients, 240.7 GFLOPs\n",
            "\u001b[34m\u001b[1mval: \u001b[0mScanning /gdrive/.shortcut-targets-by-id/1vm60fy0ismvMuhLfvW5phF0J1b9OKLLf/HRPlanes/YOLOV8/CORS_AD_HBB/val/labels.cache... 1722 images, 0 backgrounds, 0 corrupt: 100% 1722/1722 [00:00<?, ?it/s]\n",
            "                 Class     Images  Instances          P          R      mAP50   mAP50-95: 100% 108/108 [00:43<00:00,  2.51it/s]\n",
            "                   all       1722       7769      0.956      0.923     0.9526     0.5942\n",
            "Speed: 0.1ms pre-process, 11.0ms inference, 1.4ms NMS per image at shape (16, 3, 640, 640)\n",
            "\n",
            "Confusion Matrix:\n",
            "[[       7280         337]\n",
            " [        489           0]]\n",
            "Results saved to \u001b[1mruns/val/exp3\u001b[0m\n"
          ]
        }
      ]
    },
    {
      "cell_type": "markdown",
      "source": [
        "#### **1.2.2. Train and Validate Model 5**"
      ],
      "metadata": {
        "id": "xu0_jiA8PN2x"
      }
    },
    {
      "cell_type": "code",
      "source": [
        "# @markdown ---\n",
        "\n",
        "IMAGE_SIZE = 640 # @param {type:\"integer\"}\n",
        "BATCH = 16 # @param {type:\"integer\"}\n",
        "# SGD, Adam, AdamW\n",
        "OPTIMIZER = 'SGD' # @param {type:\"string\"}\n",
        "\n",
        "# @markdown ---"
      ],
      "metadata": {
        "cellView": "form",
        "id": "HPuOHWycQJ_U"
      },
      "execution_count": null,
      "outputs": []
    },
    {
      "cell_type": "markdown",
      "source": [
        "**IMPORTANT:** Before training, check hyperparameters in `/content/yolov9/data/hyps/hyp.scratch-high.yaml`."
      ],
      "metadata": {
        "id": "y8XZKj6PQ_5P"
      }
    },
    {
      "cell_type": "code",
      "source": [
        "!python train_dual.py \\\n",
        "--batch-size {BATCH} --epochs 20 --imgsz {IMAGE_SIZE} --device 0 \\\n",
        "--data /content/coco_transfer_learning.yaml \\\n",
        "--weights {MODEL_5_PT} \\\n",
        "--cfg models/detect/yolov9-e.yaml \\\n",
        "--hyp hyp.scratch-high.yaml \\\n",
        "--optimizer {OPTIMIZER}"
      ],
      "metadata": {
        "colab": {
          "base_uri": "https://localhost:8080/"
        },
        "id": "KUx8EU5AQQw6",
        "outputId": "2d793806-6cd8-4728-b21d-44e661fc881d"
      },
      "execution_count": null,
      "outputs": [
        {
          "output_type": "stream",
          "name": "stdout",
          "text": [
            "\u001b[34m\u001b[1mtrain_dual: \u001b[0mweights=/gdrive/MyDrive/Datasets/HRPlanes/YOLOV8/YOLOv9e/Experiment_No_57/runs/train/exp/weights/best.pt, cfg=models/detect/yolov9-e.yaml, data=/content/coco_transfer_learning.yaml, hyp=hyp.scratch-high.yaml, epochs=20, batch_size=16, imgsz=640, rect=False, resume=False, nosave=False, noval=False, noautoanchor=False, noplots=False, evolve=None, bucket=, cache=None, image_weights=False, device=0, multi_scale=False, single_cls=False, optimizer=SGD, sync_bn=False, workers=8, project=runs/train, name=exp, exist_ok=False, quad=False, cos_lr=False, flat_cos_lr=False, fixed_lr=False, label_smoothing=0.0, patience=100, freeze=[0], save_period=-1, seed=0, local_rank=-1, min_items=0, close_mosaic=0, entity=None, upload_dataset=False, bbox_interval=-1, artifact_alias=latest\n",
            "YOLO 🚀 v0.1-104-g5b1ea9a Python-3.10.12 torch-2.3.0+cu121 CUDA:0 (NVIDIA A100-SXM4-40GB, 40514MiB)\n",
            "\n",
            "\u001b[34m\u001b[1mhyperparameters: \u001b[0mlr0=0.001, lrf=0.01, momentum=0.937, weight_decay=0.0005, warmup_epochs=3.0, warmup_momentum=0.8, warmup_bias_lr=0.1, box=7.5, cls=0.5, cls_pw=1.0, obj=0.7, obj_pw=1.0, dfl=1.5, iou_t=0.2, anchor_t=5.0, fl_gamma=0.0, hsv_h=0, hsv_s=0, hsv_v=0, degrees=0.0, translate=0.1, scale=0.9, shear=0.0, perspective=0.0, flipud=0.0, fliplr=0.5, mosaic=0, mixup=0.15, copy_paste=0.3\n",
            "\u001b[34m\u001b[1mClearML: \u001b[0mrun 'pip install clearml' to automatically track, visualize and remotely train YOLO 🚀 in ClearML\n",
            "\u001b[34m\u001b[1mComet: \u001b[0mrun 'pip install comet_ml' to automatically track and visualize YOLO 🚀 runs in Comet\n",
            "\u001b[34m\u001b[1mTensorBoard: \u001b[0mStart with 'tensorboard --logdir runs/train', view at http://localhost:6006/\n",
            "Overriding model.yaml nc=80 with nc=1\n",
            "\n",
            "                 from  n    params  module                                  arguments                     \n",
            "  0                -1  1         0  models.common.Silence                   []                            \n",
            "  1                -1  1      1856  models.common.Conv                      [3, 64, 3, 2]                 \n",
            "  2                -1  1     73984  models.common.Conv                      [64, 128, 3, 2]               \n",
            "  3                -1  1    252160  models.common.RepNCSPELAN4              [128, 256, 128, 64, 2]        \n",
            "  4                -1  1    164352  models.common.ADown                     [256, 256]                    \n",
            "  5                -1  1   1004032  models.common.RepNCSPELAN4              [256, 512, 256, 128, 2]       \n",
            "  6                -1  1    656384  models.common.ADown                     [512, 512]                    \n",
            "  7                -1  1   4006912  models.common.RepNCSPELAN4              [512, 1024, 512, 256, 2]      \n",
            "  8                -1  1   2623488  models.common.ADown                     [1024, 1024]                  \n",
            "  9                -1  1   4269056  models.common.RepNCSPELAN4              [1024, 1024, 512, 256, 2]     \n",
            " 10                 1  1      4160  models.common.CBLinear                  [64, [64]]                    \n",
            " 11                 3  1     49344  models.common.CBLinear                  [256, [64, 128]]              \n",
            " 12                 5  1    229824  models.common.CBLinear                  [512, [64, 128, 256]]         \n",
            " 13                 7  1    984000  models.common.CBLinear                  [1024, [64, 128, 256, 512]]   \n",
            " 14                 9  1   2033600  models.common.CBLinear                  [1024, [64, 128, 256, 512, 1024]]\n",
            " 15                 0  1      1856  models.common.Conv                      [3, 64, 3, 2]                 \n",
            " 16[10, 11, 12, 13, 14, -1]  1         0  models.common.CBFuse                    [[0, 0, 0, 0, 0]]             \n",
            " 17                -1  1     73984  models.common.Conv                      [64, 128, 3, 2]               \n",
            " 18[11, 12, 13, 14, -1]  1         0  models.common.CBFuse                    [[1, 1, 1, 1]]                \n",
            " 19                -1  1    252160  models.common.RepNCSPELAN4              [128, 256, 128, 64, 2]        \n",
            " 20                -1  1    164352  models.common.ADown                     [256, 256]                    \n",
            " 21  [12, 13, 14, -1]  1         0  models.common.CBFuse                    [[2, 2, 2]]                   \n",
            " 22                -1  1   1004032  models.common.RepNCSPELAN4              [256, 512, 256, 128, 2]       \n",
            " 23                -1  1    656384  models.common.ADown                     [512, 512]                    \n",
            " 24      [13, 14, -1]  1         0  models.common.CBFuse                    [[3, 3]]                      \n",
            " 25                -1  1   4006912  models.common.RepNCSPELAN4              [512, 1024, 512, 256, 2]      \n",
            " 26                -1  1   2623488  models.common.ADown                     [1024, 1024]                  \n",
            " 27          [14, -1]  1         0  models.common.CBFuse                    [[4]]                         \n",
            " 28                -1  1   4269056  models.common.RepNCSPELAN4              [1024, 1024, 512, 256, 2]     \n",
            " 29                 9  1    787968  models.common.SPPELAN                   [1024, 512, 256]              \n",
            " 30                -1  1         0  torch.nn.modules.upsampling.Upsample    [None, 2, 'nearest']          \n",
            " 31           [-1, 7]  1         0  models.common.Concat                    [1]                           \n",
            " 32                -1  1   4005888  models.common.RepNCSPELAN4              [1536, 512, 512, 256, 2]      \n",
            " 33                -1  1         0  torch.nn.modules.upsampling.Upsample    [None, 2, 'nearest']          \n",
            " 34           [-1, 5]  1         0  models.common.Concat                    [1]                           \n",
            " 35                -1  1   1069056  models.common.RepNCSPELAN4              [1024, 256, 256, 128, 2]      \n",
            " 36                28  1    787968  models.common.SPPELAN                   [1024, 512, 256]              \n",
            " 37                -1  1         0  torch.nn.modules.upsampling.Upsample    [None, 2, 'nearest']          \n",
            " 38          [-1, 25]  1         0  models.common.Concat                    [1]                           \n",
            " 39                -1  1   4005888  models.common.RepNCSPELAN4              [1536, 512, 512, 256, 2]      \n",
            " 40                -1  1         0  torch.nn.modules.upsampling.Upsample    [None, 2, 'nearest']          \n",
            " 41          [-1, 22]  1         0  models.common.Concat                    [1]                           \n",
            " 42                -1  1   1069056  models.common.RepNCSPELAN4              [1024, 256, 256, 128, 2]      \n",
            " 43                -1  1    164352  models.common.ADown                     [256, 256]                    \n",
            " 44          [-1, 39]  1         0  models.common.Concat                    [1]                           \n",
            " 45                -1  1   3612672  models.common.RepNCSPELAN4              [768, 512, 512, 256, 2]       \n",
            " 46                -1  1    656384  models.common.ADown                     [512, 512]                    \n",
            " 47          [-1, 36]  1         0  models.common.Concat                    [1]                           \n",
            " 48                -1  1  12860416  models.common.RepNCSPELAN4              [1024, 512, 1024, 512, 2]     \n",
            " 49[35, 32, 29, 42, 45, 48]  1  10982822  models.yolo.DualDDetect                 [1, [256, 512, 512, 256, 512, 512]]\n",
            "yolov9-e summary: 1475 layers, 69407846 parameters, 69407814 gradients, 244.8 GFLOPs\n",
            "\n",
            "Transferred 2172/2172 items from /gdrive/MyDrive/Datasets/HRPlanes/YOLOV8/YOLOv9e/Experiment_No_57/runs/train/exp/weights/best.pt\n",
            "\u001b[34m\u001b[1mAMP: \u001b[0mchecks passed ✅\n",
            "\u001b[34m\u001b[1moptimizer:\u001b[0m SGD(lr=0.001) with parameter groups 356 weight(decay=0.0), 375 weight(decay=0.0005), 373 bias\n",
            "\u001b[34m\u001b[1malbumentations: \u001b[0mBlur(p=0.01, blur_limit=(3, 7)), MedianBlur(p=0.01, blur_limit=(3, 7)), ToGray(p=0.01), CLAHE(p=0.01, clip_limit=(1, 4.0), tile_grid_size=(8, 8))\n",
            "\u001b[34m\u001b[1mtrain: \u001b[0mScanning /gdrive/.shortcut-targets-by-id/1vm60fy0ismvMuhLfvW5phF0J1b9OKLLf/HRPlanes/YOLOV8/CORS_AD_HBB/train/labels.cache... 3764 images, 0 backgrounds, 0 corrupt: 100% 3764/3764 [00:00<?, ?it/s]\n",
            "/usr/lib/python3.10/multiprocessing/popen_fork.py:66: RuntimeWarning: os.fork() was called. os.fork() is incompatible with multithreaded code, and JAX is multithreaded, so this will likely lead to a deadlock.\n",
            "  self.pid = os.fork()\n",
            "\u001b[34m\u001b[1mval: \u001b[0mScanning /gdrive/.shortcut-targets-by-id/1vm60fy0ismvMuhLfvW5phF0J1b9OKLLf/HRPlanes/YOLOV8/CORS_AD_HBB/val/labels.cache... 1722 images, 0 backgrounds, 0 corrupt: 100% 1722/1722 [00:00<?, ?it/s]\n",
            "Plotting labels to runs/train/exp2/labels.jpg... \n",
            "Image sizes 640 train, 640 val\n",
            "Using 8 dataloader workers\n",
            "Logging results to \u001b[1mruns/train/exp2\u001b[0m\n",
            "Starting training for 20 epochs...\n",
            "\n",
            "      Epoch    GPU_mem   box_loss   cls_loss   dfl_loss  Instances       Size\n",
            "       0/19      22.2G      2.395      1.055      2.267         67        640:   0% 0/236 [00:02<?, ?it/s]WARNING ⚠️ TensorBoard graph visualization failure Only tensors, lists, tuples of tensors, or dictionary of tensors can be output from traced functions\n",
            "       0/19      27.3G      2.097     0.8664      2.034         10        640: 100% 236/236 [02:10<00:00,  1.80it/s]\n",
            "                 Class     Images  Instances          P          R      mAP50   mAP50-95: 100% 54/54 [00:23<00:00,  2.28it/s]\n",
            "                   all       1722       7769      0.926      0.843      0.896      0.463\n",
            "\n",
            "      Epoch    GPU_mem   box_loss   cls_loss   dfl_loss  Instances       Size\n",
            "       1/19      32.4G       1.97     0.7656      1.736          6        640: 100% 236/236 [01:52<00:00,  2.09it/s]\n",
            "                 Class     Images  Instances          P          R      mAP50   mAP50-95: 100% 54/54 [00:23<00:00,  2.29it/s]\n",
            "                   all       1722       7769       0.93      0.861      0.911      0.495\n",
            "\n",
            "      Epoch    GPU_mem   box_loss   cls_loss   dfl_loss  Instances       Size\n",
            "       2/19      32.4G      1.951     0.7513      1.708          7        640: 100% 236/236 [01:49<00:00,  2.15it/s]\n",
            "                 Class     Images  Instances          P          R      mAP50   mAP50-95: 100% 54/54 [00:23<00:00,  2.28it/s]\n",
            "                   all       1722       7769      0.936      0.871      0.921      0.509\n",
            "\n",
            "      Epoch    GPU_mem   box_loss   cls_loss   dfl_loss  Instances       Size\n",
            "       3/19      32.4G       1.91     0.7537      1.697         17        640: 100% 236/236 [01:48<00:00,  2.17it/s]\n",
            "                 Class     Images  Instances          P          R      mAP50   mAP50-95: 100% 54/54 [00:23<00:00,  2.31it/s]\n",
            "                   all       1722       7769      0.933      0.871      0.919      0.507\n",
            "\n",
            "      Epoch    GPU_mem   box_loss   cls_loss   dfl_loss  Instances       Size\n",
            "       4/19      32.4G      1.885     0.7541      1.703          9        640: 100% 236/236 [01:48<00:00,  2.18it/s]\n",
            "                 Class     Images  Instances          P          R      mAP50   mAP50-95: 100% 54/54 [00:23<00:00,  2.31it/s]\n",
            "                   all       1722       7769      0.941       0.88      0.924      0.522\n",
            "\n",
            "      Epoch    GPU_mem   box_loss   cls_loss   dfl_loss  Instances       Size\n",
            "       5/19      32.4G      1.868     0.7266      1.687          5        640: 100% 236/236 [01:48<00:00,  2.17it/s]\n",
            "                 Class     Images  Instances          P          R      mAP50   mAP50-95: 100% 54/54 [00:23<00:00,  2.31it/s]\n",
            "                   all       1722       7769       0.94      0.888      0.931      0.538\n",
            "\n",
            "      Epoch    GPU_mem   box_loss   cls_loss   dfl_loss  Instances       Size\n",
            "       6/19      32.4G      1.831     0.7094      1.686         17        640: 100% 236/236 [01:48<00:00,  2.17it/s]\n",
            "                 Class     Images  Instances          P          R      mAP50   mAP50-95: 100% 54/54 [00:23<00:00,  2.30it/s]\n",
            "                   all       1722       7769      0.947      0.891      0.933      0.539\n",
            "\n",
            "      Epoch    GPU_mem   box_loss   cls_loss   dfl_loss  Instances       Size\n",
            "       7/19      32.4G      1.815     0.7147      1.676          8        640: 100% 236/236 [01:48<00:00,  2.17it/s]\n",
            "                 Class     Images  Instances          P          R      mAP50   mAP50-95: 100% 54/54 [00:23<00:00,  2.29it/s]\n",
            "                   all       1722       7769       0.95      0.897      0.938       0.54\n",
            "\n",
            "      Epoch    GPU_mem   box_loss   cls_loss   dfl_loss  Instances       Size\n",
            "       8/19      32.4G      1.788     0.6959      1.689          9        640: 100% 236/236 [01:49<00:00,  2.16it/s]\n",
            "                 Class     Images  Instances          P          R      mAP50   mAP50-95: 100% 54/54 [00:23<00:00,  2.30it/s]\n",
            "                   all       1722       7769      0.947      0.901      0.937      0.544\n",
            "\n",
            "      Epoch    GPU_mem   box_loss   cls_loss   dfl_loss  Instances       Size\n",
            "       9/19      32.4G      1.783     0.6768      1.688         17        640: 100% 236/236 [01:48<00:00,  2.17it/s]\n",
            "                 Class     Images  Instances          P          R      mAP50   mAP50-95: 100% 54/54 [00:23<00:00,  2.28it/s]\n",
            "                   all       1722       7769      0.949      0.902      0.939      0.553\n",
            "\n",
            "      Epoch    GPU_mem   box_loss   cls_loss   dfl_loss  Instances       Size\n",
            "      10/19      32.4G      1.757     0.6672      1.655          8        640: 100% 236/236 [01:48<00:00,  2.17it/s]\n",
            "                 Class     Images  Instances          P          R      mAP50   mAP50-95: 100% 54/54 [00:23<00:00,  2.28it/s]\n",
            "                   all       1722       7769       0.95      0.899       0.94      0.553\n",
            "\n",
            "      Epoch    GPU_mem   box_loss   cls_loss   dfl_loss  Instances       Size\n",
            "      11/19      32.4G      1.739     0.6613      1.626          5        640: 100% 236/236 [01:48<00:00,  2.17it/s]\n",
            "                 Class     Images  Instances          P          R      mAP50   mAP50-95: 100% 54/54 [00:23<00:00,  2.30it/s]\n",
            "                   all       1722       7769      0.951      0.897       0.94      0.558\n",
            "\n",
            "      Epoch    GPU_mem   box_loss   cls_loss   dfl_loss  Instances       Size\n",
            "      12/19      32.4G      1.718     0.6551      1.625         14        640: 100% 236/236 [01:48<00:00,  2.17it/s]\n",
            "                 Class     Images  Instances          P          R      mAP50   mAP50-95: 100% 54/54 [00:23<00:00,  2.28it/s]\n",
            "                   all       1722       7769      0.947      0.911      0.944      0.564\n",
            "\n",
            "      Epoch    GPU_mem   box_loss   cls_loss   dfl_loss  Instances       Size\n",
            "      13/19      32.4G      1.695     0.6438      1.617          3        640: 100% 236/236 [01:48<00:00,  2.18it/s]\n",
            "                 Class     Images  Instances          P          R      mAP50   mAP50-95: 100% 54/54 [00:23<00:00,  2.28it/s]\n",
            "                   all       1722       7769      0.948      0.904      0.942      0.565\n",
            "\n",
            "      Epoch    GPU_mem   box_loss   cls_loss   dfl_loss  Instances       Size\n",
            "      14/19      32.4G      1.692     0.6341      1.591          5        640: 100% 236/236 [01:48<00:00,  2.17it/s]\n",
            "                 Class     Images  Instances          P          R      mAP50   mAP50-95: 100% 54/54 [00:23<00:00,  2.31it/s]\n",
            "                   all       1722       7769      0.943      0.912      0.943      0.568\n",
            "\n",
            "      Epoch    GPU_mem   box_loss   cls_loss   dfl_loss  Instances       Size\n",
            "      15/19      32.4G      1.663     0.6241      1.599         11        640: 100% 236/236 [01:48<00:00,  2.17it/s]\n",
            "                 Class     Images  Instances          P          R      mAP50   mAP50-95: 100% 54/54 [00:23<00:00,  2.29it/s]\n",
            "                   all       1722       7769       0.95      0.906      0.944      0.571\n",
            "\n",
            "      Epoch    GPU_mem   box_loss   cls_loss   dfl_loss  Instances       Size\n",
            "      16/19      32.4G      1.638     0.6149      1.577         22        640: 100% 236/236 [01:48<00:00,  2.17it/s]\n",
            "                 Class     Images  Instances          P          R      mAP50   mAP50-95: 100% 54/54 [00:23<00:00,  2.27it/s]\n",
            "                   all       1722       7769      0.956      0.908      0.947      0.576\n",
            "\n",
            "      Epoch    GPU_mem   box_loss   cls_loss   dfl_loss  Instances       Size\n",
            "      17/19      32.4G      1.624     0.6061      1.574          9        640: 100% 236/236 [01:48<00:00,  2.17it/s]\n",
            "                 Class     Images  Instances          P          R      mAP50   mAP50-95: 100% 54/54 [00:23<00:00,  2.30it/s]\n",
            "                   all       1722       7769      0.953      0.908      0.946      0.575\n",
            "\n",
            "      Epoch    GPU_mem   box_loss   cls_loss   dfl_loss  Instances       Size\n",
            "      18/19      32.4G      1.603     0.6021      1.576         29        640: 100% 236/236 [01:48<00:00,  2.17it/s]\n",
            "                 Class     Images  Instances          P          R      mAP50   mAP50-95: 100% 54/54 [00:23<00:00,  2.29it/s]\n",
            "                   all       1722       7769      0.949      0.912      0.947      0.578\n",
            "\n",
            "      Epoch    GPU_mem   box_loss   cls_loss   dfl_loss  Instances       Size\n",
            "      19/19      32.4G      1.585     0.5909      1.561         15        640: 100% 236/236 [01:48<00:00,  2.17it/s]\n",
            "                 Class     Images  Instances          P          R      mAP50   mAP50-95: 100% 54/54 [00:23<00:00,  2.28it/s]\n",
            "                   all       1722       7769      0.949      0.913      0.948      0.577\n",
            "\n",
            "20 epochs completed in 0.765 hours.\n",
            "Optimizer stripped from runs/train/exp2/weights/last.pt, 140.0MB\n",
            "Optimizer stripped from runs/train/exp2/weights/best.pt, 140.0MB\n",
            "\n",
            "Validating runs/train/exp2/weights/best.pt...\n",
            "Fusing layers... \n",
            "yolov9-e summary: 839 layers, 68547814 parameters, 0 gradients, 240.7 GFLOPs\n",
            "                 Class     Images  Instances          P          R      mAP50   mAP50-95: 100% 54/54 [00:27<00:00,  1.98it/s]\n",
            "                   all       1722       7769      0.949      0.912      0.947      0.578\n",
            "Results saved to \u001b[1mruns/train/exp2\u001b[0m\n"
          ]
        }
      ]
    },
    {
      "cell_type": "code",
      "source": [
        "!python val_dual.py \\\n",
        "--img 640 --batch 16 \\\n",
        "--data /content/coco_transfer_learning.yaml \\\n",
        "--weights /content/yolov9/runs/train/exp2/weights/best.pt"
      ],
      "metadata": {
        "colab": {
          "base_uri": "https://localhost:8080/"
        },
        "id": "W5QoQfEsq9y0",
        "outputId": "285b600a-44b2-4c89-e58d-7ffec126d833"
      },
      "execution_count": null,
      "outputs": [
        {
          "output_type": "stream",
          "name": "stdout",
          "text": [
            "\u001b[34m\u001b[1mval_dual: \u001b[0mdata=/content/coco_transfer_learning.yaml, weights=['/gdrive/MyDrive/5.pt'], batch_size=16, imgsz=640, conf_thres=0.001, iou_thres=0.7, max_det=300, task=val, device=, workers=8, single_cls=False, augment=False, verbose=False, save_txt=False, save_hybrid=False, save_conf=False, save_json=False, project=runs/val, name=exp, exist_ok=False, half=False, dnn=False, min_items=0\n",
            "YOLO 🚀 v0.1-104-g5b1ea9a Python-3.10.12 torch-2.4.0+cu121 CUDA:0 (NVIDIA A100-SXM4-40GB, 40514MiB)\n",
            "\n",
            "/content/yolov9/models/experimental.py:243: FutureWarning: You are using `torch.load` with `weights_only=False` (the current default value), which uses the default pickle module implicitly. It is possible to construct malicious pickle data which will execute arbitrary code during unpickling (See https://github.com/pytorch/pytorch/blob/main/SECURITY.md#untrusted-models for more details). In a future release, the default value for `weights_only` will be flipped to `True`. This limits the functions that could be executed during unpickling. Arbitrary objects will no longer be allowed to be loaded via this mode unless they are explicitly allowlisted by the user via `torch.serialization.add_safe_globals`. We recommend you start setting `weights_only=True` for any use case where you don't have full control of the loaded file. Please open an issue on GitHub for any issues related to this experimental feature.\n",
            "  ckpt = torch.load(attempt_download(w), map_location='cpu')  # load\n",
            "Fusing layers... \n",
            "yolov9-e summary: 839 layers, 68547814 parameters, 0 gradients, 240.7 GFLOPs\n",
            "\u001b[34m\u001b[1mval: \u001b[0mScanning /gdrive/.shortcut-targets-by-id/1vm60fy0ismvMuhLfvW5phF0J1b9OKLLf/HRPlanes/YOLOV8/CORS_AD_HBB/val/labels.cache... 1722 images, 0 backgrounds, 0 corrupt: 100% 1722/1722 [00:00<?, ?it/s]\n",
            "                 Class     Images  Instances          P          R      mAP50   mAP50-95: 100% 108/108 [00:31<00:00,  3.39it/s]\n",
            "                   all       1722       7769     0.9494     0.9121     0.9471     0.5773\n",
            "Speed: 0.1ms pre-process, 11.1ms inference, 1.3ms NMS per image at shape (16, 3, 640, 640)\n",
            "\n",
            "Confusion Matrix:\n",
            "[[       7264         380]\n",
            " [        505           0]]\n",
            "Results saved to \u001b[1mruns/val/exp2\u001b[0m\n"
          ]
        }
      ]
    },
    {
      "cell_type": "markdown",
      "source": [
        "#### **1.2.3. Train and Validate Model 6**"
      ],
      "metadata": {
        "id": "kf3r-meGg4pj"
      }
    },
    {
      "cell_type": "code",
      "source": [
        "# @markdown ---\n",
        "\n",
        "IMAGE_SIZE = 640 # @param {type:\"integer\"}\n",
        "BATCH = 16 # @param {type:\"integer\"}\n",
        "# SGD, Adam, AdamW\n",
        "OPTIMIZER = 'AdamW' # @param {type:\"string\"}\n",
        "\n",
        "# @markdown ---"
      ],
      "metadata": {
        "cellView": "form",
        "id": "LQsuuYcpg4pk"
      },
      "execution_count": null,
      "outputs": []
    },
    {
      "cell_type": "markdown",
      "source": [
        "**IMPORTANT:** Before training, check hyperparameters in `/content/yolov9/data/hyps/hyp.scratch-high.yaml`."
      ],
      "metadata": {
        "id": "l-w8o8VKg4pl"
      }
    },
    {
      "cell_type": "code",
      "source": [
        "!python train_dual.py \\\n",
        "--batch-size {BATCH} --epochs 20 --imgsz {IMAGE_SIZE} --device 0 \\\n",
        "--data /content/coco_transfer_learning.yaml \\\n",
        "--weights {MODEL_6_PT} \\\n",
        "--cfg models/detect/yolov9-e.yaml \\\n",
        "--hyp hyp.scratch-high.yaml \\\n",
        "--optimizer {OPTIMIZER}"
      ],
      "metadata": {
        "colab": {
          "base_uri": "https://localhost:8080/"
        },
        "outputId": "69a5e572-8a28-4a5f-d577-e641e25c79c9",
        "id": "TqQM043zg4pm"
      },
      "execution_count": null,
      "outputs": [
        {
          "output_type": "stream",
          "name": "stdout",
          "text": [
            "\u001b[34m\u001b[1mtrain_dual: \u001b[0mweights=/gdrive/MyDrive/Datasets/HRPlanes/YOLOV8/YOLOv9e/Experiment_No_62/epoch_75_100/runs/train/exp/weights/best.pt, cfg=models/detect/yolov9-e.yaml, data=/content/coco_transfer_learning.yaml, hyp=hyp.scratch-high.yaml, epochs=20, batch_size=16, imgsz=640, rect=False, resume=False, nosave=False, noval=False, noautoanchor=False, noplots=False, evolve=None, bucket=, cache=None, image_weights=False, device=0, multi_scale=False, single_cls=False, optimizer=AdamW, sync_bn=False, workers=8, project=runs/train, name=exp, exist_ok=False, quad=False, cos_lr=False, flat_cos_lr=False, fixed_lr=False, label_smoothing=0.0, patience=100, freeze=[0], save_period=-1, seed=0, local_rank=-1, min_items=0, close_mosaic=0, entity=None, upload_dataset=False, bbox_interval=-1, artifact_alias=latest\n",
            "YOLO 🚀 v0.1-104-g5b1ea9a Python-3.10.12 torch-2.4.0+cu121 CUDA:0 (NVIDIA A100-SXM4-40GB, 40514MiB)\n",
            "\n",
            "\u001b[34m\u001b[1mhyperparameters: \u001b[0mlr0=0.01, lrf=0.01, momentum=0.937, weight_decay=0.0005, warmup_epochs=3.0, warmup_momentum=0.8, warmup_bias_lr=0.1, box=7.5, cls=0.5, cls_pw=1.0, obj=0.7, obj_pw=1.0, dfl=1.5, iou_t=0.2, anchor_t=5.0, fl_gamma=0.0, hsv_h=0.015, hsv_s=0.7, hsv_v=0.4, degrees=0.0, translate=0.1, scale=0.9, shear=0.0, perspective=0.0, flipud=0.0, fliplr=0.5, mosaic=1.0, mixup=0.15, copy_paste=0.3\n",
            "\u001b[34m\u001b[1mClearML: \u001b[0mrun 'pip install clearml' to automatically track, visualize and remotely train YOLO 🚀 in ClearML\n",
            "\u001b[34m\u001b[1mComet: \u001b[0mrun 'pip install comet_ml' to automatically track and visualize YOLO 🚀 runs in Comet\n",
            "\u001b[34m\u001b[1mTensorBoard: \u001b[0mStart with 'tensorboard --logdir runs/train', view at http://localhost:6006/\n",
            "/content/yolov9/train_dual.py:110: FutureWarning: You are using `torch.load` with `weights_only=False` (the current default value), which uses the default pickle module implicitly. It is possible to construct malicious pickle data which will execute arbitrary code during unpickling (See https://github.com/pytorch/pytorch/blob/main/SECURITY.md#untrusted-models for more details). In a future release, the default value for `weights_only` will be flipped to `True`. This limits the functions that could be executed during unpickling. Arbitrary objects will no longer be allowed to be loaded via this mode unless they are explicitly allowlisted by the user via `torch.serialization.add_safe_globals`. We recommend you start setting `weights_only=True` for any use case where you don't have full control of the loaded file. Please open an issue on GitHub for any issues related to this experimental feature.\n",
            "  ckpt = torch.load(weights, map_location='cpu')  # load checkpoint to CPU to avoid CUDA memory leak\n",
            "Overriding model.yaml nc=80 with nc=1\n",
            "\n",
            "                 from  n    params  module                                  arguments                     \n",
            "  0                -1  1         0  models.common.Silence                   []                            \n",
            "  1                -1  1      1856  models.common.Conv                      [3, 64, 3, 2]                 \n",
            "  2                -1  1     73984  models.common.Conv                      [64, 128, 3, 2]               \n",
            "  3                -1  1    252160  models.common.RepNCSPELAN4              [128, 256, 128, 64, 2]        \n",
            "  4                -1  1    164352  models.common.ADown                     [256, 256]                    \n",
            "  5                -1  1   1004032  models.common.RepNCSPELAN4              [256, 512, 256, 128, 2]       \n",
            "  6                -1  1    656384  models.common.ADown                     [512, 512]                    \n",
            "  7                -1  1   4006912  models.common.RepNCSPELAN4              [512, 1024, 512, 256, 2]      \n",
            "  8                -1  1   2623488  models.common.ADown                     [1024, 1024]                  \n",
            "  9                -1  1   4269056  models.common.RepNCSPELAN4              [1024, 1024, 512, 256, 2]     \n",
            " 10                 1  1      4160  models.common.CBLinear                  [64, [64]]                    \n",
            " 11                 3  1     49344  models.common.CBLinear                  [256, [64, 128]]              \n",
            " 12                 5  1    229824  models.common.CBLinear                  [512, [64, 128, 256]]         \n",
            " 13                 7  1    984000  models.common.CBLinear                  [1024, [64, 128, 256, 512]]   \n",
            " 14                 9  1   2033600  models.common.CBLinear                  [1024, [64, 128, 256, 512, 1024]]\n",
            " 15                 0  1      1856  models.common.Conv                      [3, 64, 3, 2]                 \n",
            " 16[10, 11, 12, 13, 14, -1]  1         0  models.common.CBFuse                    [[0, 0, 0, 0, 0]]             \n",
            " 17                -1  1     73984  models.common.Conv                      [64, 128, 3, 2]               \n",
            " 18[11, 12, 13, 14, -1]  1         0  models.common.CBFuse                    [[1, 1, 1, 1]]                \n",
            " 19                -1  1    252160  models.common.RepNCSPELAN4              [128, 256, 128, 64, 2]        \n",
            " 20                -1  1    164352  models.common.ADown                     [256, 256]                    \n",
            " 21  [12, 13, 14, -1]  1         0  models.common.CBFuse                    [[2, 2, 2]]                   \n",
            " 22                -1  1   1004032  models.common.RepNCSPELAN4              [256, 512, 256, 128, 2]       \n",
            " 23                -1  1    656384  models.common.ADown                     [512, 512]                    \n",
            " 24      [13, 14, -1]  1         0  models.common.CBFuse                    [[3, 3]]                      \n",
            " 25                -1  1   4006912  models.common.RepNCSPELAN4              [512, 1024, 512, 256, 2]      \n",
            " 26                -1  1   2623488  models.common.ADown                     [1024, 1024]                  \n",
            " 27          [14, -1]  1         0  models.common.CBFuse                    [[4]]                         \n",
            " 28                -1  1   4269056  models.common.RepNCSPELAN4              [1024, 1024, 512, 256, 2]     \n",
            " 29                 9  1    787968  models.common.SPPELAN                   [1024, 512, 256]              \n",
            " 30                -1  1         0  torch.nn.modules.upsampling.Upsample    [None, 2, 'nearest']          \n",
            " 31           [-1, 7]  1         0  models.common.Concat                    [1]                           \n",
            " 32                -1  1   4005888  models.common.RepNCSPELAN4              [1536, 512, 512, 256, 2]      \n",
            " 33                -1  1         0  torch.nn.modules.upsampling.Upsample    [None, 2, 'nearest']          \n",
            " 34           [-1, 5]  1         0  models.common.Concat                    [1]                           \n",
            " 35                -1  1   1069056  models.common.RepNCSPELAN4              [1024, 256, 256, 128, 2]      \n",
            " 36                28  1    787968  models.common.SPPELAN                   [1024, 512, 256]              \n",
            " 37                -1  1         0  torch.nn.modules.upsampling.Upsample    [None, 2, 'nearest']          \n",
            " 38          [-1, 25]  1         0  models.common.Concat                    [1]                           \n",
            " 39                -1  1   4005888  models.common.RepNCSPELAN4              [1536, 512, 512, 256, 2]      \n",
            " 40                -1  1         0  torch.nn.modules.upsampling.Upsample    [None, 2, 'nearest']          \n",
            " 41          [-1, 22]  1         0  models.common.Concat                    [1]                           \n",
            " 42                -1  1   1069056  models.common.RepNCSPELAN4              [1024, 256, 256, 128, 2]      \n",
            " 43                -1  1    164352  models.common.ADown                     [256, 256]                    \n",
            " 44          [-1, 39]  1         0  models.common.Concat                    [1]                           \n",
            " 45                -1  1   3612672  models.common.RepNCSPELAN4              [768, 512, 512, 256, 2]       \n",
            " 46                -1  1    656384  models.common.ADown                     [512, 512]                    \n",
            " 47          [-1, 36]  1         0  models.common.Concat                    [1]                           \n",
            " 48                -1  1  12860416  models.common.RepNCSPELAN4              [1024, 512, 1024, 512, 2]     \n",
            " 49[35, 32, 29, 42, 45, 48]  1  10982822  models.yolo.DualDDetect                 [1, [256, 512, 512, 256, 512, 512]]\n",
            "yolov9-e summary: 1475 layers, 69407846 parameters, 69407814 gradients, 244.8 GFLOPs\n",
            "\n",
            "Transferred 2172/2172 items from /gdrive/MyDrive/Datasets/HRPlanes/YOLOV8/YOLOv9e/Experiment_No_62/epoch_75_100/runs/train/exp/weights/best.pt\n",
            "\u001b[34m\u001b[1mAMP: \u001b[0mchecks passed ✅\n",
            "\u001b[34m\u001b[1moptimizer:\u001b[0m AdamW(lr=0.01) with parameter groups 356 weight(decay=0.0), 375 weight(decay=0.0005), 373 bias\n",
            "\u001b[34m\u001b[1malbumentations: \u001b[0mBlur(p=0.01, blur_limit=(3, 7)), MedianBlur(p=0.01, blur_limit=(3, 7)), ToGray(p=0.01), CLAHE(p=0.01, clip_limit=(1, 4.0), tile_grid_size=(8, 8))\n",
            "/usr/lib/python3.10/multiprocessing/popen_fork.py:66: RuntimeWarning: os.fork() was called. os.fork() is incompatible with multithreaded code, and JAX is multithreaded, so this will likely lead to a deadlock.\n",
            "  self.pid = os.fork()\n",
            "\u001b[34m\u001b[1mtrain: \u001b[0mScanning /gdrive/.shortcut-targets-by-id/1vm60fy0ismvMuhLfvW5phF0J1b9OKLLf/HRPlanes/YOLOV8/CORS_AD_HBB/train/labels... 3764 images, 0 backgrounds, 0 corrupt: 100% 3764/3764 [00:48<00:00, 77.76it/s] \n",
            "\u001b[34m\u001b[1mtrain: \u001b[0mNew cache created: /gdrive/.shortcut-targets-by-id/1vm60fy0ismvMuhLfvW5phF0J1b9OKLLf/HRPlanes/YOLOV8/CORS_AD_HBB/train/labels.cache\n",
            "\u001b[34m\u001b[1mval: \u001b[0mScanning /gdrive/.shortcut-targets-by-id/1vm60fy0ismvMuhLfvW5phF0J1b9OKLLf/HRPlanes/YOLOV8/CORS_AD_HBB/val/labels... 1722 images, 0 backgrounds, 0 corrupt: 100% 1722/1722 [00:21<00:00, 81.78it/s] \n",
            "\u001b[34m\u001b[1mval: \u001b[0mNew cache created: /gdrive/.shortcut-targets-by-id/1vm60fy0ismvMuhLfvW5phF0J1b9OKLLf/HRPlanes/YOLOV8/CORS_AD_HBB/val/labels.cache\n",
            "Plotting labels to runs/train/exp/labels.jpg... \n",
            "/content/yolov9/train_dual.py:255: FutureWarning: `torch.cuda.amp.GradScaler(args...)` is deprecated. Please use `torch.amp.GradScaler('cuda', args...)` instead.\n",
            "  scaler = torch.cuda.amp.GradScaler(enabled=amp)\n",
            "Image sizes 640 train, 640 val\n",
            "Using 8 dataloader workers\n",
            "Logging results to \u001b[1mruns/train/exp\u001b[0m\n",
            "Starting training for 20 epochs...\n",
            "\n",
            "      Epoch    GPU_mem   box_loss   cls_loss   dfl_loss  Instances       Size\n",
            "  0% 0/236 [00:00<?, ?it/s]/content/yolov9/train_dual.py:313: FutureWarning: `torch.cuda.amp.autocast(args...)` is deprecated. Please use `torch.amp.autocast('cuda', args...)` instead.\n",
            "  with torch.cuda.amp.autocast(amp):\n",
            "       0/19      22.5G       2.39       1.21      2.239        133        640:   0% 0/236 [00:02<?, ?it/s]WARNING ⚠️ TensorBoard graph visualization failure Only tensors, lists, tuples of tensors, or dictionary of tensors can be output from traced functions\n",
            "       0/19      22.5G       2.39       1.21      2.239        133        640:   0% 1/236 [00:07<29:58,  7.65s/it]/content/yolov9/train_dual.py:313: FutureWarning: `torch.cuda.amp.autocast(args...)` is deprecated. Please use `torch.amp.autocast('cuda', args...)` instead.\n",
            "  with torch.cuda.amp.autocast(amp):\n",
            "       0/19        27G      2.345      1.333      1.984         36        640: 100% 236/236 [02:19<00:00,  1.70it/s]\n",
            "                 Class     Images  Instances          P          R      mAP50   mAP50-95: 100% 54/54 [00:21<00:00,  2.52it/s]\n",
            "                   all       1722       7769     0.6184     0.3455     0.3429     0.1448\n",
            "\n",
            "Confusion Matrix:\n",
            "[[          0           0]\n",
            " [          0           0]]\n",
            "\n",
            "      Epoch    GPU_mem   box_loss   cls_loss   dfl_loss  Instances       Size\n",
            "       1/19      29.8G      2.482      1.559      2.049         21        640: 100% 236/236 [01:59<00:00,  1.98it/s]\n",
            "                 Class     Images  Instances          P          R      mAP50   mAP50-95: 100% 54/54 [00:24<00:00,  2.24it/s]\n",
            "                   all       1722       7769     0.8008     0.5978      0.638     0.2597\n",
            "\n",
            "Confusion Matrix:\n",
            "[[          0           0]\n",
            " [          0           0]]\n",
            "\n",
            "      Epoch    GPU_mem   box_loss   cls_loss   dfl_loss  Instances       Size\n",
            "       2/19      29.8G      2.446      1.503      2.021          3        640: 100% 236/236 [01:55<00:00,  2.04it/s]\n",
            "                 Class     Images  Instances          P          R      mAP50   mAP50-95: 100% 54/54 [00:23<00:00,  2.27it/s]\n",
            "                   all       1722       7769     0.7416     0.7222     0.7056     0.3305\n",
            "\n",
            "Confusion Matrix:\n",
            "[[          0           0]\n",
            " [          0           0]]\n",
            "\n",
            "      Epoch    GPU_mem   box_loss   cls_loss   dfl_loss  Instances       Size\n",
            "       3/19      29.8G      2.375       1.39      1.971         49        640: 100% 236/236 [01:54<00:00,  2.06it/s]\n",
            "                 Class     Images  Instances          P          R      mAP50   mAP50-95: 100% 54/54 [00:23<00:00,  2.27it/s]\n",
            "                   all       1722       7769     0.8688     0.7141     0.7501     0.3457\n",
            "\n",
            "Confusion Matrix:\n",
            "[[          0           0]\n",
            " [          0           0]]\n",
            "\n",
            "      Epoch    GPU_mem   box_loss   cls_loss   dfl_loss  Instances       Size\n",
            "       4/19      29.8G      2.327       1.35      1.954         23        640: 100% 236/236 [01:54<00:00,  2.06it/s]\n",
            "                 Class     Images  Instances          P          R      mAP50   mAP50-95: 100% 54/54 [00:23<00:00,  2.33it/s]\n",
            "                   all       1722       7769     0.8868      0.731     0.8058     0.3768\n",
            "\n",
            "Confusion Matrix:\n",
            "[[          0           0]\n",
            " [          0           0]]\n",
            "\n",
            "      Epoch    GPU_mem   box_loss   cls_loss   dfl_loss  Instances       Size\n",
            "       5/19      29.8G      2.285      1.259      1.944         18        640: 100% 236/236 [01:54<00:00,  2.06it/s]\n",
            "                 Class     Images  Instances          P          R      mAP50   mAP50-95: 100% 54/54 [00:23<00:00,  2.34it/s]\n",
            "                   all       1722       7769       0.89      0.749     0.8123     0.3813\n",
            "\n",
            "Confusion Matrix:\n",
            "[[          0           0]\n",
            " [          0           0]]\n",
            "\n",
            "      Epoch    GPU_mem   box_loss   cls_loss   dfl_loss  Instances       Size\n",
            "       6/19      29.8G       2.25      1.222      1.912         47        640: 100% 236/236 [01:54<00:00,  2.07it/s]\n",
            "                 Class     Images  Instances          P          R      mAP50   mAP50-95: 100% 54/54 [00:23<00:00,  2.31it/s]\n",
            "                   all       1722       7769     0.9012     0.7773     0.8452     0.4198\n",
            "\n",
            "Confusion Matrix:\n",
            "[[          0           0]\n",
            " [          0           0]]\n",
            "\n",
            "      Epoch    GPU_mem   box_loss   cls_loss   dfl_loss  Instances       Size\n",
            "       7/19      29.8G      2.237      1.205      1.902         26        640: 100% 236/236 [01:53<00:00,  2.07it/s]\n",
            "                 Class     Images  Instances          P          R      mAP50   mAP50-95: 100% 54/54 [00:23<00:00,  2.30it/s]\n",
            "                   all       1722       7769     0.9123     0.7816     0.8498     0.4307\n",
            "\n",
            "Confusion Matrix:\n",
            "[[          0           0]\n",
            " [          0           0]]\n",
            "\n",
            "      Epoch    GPU_mem   box_loss   cls_loss   dfl_loss  Instances       Size\n",
            "       8/19      29.8G      2.225      1.184        1.9         20        640: 100% 236/236 [01:54<00:00,  2.06it/s]\n",
            "                 Class     Images  Instances          P          R      mAP50   mAP50-95: 100% 54/54 [00:23<00:00,  2.34it/s]\n",
            "                   all       1722       7769     0.9102     0.7502      0.838     0.4267\n",
            "\n",
            "Confusion Matrix:\n",
            "[[          0           0]\n",
            " [          0           0]]\n",
            "\n",
            "      Epoch    GPU_mem   box_loss   cls_loss   dfl_loss  Instances       Size\n",
            "       9/19      29.8G      2.177      1.122      1.859         34        640: 100% 236/236 [01:54<00:00,  2.07it/s]\n",
            "                 Class     Images  Instances          P          R      mAP50   mAP50-95: 100% 54/54 [00:23<00:00,  2.32it/s]\n",
            "                   all       1722       7769     0.9217     0.8023     0.8667     0.4489\n",
            "\n",
            "Confusion Matrix:\n",
            "[[          0           0]\n",
            " [          0           0]]\n",
            "\n",
            "      Epoch    GPU_mem   box_loss   cls_loss   dfl_loss  Instances       Size\n",
            "      10/19      29.8G      2.139      1.078      1.849         42        640: 100% 236/236 [01:54<00:00,  2.07it/s]\n",
            "                 Class     Images  Instances          P          R      mAP50   mAP50-95: 100% 54/54 [00:23<00:00,  2.32it/s]\n",
            "                   all       1722       7769     0.9129     0.8202     0.8809     0.4578\n",
            "\n",
            "Confusion Matrix:\n",
            "[[          0           0]\n",
            " [          0           0]]\n",
            "\n",
            "      Epoch    GPU_mem   box_loss   cls_loss   dfl_loss  Instances       Size\n",
            "      11/19      29.8G      2.138      1.077      1.837         26        640: 100% 236/236 [01:54<00:00,  2.06it/s]\n",
            "                 Class     Images  Instances          P          R      mAP50   mAP50-95: 100% 54/54 [00:23<00:00,  2.33it/s]\n",
            "                   all       1722       7769     0.9243     0.8295     0.8881     0.4675\n",
            "\n",
            "Confusion Matrix:\n",
            "[[          0           0]\n",
            " [          0           0]]\n",
            "\n",
            "      Epoch    GPU_mem   box_loss   cls_loss   dfl_loss  Instances       Size\n",
            "      12/19      29.8G      2.076      1.028      1.811         29        640: 100% 236/236 [01:54<00:00,  2.06it/s]\n",
            "                 Class     Images  Instances          P          R      mAP50   mAP50-95: 100% 54/54 [00:23<00:00,  2.31it/s]\n",
            "                   all       1722       7769      0.918     0.8316     0.8885     0.4622\n",
            "\n",
            "Confusion Matrix:\n",
            "[[          0           0]\n",
            " [          0           0]]\n",
            "\n",
            "      Epoch    GPU_mem   box_loss   cls_loss   dfl_loss  Instances       Size\n",
            "      13/19      29.8G      2.055      1.006       1.79         36        640: 100% 236/236 [01:53<00:00,  2.07it/s]\n",
            "                 Class     Images  Instances          P          R      mAP50   mAP50-95: 100% 54/54 [00:23<00:00,  2.30it/s]\n",
            "                   all       1722       7769     0.9221       0.85     0.9066     0.4848\n",
            "\n",
            "Confusion Matrix:\n",
            "[[          0           0]\n",
            " [          0           0]]\n",
            "\n",
            "      Epoch    GPU_mem   box_loss   cls_loss   dfl_loss  Instances       Size\n",
            "      14/19      29.8G      2.086      1.002      1.809         18        640: 100% 236/236 [01:54<00:00,  2.06it/s]\n",
            "                 Class     Images  Instances          P          R      mAP50   mAP50-95: 100% 54/54 [00:23<00:00,  2.32it/s]\n",
            "                   all       1722       7769     0.9337     0.8487     0.9104     0.4945\n",
            "\n",
            "Confusion Matrix:\n",
            "[[          0           0]\n",
            " [          0           0]]\n",
            "\n",
            "      Epoch    GPU_mem   box_loss   cls_loss   dfl_loss  Instances       Size\n",
            "      15/19      29.8G      2.027     0.9731      1.778         34        640: 100% 236/236 [01:54<00:00,  2.07it/s]\n",
            "                 Class     Images  Instances          P          R      mAP50   mAP50-95: 100% 54/54 [00:23<00:00,  2.32it/s]\n",
            "                   all       1722       7769     0.9351     0.8496     0.9104     0.4991\n",
            "\n",
            "Confusion Matrix:\n",
            "[[          0           0]\n",
            " [          0           0]]\n",
            "\n",
            "      Epoch    GPU_mem   box_loss   cls_loss   dfl_loss  Instances       Size\n",
            "      16/19      29.8G      2.011     0.9675      1.778          6        640: 100% 236/236 [01:54<00:00,  2.06it/s]\n",
            "                 Class     Images  Instances          P          R      mAP50   mAP50-95: 100% 54/54 [00:23<00:00,  2.31it/s]\n",
            "                   all       1722       7769     0.9382      0.847     0.9113     0.4986\n",
            "\n",
            "Confusion Matrix:\n",
            "[[          0           0]\n",
            " [          0           0]]\n",
            "\n",
            "      Epoch    GPU_mem   box_loss   cls_loss   dfl_loss  Instances       Size\n",
            "      17/19      29.8G       1.98      0.921      1.765         13        640: 100% 236/236 [01:54<00:00,  2.07it/s]\n",
            "                 Class     Images  Instances          P          R      mAP50   mAP50-95: 100% 54/54 [00:23<00:00,  2.30it/s]\n",
            "                   all       1722       7769     0.9303     0.8704     0.9187     0.5044\n",
            "\n",
            "Confusion Matrix:\n",
            "[[          0           0]\n",
            " [          0           0]]\n",
            "\n",
            "      Epoch    GPU_mem   box_loss   cls_loss   dfl_loss  Instances       Size\n",
            "      18/19      29.8G      1.973     0.9214      1.735         59        640: 100% 236/236 [01:54<00:00,  2.06it/s]\n",
            "                 Class     Images  Instances          P          R      mAP50   mAP50-95: 100% 54/54 [00:23<00:00,  2.30it/s]\n",
            "                   all       1722       7769     0.9415     0.8681      0.922     0.5135\n",
            "\n",
            "Confusion Matrix:\n",
            "[[          0           0]\n",
            " [          0           0]]\n",
            "\n",
            "      Epoch    GPU_mem   box_loss   cls_loss   dfl_loss  Instances       Size\n",
            "      19/19      29.8G      1.965     0.8989      1.733         15        640: 100% 236/236 [01:53<00:00,  2.07it/s]\n",
            "                 Class     Images  Instances          P          R      mAP50   mAP50-95: 100% 54/54 [00:23<00:00,  2.30it/s]\n",
            "                   all       1722       7769     0.9443     0.8751     0.9249     0.5242\n",
            "\n",
            "Confusion Matrix:\n",
            "[[          0           0]\n",
            " [          0           0]]\n",
            "\n",
            "20 epochs completed in 0.811 hours.\n",
            "/content/yolov9/utils/general.py:999: FutureWarning: You are using `torch.load` with `weights_only=False` (the current default value), which uses the default pickle module implicitly. It is possible to construct malicious pickle data which will execute arbitrary code during unpickling (See https://github.com/pytorch/pytorch/blob/main/SECURITY.md#untrusted-models for more details). In a future release, the default value for `weights_only` will be flipped to `True`. This limits the functions that could be executed during unpickling. Arbitrary objects will no longer be allowed to be loaded via this mode unless they are explicitly allowlisted by the user via `torch.serialization.add_safe_globals`. We recommend you start setting `weights_only=True` for any use case where you don't have full control of the loaded file. Please open an issue on GitHub for any issues related to this experimental feature.\n",
            "  x = torch.load(f, map_location=torch.device('cpu'))\n",
            "Optimizer stripped from runs/train/exp/weights/last.pt, 140.0MB\n",
            "Optimizer stripped from runs/train/exp/weights/best.pt, 140.0MB\n",
            "\n",
            "Validating runs/train/exp/weights/best.pt...\n",
            "/content/yolov9/models/experimental.py:243: FutureWarning: You are using `torch.load` with `weights_only=False` (the current default value), which uses the default pickle module implicitly. It is possible to construct malicious pickle data which will execute arbitrary code during unpickling (See https://github.com/pytorch/pytorch/blob/main/SECURITY.md#untrusted-models for more details). In a future release, the default value for `weights_only` will be flipped to `True`. This limits the functions that could be executed during unpickling. Arbitrary objects will no longer be allowed to be loaded via this mode unless they are explicitly allowlisted by the user via `torch.serialization.add_safe_globals`. We recommend you start setting `weights_only=True` for any use case where you don't have full control of the loaded file. Please open an issue on GitHub for any issues related to this experimental feature.\n",
            "  ckpt = torch.load(attempt_download(w), map_location='cpu')  # load\n",
            "Fusing layers... \n",
            "yolov9-e summary: 839 layers, 68547814 parameters, 0 gradients, 240.7 GFLOPs\n",
            "                 Class     Images  Instances          P          R      mAP50   mAP50-95: 100% 54/54 [00:26<00:00,  2.01it/s]\n",
            "                   all       1722       7769     0.9437     0.8749     0.9247      0.524\n",
            "\n",
            "Confusion Matrix:\n",
            "[[       6995         458]\n",
            " [        774           0]]\n",
            "Results saved to \u001b[1mruns/train/exp\u001b[0m\n"
          ]
        }
      ]
    },
    {
      "cell_type": "code",
      "source": [
        "!python val_dual.py \\\n",
        "--img 640 --batch 16 \\\n",
        "--data /content/coco_transfer_learning.yaml \\\n",
        "--weights /content/yolov9/runs/train/exp3/weights/best.pt"
      ],
      "metadata": {
        "colab": {
          "base_uri": "https://localhost:8080/"
        },
        "outputId": "6adb266e-0e4f-4d46-81ac-407497e3cce9",
        "id": "ChucKOFFg4pn"
      },
      "execution_count": null,
      "outputs": [
        {
          "output_type": "stream",
          "name": "stdout",
          "text": [
            "\u001b[34m\u001b[1mval_dual: \u001b[0mdata=/content/coco_transfer_learning.yaml, weights=['/content/yolov9/runs/train/exp/weights/best.pt'], batch_size=16, imgsz=640, conf_thres=0.001, iou_thres=0.7, max_det=300, task=val, device=, workers=8, single_cls=False, augment=False, verbose=False, save_txt=False, save_hybrid=False, save_conf=False, save_json=False, project=runs/val, name=exp, exist_ok=False, half=False, dnn=False, min_items=0\n",
            "YOLO 🚀 v0.1-104-g5b1ea9a Python-3.10.12 torch-2.4.0+cu121 CUDA:0 (NVIDIA A100-SXM4-40GB, 40514MiB)\n",
            "\n",
            "/content/yolov9/models/experimental.py:243: FutureWarning: You are using `torch.load` with `weights_only=False` (the current default value), which uses the default pickle module implicitly. It is possible to construct malicious pickle data which will execute arbitrary code during unpickling (See https://github.com/pytorch/pytorch/blob/main/SECURITY.md#untrusted-models for more details). In a future release, the default value for `weights_only` will be flipped to `True`. This limits the functions that could be executed during unpickling. Arbitrary objects will no longer be allowed to be loaded via this mode unless they are explicitly allowlisted by the user via `torch.serialization.add_safe_globals`. We recommend you start setting `weights_only=True` for any use case where you don't have full control of the loaded file. Please open an issue on GitHub for any issues related to this experimental feature.\n",
            "  ckpt = torch.load(attempt_download(w), map_location='cpu')  # load\n",
            "Fusing layers... \n",
            "yolov9-e summary: 839 layers, 68547814 parameters, 0 gradients, 240.7 GFLOPs\n",
            "\u001b[34m\u001b[1mval: \u001b[0mScanning /gdrive/.shortcut-targets-by-id/1vm60fy0ismvMuhLfvW5phF0J1b9OKLLf/HRPlanes/YOLOV8/CORS_AD_HBB/val/labels.cache... 1722 images, 0 backgrounds, 0 corrupt: 100% 1722/1722 [00:00<?, ?it/s]\n",
            "                 Class     Images  Instances          P          R      mAP50   mAP50-95: 100% 108/108 [00:44<00:00,  2.43it/s]\n",
            "                   all       1722       7769     0.9452     0.8751     0.9255     0.5239\n",
            "Speed: 0.1ms pre-process, 11.1ms inference, 1.3ms NMS per image at shape (16, 3, 640, 640)\n",
            "\n",
            "Confusion Matrix:\n",
            "[[       6998         450]\n",
            " [        771           0]]\n",
            "Results saved to \u001b[1mruns/val/exp\u001b[0m\n"
          ]
        }
      ]
    },
    {
      "cell_type": "markdown",
      "source": [
        "## **3. Move Model Items into Google Drive**"
      ],
      "metadata": {
        "id": "bIPMTw3c9BV1"
      }
    },
    {
      "cell_type": "markdown",
      "source": [
        "Instead of uploading and downloading files, we can directly move them to the desired path."
      ],
      "metadata": {
        "id": "XE7YR2zw9DMs"
      }
    },
    {
      "cell_type": "code",
      "source": [
        "shutil.move(\"/content/runs/detect/\", \"/gdrive/MyDrive/Datasets/HRPlanes/YOLOV8/5-Transfer Learning/YOLOv8 Models/\")"
      ],
      "metadata": {
        "id": "oNDkAwhe9B-9",
        "colab": {
          "base_uri": "https://localhost:8080/",
          "height": 36
        },
        "outputId": "5ce1b490-cec7-463e-9678-abf8352d5691"
      },
      "execution_count": null,
      "outputs": [
        {
          "output_type": "execute_result",
          "data": {
            "text/plain": [
              "'/gdrive/MyDrive/Datasets/HRPlanes/YOLOV8/5-Transfer Learning/YOLOv8 Models/detect'"
            ],
            "application/vnd.google.colaboratory.intrinsic+json": {
              "type": "string"
            }
          },
          "metadata": {},
          "execution_count": 26
        }
      ]
    },
    {
      "cell_type": "code",
      "source": [
        "shutil.move(\"/content/yolov9/runs/\", \"/gdrive/MyDrive/Datasets/HRPlanes/YOLOV8/5-Transfer Learning/YOLOv9 Models/\")"
      ],
      "metadata": {
        "colab": {
          "base_uri": "https://localhost:8080/",
          "height": 36
        },
        "id": "p0ixFJLPemBm",
        "outputId": "af602e4e-6ea0-4fdd-a27f-1c508c520d51"
      },
      "execution_count": null,
      "outputs": [
        {
          "output_type": "execute_result",
          "data": {
            "text/plain": [
              "'/gdrive/MyDrive/Datasets/HRPlanes/YOLOV8/5-Transfer Learning/YOLOv9 Models/runs'"
            ],
            "application/vnd.google.colaboratory.intrinsic+json": {
              "type": "string"
            }
          },
          "metadata": {},
          "execution_count": 27
        }
      ]
    },
    {
      "cell_type": "markdown",
      "source": [
        "## **Conclusion**\n",
        "Transfer learning emerges as a promising approach to enhance the generalization performance of object detection models. By leveraging pre-trained models and adapting them to new datasets through targeted updates, we can effectively transfer knowledge across domains. The results obtained from this experiment shed light on the real-world applicability and reliability of YOLOv8 and YOLOv9 architectures beyond their original training domains."
      ],
      "metadata": {
        "id": "ATR7w3nGeBqY"
      }
    },
    {
      "cell_type": "code",
      "source": [
        "from datetime import datetime\n",
        "print(f\"Changes have been made to the project on {datetime.now().strftime('%Y-%m-%d %H:%M:%S')}\")"
      ],
      "metadata": {
        "id": "E6YQF5c39FKO",
        "colab": {
          "base_uri": "https://localhost:8080/"
        },
        "outputId": "e219822e-1ecd-472a-e970-9a449ae3c543"
      },
      "execution_count": null,
      "outputs": [
        {
          "output_type": "stream",
          "name": "stdout",
          "text": [
            "Changes have been made to the project on 2024-09-13 10:11:51\n"
          ]
        }
      ]
    }
  ]
}