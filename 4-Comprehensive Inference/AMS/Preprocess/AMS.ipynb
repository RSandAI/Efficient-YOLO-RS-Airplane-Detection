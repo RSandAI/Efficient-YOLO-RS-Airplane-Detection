{
  "nbformat": 4,
  "nbformat_minor": 0,
  "metadata": {
    "colab": {
      "provenance": []
    },
    "kernelspec": {
      "name": "python3",
      "display_name": "Python 3"
    },
    "language_info": {
      "name": "python"
    }
  },
  "cells": [
    {
      "cell_type": "markdown",
      "source": [
        "<h1 align=center><b>Amsterdam Schiphol Airport (AMS)</b></font></h1>\n",
        "\n",
        "<br>\n",
        "\n",
        "<p align=\"center\">\n",
        "    <img src=\"https://media.cnn.com/api/v1/images/stellar/prod/221006142028-04-amsterdam-schiphol-airport-mess.jpg?c=original\" height=500 width=1000 alt=\"Tokyo Haneda International Airport\">\n",
        "</p>\n",
        "\n",
        "<small>Picture Source: <a href=\"https://edition.cnn.com/travel/article/amsterdam-schiphol-airport-chaos/index.html\">CNN</a></small>\n",
        "\n",
        "<br>\n",
        "\n",
        "## **Statistical Overview of Amsterdam Schiphol Airport**\n",
        "\n",
        "Amsterdam Schiphol Airport (AMS) is one of Europe’s busiest airports and a key hub for international air travel. Its strategic location makes it a significant gateway to Europe and beyond.\n",
        "\n",
        "<br>\n",
        "\n",
        "Key Statistics:\n",
        "\n",
        "- **Total Passengers:** Approximately 71 million annually, positioning it among the top airports in Europe.\n",
        "- **IATA/ICAO Codes:** AMS/EHAM\n",
        "- **Location:** Amsterdam, Netherlands\n",
        "- **Rank Among European Airports:** Schiphol consistently ranks as one of the top three airports in Europe for passenger traffic, alongside London Heathrow and Frankfurt Airport.\n",
        "- **Growth Trends:** The airport has experienced steady growth in passenger numbers, with an average annual increase of around 5%, reflecting its expanding role in international air transport.\n"
      ],
      "metadata": {
        "id": "XHZFljR04zgs"
      }
    },
    {
      "cell_type": "markdown",
      "source": [
        "Make sure your runtime is **GPU** (_not_ CPU or TPU). And if it is an option, make sure you are using _Python 3_. You can select these settings by going to `Runtime -> Change runtime type -> Select the above mentioned settings and then press SAVE`."
      ],
      "metadata": {
        "id": "OEv90DRuHgpc"
      }
    },
    {
      "cell_type": "markdown",
      "source": [
        "## **0. Initial Steps**"
      ],
      "metadata": {
        "id": "dxUtNhL4i-C1"
      }
    },
    {
      "cell_type": "markdown",
      "source": [
        "### **0.1. Import and Download Libraries**"
      ],
      "metadata": {
        "id": "I4LNVxnJHJcu"
      }
    },
    {
      "cell_type": "code",
      "source": [
        "# from google.colab import drive\n",
        "# drive.mount('/gdrive')"
      ],
      "metadata": {
        "id": "EEW4of1-tFX0"
      },
      "execution_count": null,
      "outputs": []
    },
    {
      "cell_type": "code",
      "source": [
        "!pip install rasterio -q"
      ],
      "metadata": {
        "colab": {
          "base_uri": "https://localhost:8080/"
        },
        "id": "EQzPhfGayjqF",
        "outputId": "543bba51-49a9-4742-85fe-ae976a79bac5"
      },
      "execution_count": 1,
      "outputs": [
        {
          "output_type": "stream",
          "name": "stdout",
          "text": [
            "\u001b[2K   \u001b[90m━━━━━━━━━━━━━━━━━━━━━━━━━━━━━━━━━━━━━━━━\u001b[0m \u001b[32m22.2/22.2 MB\u001b[0m \u001b[31m59.7 MB/s\u001b[0m eta \u001b[36m0:00:00\u001b[0m\n",
            "\u001b[?25h"
          ]
        }
      ]
    },
    {
      "cell_type": "code",
      "source": [
        "import os\n",
        "import rasterio\n",
        "from rasterio.windows import Window"
      ],
      "metadata": {
        "id": "wqycK5_a8uhr"
      },
      "execution_count": 2,
      "outputs": []
    },
    {
      "cell_type": "markdown",
      "source": [
        "## **1. Pre-process Image**"
      ],
      "metadata": {
        "id": "4tte133A85Nc"
      }
    },
    {
      "cell_type": "code",
      "source": [
        "class ImageCropper:\n",
        "    @classmethod\n",
        "    def crop_and_save_multiple_images(cls, image_path, output_dir, level):\n",
        "        img_width, img_height = 8000, 8000\n",
        "\n",
        "        level_dir = os.path.join(output_dir, f\"Level{level}\")\n",
        "        os.makedirs(level_dir, exist_ok=True)\n",
        "\n",
        "        if level == 2:\n",
        "            x_length, y_length = img_width // 2, img_height // 2\n",
        "            row_min, row_max, col_min, col_max = 0, img_height, 0, img_width\n",
        "        elif level == 3:\n",
        "            x_length, y_length = img_width // 4, img_height // 4\n",
        "            row_min, row_max, col_min, col_max = 0, img_height, 0, img_width\n",
        "        else:\n",
        "            raise ValueError(\"Level must be either 2 or 3.\")\n",
        "\n",
        "        image_id = 1\n",
        "        with rasterio.open(image_path) as src:\n",
        "            for r in range(row_min, row_max, y_length):\n",
        "                for c in range(col_min, col_max, x_length):\n",
        "                    window = Window(c, r, x_length, y_length)\n",
        "                    transform = src.window_transform(window)\n",
        "                    profile = src.profile.copy()\n",
        "                    profile.update({\n",
        "                        \"height\": window.height,\n",
        "                        \"width\": window.width,\n",
        "                        \"transform\": transform\n",
        "                    })\n",
        "                    cropped_img = src.read(window=window)\n",
        "                    output_path = os.path.join(level_dir, f\"image_patch_{image_id}.tif\")\n",
        "                    with rasterio.open(output_path, \"w\", **profile) as dst:\n",
        "                        dst.write(cropped_img)\n",
        "                    print(f'image_patch_{image_id} cropped and saved as {output_path}!')\n",
        "                    image_id += 1"
      ],
      "metadata": {
        "id": "PP3SrcNyveAl"
      },
      "execution_count": 3,
      "outputs": []
    },
    {
      "cell_type": "code",
      "source": [
        "ImageCropper.crop_and_save_multiple_images('/content/AMS.tif', '/content/', level=2)"
      ],
      "metadata": {
        "colab": {
          "base_uri": "https://localhost:8080/"
        },
        "id": "1egr2CQDvnTG",
        "outputId": "3eb96421-f244-4138-cdc5-a4d537b8a06f"
      },
      "execution_count": 4,
      "outputs": [
        {
          "output_type": "stream",
          "name": "stdout",
          "text": [
            "image_patch_1 cropped and saved as /content/Level2/image_patch_1.tif!\n",
            "image_patch_2 cropped and saved as /content/Level2/image_patch_2.tif!\n",
            "image_patch_3 cropped and saved as /content/Level2/image_patch_3.tif!\n",
            "image_patch_4 cropped and saved as /content/Level2/image_patch_4.tif!\n"
          ]
        }
      ]
    },
    {
      "cell_type": "code",
      "source": [
        "ImageCropper.crop_and_save_multiple_images('/content/AMS.tif', '/content/', level=3)"
      ],
      "metadata": {
        "colab": {
          "base_uri": "https://localhost:8080/"
        },
        "id": "fvXC4uEavogw",
        "outputId": "0cdf3f36-966a-4e66-a43e-d44da8c8ee64"
      },
      "execution_count": 5,
      "outputs": [
        {
          "output_type": "stream",
          "name": "stdout",
          "text": [
            "image_patch_1 cropped and saved as /content/Level3/image_patch_1.tif!\n",
            "image_patch_2 cropped and saved as /content/Level3/image_patch_2.tif!\n",
            "image_patch_3 cropped and saved as /content/Level3/image_patch_3.tif!\n",
            "image_patch_4 cropped and saved as /content/Level3/image_patch_4.tif!\n",
            "image_patch_5 cropped and saved as /content/Level3/image_patch_5.tif!\n",
            "image_patch_6 cropped and saved as /content/Level3/image_patch_6.tif!\n",
            "image_patch_7 cropped and saved as /content/Level3/image_patch_7.tif!\n",
            "image_patch_8 cropped and saved as /content/Level3/image_patch_8.tif!\n",
            "image_patch_9 cropped and saved as /content/Level3/image_patch_9.tif!\n",
            "image_patch_10 cropped and saved as /content/Level3/image_patch_10.tif!\n",
            "image_patch_11 cropped and saved as /content/Level3/image_patch_11.tif!\n",
            "image_patch_12 cropped and saved as /content/Level3/image_patch_12.tif!\n",
            "image_patch_13 cropped and saved as /content/Level3/image_patch_13.tif!\n",
            "image_patch_14 cropped and saved as /content/Level3/image_patch_14.tif!\n",
            "image_patch_15 cropped and saved as /content/Level3/image_patch_15.tif!\n",
            "image_patch_16 cropped and saved as /content/Level3/image_patch_16.tif!\n"
          ]
        }
      ]
    },
    {
      "cell_type": "code",
      "source": [
        "!zip -r /content/Level2.zip /content/Level2\n",
        "!zip -r /content/Level3.zip /content/Level3"
      ],
      "metadata": {
        "colab": {
          "base_uri": "https://localhost:8080/"
        },
        "id": "7u1FYBmAv46i",
        "outputId": "5fa6fe80-91ee-45e3-c1d2-d56d62fbed64"
      },
      "execution_count": 6,
      "outputs": [
        {
          "output_type": "stream",
          "name": "stdout",
          "text": [
            "  adding: content/Level2/ (stored 0%)\n",
            "  adding: content/Level2/image_patch_3.tif (deflated 47%)\n",
            "  adding: content/Level2/image_patch_1.tif (deflated 54%)\n",
            "  adding: content/Level2/image_patch_2.tif (deflated 60%)\n",
            "  adding: content/Level2/image_patch_4.tif (deflated 57%)\n",
            "  adding: content/Level3/ (stored 0%)\n",
            "  adding: content/Level3/image_patch_6.tif (deflated 48%)\n",
            "  adding: content/Level3/image_patch_11.tif (deflated 58%)\n",
            "  adding: content/Level3/image_patch_13.tif (deflated 50%)\n",
            "  adding: content/Level3/image_patch_10.tif (deflated 48%)\n",
            "  adding: content/Level3/image_patch_7.tif (deflated 58%)\n",
            "  adding: content/Level3/image_patch_3.tif (deflated 57%)\n",
            "  adding: content/Level3/image_patch_5.tif (deflated 50%)\n",
            "  adding: content/Level3/image_patch_16.tif (deflated 59%)\n",
            "  adding: content/Level3/image_patch_8.tif (deflated 65%)\n",
            "  adding: content/Level3/image_patch_15.tif (deflated 58%)\n",
            "  adding: content/Level3/image_patch_1.tif (deflated 62%)\n",
            "  adding: content/Level3/image_patch_14.tif (deflated 52%)\n",
            "  adding: content/Level3/image_patch_9.tif (deflated 42%)\n",
            "  adding: content/Level3/image_patch_12.tif (deflated 60%)\n",
            "  adding: content/Level3/image_patch_2.tif (deflated 62%)\n",
            "  adding: content/Level3/image_patch_4.tif (deflated 66%)\n"
          ]
        }
      ]
    },
    {
      "cell_type": "code",
      "source": [
        "# from google.colab import files\n",
        "# files.download(\"/content/Level2.zip\")\n",
        "# files.download(\"/content/Level3.zip\")"
      ],
      "metadata": {
        "id": "B806JC4iv67F"
      },
      "execution_count": 16,
      "outputs": []
    }
  ]
}