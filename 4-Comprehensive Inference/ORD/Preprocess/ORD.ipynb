{
  "nbformat": 4,
  "nbformat_minor": 0,
  "metadata": {
    "colab": {
      "provenance": []
    },
    "kernelspec": {
      "name": "python3",
      "display_name": "Python 3"
    },
    "language_info": {
      "name": "python"
    }
  },
  "cells": [
    {
      "cell_type": "markdown",
      "source": [
        "<h1 align=center><b>Chicago O'Hare International Airport (ORD)</b></font></h1>\n",
        "\n",
        "<br>\n",
        "\n",
        "<p align=\"center\">\n",
        "    <img src=\"https://upgradedpoints.com/wp-content/uploads/2019/07/Chicago-O-Hare-International-Airport-Tower.jpeg\" height=500 width=1000 alt=\"Istanbul Airport\">\n",
        "</p>\n",
        "\n",
        "<small>Picture Source: <a href=\"https://upgradedpoints.com/\">Upgraded Points</a></small>\n",
        "\n",
        "<br>\n",
        "\n",
        "## **Statistical Overview of Chicago O'Hare International Airport**\n",
        "\n",
        "Chicago O'Hare International Airport (ORD) is one of the busiest airports in the United States, consistently ranking among the top in passenger traffic. In the most recent statistics, O'Hare is positioned as a vital hub for both domestic and international travel, contributing significantly to the aviation landscape.\n",
        "\n",
        "<br>\n",
        "\n",
        "Key Statistics:\n",
        "\n",
        "- **Total Passengers:** Approximately 83 million annually, making it one of the leading airports in passenger volume.\n",
        "- **IATA/ICAO Codes:** ORD/KORD\n",
        "- **Location:** Chicago, Illinois, USA\n",
        "- **Rank Among U.S. Airports:** O'Hare is often ranked within the top three airports for total passenger numbers in the United States, alongside Atlanta Hartsfield-Jackson and Los Angeles International Airport.\n",
        "- **Growth Trends:** O'Hare has experienced consistent year-over-year growth, with a recent percentage increase in passenger numbers reflecting the airport's resilience and capacity for expansion. In comparison, the airport has seen a growth rate similar to major international airports, with an average annual increase of around 5-6%.\n"
      ],
      "metadata": {
        "id": "XHZFljR04zgs"
      }
    },
    {
      "cell_type": "markdown",
      "source": [
        "Make sure your runtime is **GPU** (_not_ CPU or TPU). And if it is an option, make sure you are using _Python 3_. You can select these settings by going to `Runtime -> Change runtime type -> Select the above mentioned settings and then press SAVE`."
      ],
      "metadata": {
        "id": "OEv90DRuHgpc"
      }
    },
    {
      "cell_type": "markdown",
      "source": [
        "## **0. Initial Steps**"
      ],
      "metadata": {
        "id": "dxUtNhL4i-C1"
      }
    },
    {
      "cell_type": "markdown",
      "source": [
        "### **0.1. Import and Download Libraries**"
      ],
      "metadata": {
        "id": "I4LNVxnJHJcu"
      }
    },
    {
      "cell_type": "code",
      "source": [
        "# from google.colab import drive\n",
        "# drive.mount('/gdrive')"
      ],
      "metadata": {
        "id": "EEW4of1-tFX0"
      },
      "execution_count": null,
      "outputs": []
    },
    {
      "cell_type": "code",
      "source": [
        "!pip install rasterio -q"
      ],
      "metadata": {
        "colab": {
          "base_uri": "https://localhost:8080/"
        },
        "id": "EQzPhfGayjqF",
        "outputId": "c07eccf6-c45b-4851-c8b2-180fce4cbbc3"
      },
      "execution_count": 1,
      "outputs": [
        {
          "output_type": "stream",
          "name": "stdout",
          "text": [
            "\u001b[?25l   \u001b[90m━━━━━━━━━━━━━━━━━━━━━━━━━━━━━━━━━━━━━━━━\u001b[0m \u001b[32m0.0/22.2 MB\u001b[0m \u001b[31m?\u001b[0m eta \u001b[36m-:--:--\u001b[0m\r\u001b[2K   \u001b[91m╸\u001b[0m\u001b[90m━━━━━━━━━━━━━━━━━━━━━━━━━━━━━━━━━━━━━━━\u001b[0m \u001b[32m0.5/22.2 MB\u001b[0m \u001b[31m15.2 MB/s\u001b[0m eta \u001b[36m0:00:02\u001b[0m\r\u001b[2K   \u001b[91m━━━━━\u001b[0m\u001b[91m╸\u001b[0m\u001b[90m━━━━━━━━━━━━━━━━━━━━━━━━━━━━━━━━━━\u001b[0m \u001b[32m3.3/22.2 MB\u001b[0m \u001b[31m47.7 MB/s\u001b[0m eta \u001b[36m0:00:01\u001b[0m\r\u001b[2K   \u001b[91m━━━━━━━━━━━━━━\u001b[0m\u001b[91m╸\u001b[0m\u001b[90m━━━━━━━━━━━━━━━━━━━━━━━━━\u001b[0m \u001b[32m8.3/22.2 MB\u001b[0m \u001b[31m79.5 MB/s\u001b[0m eta \u001b[36m0:00:01\u001b[0m\r\u001b[2K   \u001b[91m━━━━━━━━━━━━━━━━━━━━━━━━━\u001b[0m\u001b[91m╸\u001b[0m\u001b[90m━━━━━━━━━━━━━━\u001b[0m \u001b[32m14.3/22.2 MB\u001b[0m \u001b[31m160.5 MB/s\u001b[0m eta \u001b[36m0:00:01\u001b[0m\r\u001b[2K   \u001b[91m━━━━━━━━━━━━━━━━━━━━━━━━━━━━━━━━━━━━\u001b[0m\u001b[91m╸\u001b[0m\u001b[90m━━━\u001b[0m \u001b[32m20.5/22.2 MB\u001b[0m \u001b[31m175.4 MB/s\u001b[0m eta \u001b[36m0:00:01\u001b[0m\r\u001b[2K   \u001b[91m━━━━━━━━━━━━━━━━━━━━━━━━━━━━━━━━━━━━━━━\u001b[0m\u001b[91m╸\u001b[0m \u001b[32m22.2/22.2 MB\u001b[0m \u001b[31m170.3 MB/s\u001b[0m eta \u001b[36m0:00:01\u001b[0m\r\u001b[2K   \u001b[91m━━━━━━━━━━━━━━━━━━━━━━━━━━━━━━━━━━━━━━━\u001b[0m\u001b[91m╸\u001b[0m \u001b[32m22.2/22.2 MB\u001b[0m \u001b[31m170.3 MB/s\u001b[0m eta \u001b[36m0:00:01\u001b[0m\r\u001b[2K   \u001b[90m━━━━━━━━━━━━━━━━━━━━━━━━━━━━━━━━━━━━━━━━\u001b[0m \u001b[32m22.2/22.2 MB\u001b[0m \u001b[31m68.3 MB/s\u001b[0m eta \u001b[36m0:00:00\u001b[0m\n",
            "\u001b[?25h"
          ]
        }
      ]
    },
    {
      "cell_type": "code",
      "source": [
        "import os\n",
        "import rasterio\n",
        "from rasterio.windows import Window"
      ],
      "metadata": {
        "id": "wqycK5_a8uhr"
      },
      "execution_count": 2,
      "outputs": []
    },
    {
      "cell_type": "markdown",
      "source": [
        "## **1. Pre-process Image**"
      ],
      "metadata": {
        "id": "4tte133A85Nc"
      }
    },
    {
      "cell_type": "code",
      "source": [
        "class ImageCropper:\n",
        "    @classmethod\n",
        "    def crop_and_save_multiple_images(cls, image_path, output_dir, level):\n",
        "        img_width, img_height = 8000, 8000\n",
        "\n",
        "        level_dir = os.path.join(output_dir, f\"Level{level}\")\n",
        "        os.makedirs(level_dir, exist_ok=True)\n",
        "\n",
        "        if level == 2:\n",
        "            x_length, y_length = img_width // 2, img_height // 2\n",
        "            row_min, row_max, col_min, col_max = 0, img_height, 0, img_width\n",
        "        elif level == 3:\n",
        "            x_length, y_length = img_width // 4, img_height // 4\n",
        "            row_min, row_max, col_min, col_max = 0, img_height, 0, img_width\n",
        "        else:\n",
        "            raise ValueError(\"Level must be either 2 or 3.\")\n",
        "\n",
        "        image_id = 1\n",
        "        with rasterio.open(image_path) as src:\n",
        "            for r in range(row_min, row_max, y_length):\n",
        "                for c in range(col_min, col_max, x_length):\n",
        "                    window = Window(c, r, x_length, y_length)\n",
        "                    transform = src.window_transform(window)\n",
        "                    profile = src.profile.copy()\n",
        "                    profile.update({\n",
        "                        \"height\": window.height,\n",
        "                        \"width\": window.width,\n",
        "                        \"transform\": transform\n",
        "                    })\n",
        "                    cropped_img = src.read(window=window)\n",
        "                    output_path = os.path.join(level_dir, f\"image_patch_{image_id}.tif\")\n",
        "                    with rasterio.open(output_path, \"w\", **profile) as dst:\n",
        "                        dst.write(cropped_img)\n",
        "                    print(f'image_patch_{image_id} cropped and saved as {output_path}!')\n",
        "                    image_id += 1"
      ],
      "metadata": {
        "id": "PP3SrcNyveAl"
      },
      "execution_count": 7,
      "outputs": []
    },
    {
      "cell_type": "code",
      "source": [
        "ImageCropper.crop_and_save_multiple_images('/content/ORD.tif', '/content/', level=2)"
      ],
      "metadata": {
        "colab": {
          "base_uri": "https://localhost:8080/"
        },
        "id": "1egr2CQDvnTG",
        "outputId": "d8334552-02a9-4da8-a52d-2e7c2908dd77"
      },
      "execution_count": 10,
      "outputs": [
        {
          "output_type": "stream",
          "name": "stdout",
          "text": [
            "image_patch_1 cropped and saved as /content/Level2/image_patch_1.tif!\n",
            "image_patch_2 cropped and saved as /content/Level2/image_patch_2.tif!\n",
            "image_patch_3 cropped and saved as /content/Level2/image_patch_3.tif!\n",
            "image_patch_4 cropped and saved as /content/Level2/image_patch_4.tif!\n"
          ]
        }
      ]
    },
    {
      "cell_type": "code",
      "source": [
        "ImageCropper.crop_and_save_multiple_images('/content/ORD.tif', '/content/', level=3)"
      ],
      "metadata": {
        "colab": {
          "base_uri": "https://localhost:8080/"
        },
        "id": "fvXC4uEavogw",
        "outputId": "cb4a5062-5154-4426-c2b3-3e59c693d82e"
      },
      "execution_count": 13,
      "outputs": [
        {
          "output_type": "stream",
          "name": "stdout",
          "text": [
            "image_patch_1 cropped and saved as /content/Level3/image_patch_1.tif!\n",
            "image_patch_2 cropped and saved as /content/Level3/image_patch_2.tif!\n",
            "image_patch_3 cropped and saved as /content/Level3/image_patch_3.tif!\n",
            "image_patch_4 cropped and saved as /content/Level3/image_patch_4.tif!\n",
            "image_patch_5 cropped and saved as /content/Level3/image_patch_5.tif!\n",
            "image_patch_6 cropped and saved as /content/Level3/image_patch_6.tif!\n",
            "image_patch_7 cropped and saved as /content/Level3/image_patch_7.tif!\n",
            "image_patch_8 cropped and saved as /content/Level3/image_patch_8.tif!\n",
            "image_patch_9 cropped and saved as /content/Level3/image_patch_9.tif!\n",
            "image_patch_10 cropped and saved as /content/Level3/image_patch_10.tif!\n",
            "image_patch_11 cropped and saved as /content/Level3/image_patch_11.tif!\n",
            "image_patch_12 cropped and saved as /content/Level3/image_patch_12.tif!\n",
            "image_patch_13 cropped and saved as /content/Level3/image_patch_13.tif!\n",
            "image_patch_14 cropped and saved as /content/Level3/image_patch_14.tif!\n",
            "image_patch_15 cropped and saved as /content/Level3/image_patch_15.tif!\n",
            "image_patch_16 cropped and saved as /content/Level3/image_patch_16.tif!\n"
          ]
        }
      ]
    },
    {
      "cell_type": "code",
      "source": [
        "!zip -r /content/Level2.zip /content/Level2\n",
        "!zip -r /content/Level3.zip /content/Level3"
      ],
      "metadata": {
        "colab": {
          "base_uri": "https://localhost:8080/"
        },
        "id": "7u1FYBmAv46i",
        "outputId": "1705d201-c4b0-4f6f-b77a-18cd8235240c"
      },
      "execution_count": 14,
      "outputs": [
        {
          "output_type": "stream",
          "name": "stdout",
          "text": [
            "  adding: content/Level2/ (stored 0%)\n",
            "  adding: content/Level2/image_patch_3.tif (deflated 42%)\n",
            "  adding: content/Level2/image_patch_1.tif (deflated 48%)\n",
            "  adding: content/Level2/image_patch_2.tif (deflated 46%)\n",
            "  adding: content/Level2/image_patch_4.tif (deflated 45%)\n",
            "  adding: content/Level3/ (stored 0%)\n",
            "  adding: content/Level3/image_patch_6.tif (deflated 46%)\n",
            "  adding: content/Level3/image_patch_11.tif (deflated 35%)\n",
            "  adding: content/Level3/image_patch_13.tif (deflated 44%)\n",
            "  adding: content/Level3/image_patch_10.tif (deflated 38%)\n",
            "  adding: content/Level3/image_patch_7.tif (deflated 43%)\n",
            "  adding: content/Level3/image_patch_3.tif (deflated 49%)\n",
            "  adding: content/Level3/image_patch_5.tif (deflated 47%)\n",
            "  adding: content/Level3/image_patch_16.tif (deflated 50%)\n",
            "  adding: content/Level3/image_patch_8.tif (deflated 44%)\n",
            "  adding: content/Level3/image_patch_15.tif (deflated 49%)\n",
            "  adding: content/Level3/image_patch_1.tif (deflated 52%)\n",
            "  adding: content/Level3/image_patch_14.tif (deflated 43%)\n",
            "  adding: content/Level3/image_patch_9.tif (deflated 47%)\n",
            "  adding: content/Level3/image_patch_12.tif (deflated 49%)\n",
            "  adding: content/Level3/image_patch_2.tif (deflated 52%)\n",
            "  adding: content/Level3/image_patch_4.tif (deflated 51%)\n"
          ]
        }
      ]
    },
    {
      "cell_type": "code",
      "source": [
        "# from google.colab import files\n",
        "# files.download(\"/content/Level2.zip\")\n",
        "# files.download(\"/content/Level3.zip\")"
      ],
      "metadata": {
        "id": "B806JC4iv67F"
      },
      "execution_count": 16,
      "outputs": []
    }
  ]
}