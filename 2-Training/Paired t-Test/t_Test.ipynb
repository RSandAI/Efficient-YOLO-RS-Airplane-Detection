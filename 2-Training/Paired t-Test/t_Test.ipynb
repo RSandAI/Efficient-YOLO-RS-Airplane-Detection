{
  "nbformat": 4,
  "nbformat_minor": 0,
  "metadata": {
    "colab": {
      "provenance": []
    },
    "kernelspec": {
      "name": "python3",
      "display_name": "Python 3"
    },
    "language_info": {
      "name": "python"
    }
  },
  "cells": [
    {
      "cell_type": "code",
      "source": [
        "import numpy as np\n",
        "import scipy.stats as stats"
      ],
      "metadata": {
        "id": "Z6BvV9HqdIwz"
      },
      "execution_count": null,
      "outputs": []
    },
    {
      "cell_type": "code",
      "execution_count": null,
      "metadata": {
        "id": "VMlDyl9EdBiZ"
      },
      "outputs": [],
      "source": [
        "data = np.array([\n",
        "    [0.0008, -0.0014,  0.0031, -0.0004, 0.0083,  6,  -6,  -4],\n",
        "    [-0.0015, -0.0009, -0.0020, -0.0003, 0.0006, -1,   1,  32],\n",
        "    [0.0002,  0.0009, -0.0006, -0.0002, 0.0077, 13, -13,  -7],\n",
        "    [0.0013,  0.0018,  0.0007,  0.0001, 0.0107,  8,  -8, -15],\n",
        "    [-0.0007, -0.0050,  0.0035, -0.0003, 0.0046, -4,   4,  -4],\n",
        "    [-0.0005, -0.0015,  0.0004,  0.0000, 0.0036,  3,  -3,  10]\n",
        "])\n",
        "\n",
        "metrics = [\"F1 Score\", \"Precision\", \"Recall\", \"mAP50\", \"mAP50-95\", \"TP\", \"FN\", \"FP\"]\n",
        "\n",
        "alpha = 0.05\n",
        "results = {metric: stats.ttest_1samp(data[:, i], 0) for i, metric in enumerate(metrics)}"
      ]
    },
    {
      "cell_type": "code",
      "source": [
        "for metric, (t_stat, p_value) in results.items():\n",
        "    print(f\"{metric}: t-statistic = {t_stat:.4f}, p-value = {p_value:.4f}\")\n",
        "\n",
        "    if p_value < alpha:\n",
        "        if t_stat > 0:\n",
        "            print(f\"  ➤ Significant positive difference: YOLOv9 outperforms YOLOv8 in {metric}.\\n\")\n",
        "        else:\n",
        "            print(f\"  ➤ Significant negative difference: YOLOv8 outperforms YOLOv9 in {metric}.\\n\")\n",
        "    else:\n",
        "        print(f\"  ➤ No significant difference: Performance is statistically similar for {metric}.\\n\")"
      ],
      "metadata": {
        "colab": {
          "base_uri": "https://localhost:8080/"
        },
        "id": "FZ6StN1pdOFM",
        "outputId": "28ecc574-d066-4700-c01a-97df9b1a18a2"
      },
      "execution_count": null,
      "outputs": [
        {
          "output_type": "stream",
          "name": "stdout",
          "text": [
            "F1 Score: t-statistic = -0.1581, p-value = 0.8806\n",
            "  ➤ No significant difference: Performance is statistically similar for F1 Score.\n",
            "\n",
            "Precision: t-statistic = -1.0548, p-value = 0.3398\n",
            "  ➤ No significant difference: Performance is statistically similar for Precision.\n",
            "\n",
            "Recall: t-statistic = 0.9807, p-value = 0.3718\n",
            "  ➤ No significant difference: Performance is statistically similar for Recall.\n",
            "\n",
            "mAP50: t-statistic = -2.3139, p-value = 0.0686\n",
            "  ➤ No significant difference: Performance is statistically similar for mAP50.\n",
            "\n",
            "mAP50-95: t-statistic = 3.9559, p-value = 0.0108\n",
            "  ➤ Significant positive difference: YOLOv9 outperforms YOLOv8 in mAP50-95.\n",
            "\n",
            "TP: t-statistic = 1.6520, p-value = 0.1594\n",
            "  ➤ No significant difference: Performance is statistically similar for TP.\n",
            "\n",
            "FN: t-statistic = -1.6520, p-value = 0.1594\n",
            "  ➤ No significant difference: Performance is statistically similar for FN.\n",
            "\n",
            "FP: t-statistic = 0.2921, p-value = 0.7819\n",
            "  ➤ No significant difference: Performance is statistically similar for FP.\n",
            "\n"
          ]
        }
      ]
    }
  ]
}